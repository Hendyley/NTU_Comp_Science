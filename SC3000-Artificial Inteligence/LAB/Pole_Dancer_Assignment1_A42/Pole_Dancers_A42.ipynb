{
  "cells": [
    {
      "cell_type": "markdown",
      "metadata": {
        "id": "view-in-github"
      },
      "source": [
        "<a href=\"https://drive.google.com/file/d/1UnY5oGW_B8I6Z-6Zm3LOKh2TQf2bct9d/view?usp=sharing\" target=\"_parent\"><img src=\"https://colab.research.google.com/assets/colab-badge.svg\" alt=\"Open In Colab\"/></a>"
      ]
    },
    {
      "cell_type": "markdown",
      "metadata": {
        "id": "7ZkbK80ft0RV"
      },
      "source": [
        "# <h1><center>**SC3000 Assignment 1 Balancing a Pole on a Cart**<center></h1>\n",
        "\n",
        "---\n",
        "\n",
        "\n",
        "<center><img src=\"https://miro.medium.com/max/694/1*iOceBp5ks4X_Bs-8vqT2qA.png\" href=\"https://miro.medium.com/max/694/1*iOceBp5ks4X_Bs-8vqT2qA.png\"></center>\n",
        "\n",
        "\n",
        "##### Source: https://miro.medium.com/max/694/1*iOceBp5ks4X_Bs-8vqT2qA.png\n",
        "\n",
        "<hr></hr>\n",
        "\n",
        "<h2><center><strong>Lab Group : A42<strong><center></h2>\n",
        "<h2><center>Group Name: <strong>PoleDancer</strong><center></h2>\n",
        "<ul>\n",
        "<li>Brendon Tan : Task 1, 2, 3, 4</li>\n",
        "<li>Hendy : Task 1, 2, 3, 4</li>\n",
        "<li>Wong Ri Hong : Task 1, 2, 3, 4</li>\n",
        "</ul>\n",
        "\n",
        "<hr></hr>\n",
        "\n",
        "\n",
        "Reference: https://medium.com/swlh/using-q-learning-for-openais-cartpole-v1-4a216ef237df\n"
      ]
    },
    {
      "cell_type": "markdown",
      "metadata": {
        "id": "UBiYOoesYMvr"
      },
      "source": [
        "### Installing dependencies:\n",
        "\n",
        "> Indented block\n",
        "\n"
      ]
    },
    {
      "cell_type": "markdown",
      "metadata": {
        "id": "YRl0Yr9pAHFY"
      },
      "source": [
        "###### Reference:\n",
        "###### Python Gymnasium source: https://gymnasium.farama.org/\n"
      ]
    },
    {
      "cell_type": "markdown",
      "source": [
        "## Install Library"
      ],
      "metadata": {
        "id": "RLSRPtmSCqrv"
      }
    },
    {
      "cell_type": "code",
      "execution_count": 37,
      "metadata": {
        "id": "xjdARNrQAuG9",
        "colab": {
          "base_uri": "https://localhost:8080/"
        },
        "outputId": "7d782aff-2cb9-4ca6-f11a-e78123d3e179"
      },
      "outputs": [
        {
          "output_type": "stream",
          "name": "stdout",
          "text": [
            "Looking in indexes: https://pypi.org/simple, https://us-python.pkg.dev/colab-wheels/public/simple/\n",
            "Requirement already satisfied: requests in /usr/local/lib/python3.9/dist-packages (2.27.1)\n",
            "Requirement already satisfied: idna<4,>=2.5 in /usr/local/lib/python3.9/dist-packages (from requests) (3.4)\n",
            "Requirement already satisfied: urllib3<1.27,>=1.21.1 in /usr/local/lib/python3.9/dist-packages (from requests) (1.26.15)\n",
            "Requirement already satisfied: certifi>=2017.4.17 in /usr/local/lib/python3.9/dist-packages (from requests) (2022.12.7)\n",
            "Requirement already satisfied: charset-normalizer~=2.0.0 in /usr/local/lib/python3.9/dist-packages (from requests) (2.0.12)\n",
            "Looking in indexes: https://pypi.org/simple, https://us-python.pkg.dev/colab-wheels/public/simple/\n",
            "Requirement already satisfied: scores in /usr/local/lib/python3.9/dist-packages (0.0.1)\n",
            "Looking in indexes: https://pypi.org/simple, https://us-python.pkg.dev/colab-wheels/public/simple/\n",
            "Requirement already satisfied: gymnasium in /usr/local/lib/python3.9/dist-packages (0.28.1)\n",
            "Requirement already satisfied: numpy>=1.21.0 in /usr/local/lib/python3.9/dist-packages (from gymnasium) (1.22.4)\n",
            "Requirement already satisfied: cloudpickle>=1.2.0 in /usr/local/lib/python3.9/dist-packages (from gymnasium) (2.2.1)\n",
            "Requirement already satisfied: importlib-metadata>=4.8.0 in /usr/local/lib/python3.9/dist-packages (from gymnasium) (6.1.0)\n",
            "Requirement already satisfied: farama-notifications>=0.0.1 in /usr/local/lib/python3.9/dist-packages (from gymnasium) (0.0.4)\n",
            "Requirement already satisfied: jax-jumpy>=1.0.0 in /usr/local/lib/python3.9/dist-packages (from gymnasium) (1.0.0)\n",
            "Requirement already satisfied: typing-extensions>=4.3.0 in /usr/local/lib/python3.9/dist-packages (from gymnasium) (4.5.0)\n",
            "Requirement already satisfied: zipp>=0.5 in /usr/local/lib/python3.9/dist-packages (from importlib-metadata>=4.8.0->gymnasium) (3.15.0)\n",
            "Looking in indexes: https://pypi.org/simple, https://us-python.pkg.dev/colab-wheels/public/simple/\n",
            "Requirement already satisfied: gym in /usr/local/lib/python3.9/dist-packages (0.25.2)\n",
            "Requirement already satisfied: pyvirtualdisplay in /usr/local/lib/python3.9/dist-packages (3.0)\n",
            "Requirement already satisfied: importlib-metadata>=4.8.0 in /usr/local/lib/python3.9/dist-packages (from gym) (6.1.0)\n",
            "Requirement already satisfied: gym-notices>=0.0.4 in /usr/local/lib/python3.9/dist-packages (from gym) (0.0.8)\n",
            "Requirement already satisfied: numpy>=1.18.0 in /usr/local/lib/python3.9/dist-packages (from gym) (1.22.4)\n",
            "Requirement already satisfied: cloudpickle>=1.2.0 in /usr/local/lib/python3.9/dist-packages (from gym) (2.2.1)\n",
            "Requirement already satisfied: zipp>=0.5 in /usr/local/lib/python3.9/dist-packages (from importlib-metadata>=4.8.0->gym) (3.15.0)\n",
            "Looking in indexes: https://pypi.org/simple, https://us-python.pkg.dev/colab-wheels/public/simple/\n",
            "Requirement already satisfied: gym in /usr/local/lib/python3.9/dist-packages (0.25.2)\n",
            "Requirement already satisfied: pyvirtualdisplay in /usr/local/lib/python3.9/dist-packages (3.0)\n",
            "Requirement already satisfied: numpy>=1.18.0 in /usr/local/lib/python3.9/dist-packages (from gym) (1.22.4)\n",
            "Requirement already satisfied: gym-notices>=0.0.4 in /usr/local/lib/python3.9/dist-packages (from gym) (0.0.8)\n",
            "Requirement already satisfied: cloudpickle>=1.2.0 in /usr/local/lib/python3.9/dist-packages (from gym) (2.2.1)\n",
            "Requirement already satisfied: importlib-metadata>=4.8.0 in /usr/local/lib/python3.9/dist-packages (from gym) (6.1.0)\n",
            "Requirement already satisfied: zipp>=0.5 in /usr/local/lib/python3.9/dist-packages (from importlib-metadata>=4.8.0->gym) (3.15.0)\n",
            "Looking in indexes: https://pypi.org/simple, https://us-python.pkg.dev/colab-wheels/public/simple/\n",
            "Requirement already satisfied: gym[classic_control] in /usr/local/lib/python3.9/dist-packages (0.25.2)\n",
            "Requirement already satisfied: numpy>=1.18.0 in /usr/local/lib/python3.9/dist-packages (from gym[classic_control]) (1.22.4)\n",
            "Requirement already satisfied: gym-notices>=0.0.4 in /usr/local/lib/python3.9/dist-packages (from gym[classic_control]) (0.0.8)\n",
            "Requirement already satisfied: importlib-metadata>=4.8.0 in /usr/local/lib/python3.9/dist-packages (from gym[classic_control]) (6.1.0)\n",
            "Requirement already satisfied: cloudpickle>=1.2.0 in /usr/local/lib/python3.9/dist-packages (from gym[classic_control]) (2.2.1)\n",
            "Requirement already satisfied: pygame==2.1.0 in /usr/local/lib/python3.9/dist-packages (from gym[classic_control]) (2.1.0)\n",
            "Requirement already satisfied: zipp>=0.5 in /usr/local/lib/python3.9/dist-packages (from importlib-metadata>=4.8.0->gym[classic_control]) (3.15.0)\n",
            "Looking in indexes: https://pypi.org/simple, https://us-python.pkg.dev/colab-wheels/public/simple/\n",
            "Requirement already satisfied: setuptools in /usr/local/lib/python3.9/dist-packages (67.6.1)\n"
          ]
        }
      ],
      "source": [
        "!pip install requests\n",
        "!pip install scores\n",
        "!pip install gymnasium\n",
        "\n",
        "!apt-get install -y xvfb python-opengl > /dev/null 2>&1\n",
        "!pip install gym pyvirtualdisplay\n",
        "!pip install gym pyvirtualdisplay\n",
        "!apt-get install -y xvfb python-opengl ffmpeg > /dev/null 2>&1\n",
        "!pip install gym[classic_control]\n",
        "!apt-get update > /dev/null 2>&1\n",
        "!apt-get install cmake > /dev/null 2>&1\n",
        "!pip install --upgrade setuptools 2>&1\n",
        "!pip install ez_setup > /dev/null 2>&1"
      ]
    },
    {
      "cell_type": "markdown",
      "metadata": {
        "id": "RwKbYeTgbaTA"
      },
      "source": [
        "## Importing dependencies and define helper functions"
      ]
    },
    {
      "cell_type": "code",
      "execution_count": 38,
      "metadata": {
        "id": "j6KpgCLGYWmj"
      },
      "outputs": [],
      "source": [
        "import gym\n",
        "from gym import logger as gymlogger\n",
        "from gym.wrappers import RecordVideo\n",
        "from gym.wrappers.monitoring import video_recorder\n",
        "gymlogger.set_level(40) #error only\n",
        "import numpy as np\n",
        "import random\n",
        "import matplotlib\n",
        "import matplotlib.pyplot as plt\n",
        "%matplotlib inline\n",
        "import math\n",
        "import glob\n",
        "import io\n",
        "import os\n",
        "import base64\n",
        "from IPython.display import HTML\n",
        "from IPython import display as ipythondisplay\n",
        "\n",
        "def show_video():\n",
        "  mp4list = glob.glob('video/*.mp4')\n",
        "  if len(mp4list) > 0:\n",
        "    mp4 = mp4list[0]\n",
        "    video = io.open(mp4, 'r+b').read()\n",
        "    encoded = base64.b64encode(video)\n",
        "    ipythondisplay.display(HTML(data='''<video alt=\"test\" autoplay \n",
        "                loop controls style=\"height: 400px;\">\n",
        "                <source src=\"data:video/mp4;base64,{0}\" type=\"video/mp4\" />\n",
        "             </video>'''.format(encoded.decode('ascii'))))\n",
        "  else: \n",
        "    print(\"Could not find video\")"
      ]
    },
    {
      "cell_type": "markdown",
      "metadata": {
        "id": "ehbqP9CXbmo7"
      },
      "source": [
        "## Loading CartPole environment"
      ]
    },
    {
      "cell_type": "markdown",
      "source": [
        "Create an instance of the CartPole environment to train and test our reinforcement learning agents."
      ],
      "metadata": {
        "id": "Z_cKLlCVjx7m"
      }
    },
    {
      "cell_type": "code",
      "execution_count": 39,
      "metadata": {
        "id": "Go12dH4qbwBy"
      },
      "outputs": [],
      "source": [
        "env = gym.make(\"CartPole-v1\")"
      ]
    },
    {
      "cell_type": "markdown",
      "metadata": {
        "id": "9XZ9g3xrcAXE"
      },
      "source": [
        "We can check the action and observation space of this environment. Discrete(2) means that there are two valid discrete actions: 0 & 1."
      ]
    },
    {
      "cell_type": "code",
      "execution_count": 40,
      "metadata": {
        "id": "ytxvVmLdcRyw",
        "colab": {
          "base_uri": "https://localhost:8080/"
        },
        "outputId": "005f5464-b41b-4490-f31d-0b90d91fb2d3"
      },
      "outputs": [
        {
          "output_type": "stream",
          "name": "stdout",
          "text": [
            "Discrete(2)\n"
          ]
        }
      ],
      "source": [
        "print(env.action_space)"
      ]
    },
    {
      "cell_type": "markdown",
      "metadata": {
        "id": "pVXGWi_Ncfg-"
      },
      "source": [
        "The observation space is given below. The first two arrays define the min and max values of the 4 observed values, corresponding to \\\n",
        "\n",
        "cart position, velocity and pole angle, angular velocity."
      ]
    },
    {
      "cell_type": "code",
      "execution_count": 41,
      "metadata": {
        "id": "DyqHr9I5cdkX",
        "colab": {
          "base_uri": "https://localhost:8080/"
        },
        "outputId": "fb16f370-8b13-41ec-e9f0-aa88a894a555"
      },
      "outputs": [
        {
          "output_type": "stream",
          "name": "stdout",
          "text": [
            "Box([-4.8000002e+00 -3.4028235e+38 -4.1887903e-01 -3.4028235e+38], [4.8000002e+00 3.4028235e+38 4.1887903e-01 3.4028235e+38], (4,), float32)\n"
          ]
        }
      ],
      "source": [
        "print(env.observation_space)"
      ]
    },
    {
      "cell_type": "markdown",
      "metadata": {
        "id": "HFOdaU2Gdyg0"
      },
      "source": [
        "We call each round of the pole-balancing game an \"episode\". At the start of each episode, make sure the environment is reset, which chooses a random initial state, e.g., pole slightly tilted to the right. This initialization can be achieved by the code below, which returns the observation of the initial state."
      ]
    },
    {
      "cell_type": "code",
      "execution_count": 42,
      "metadata": {
        "id": "VMr6qAqxdOsm",
        "colab": {
          "base_uri": "https://localhost:8080/"
        },
        "outputId": "da17bf63-86ec-4507-96c3-fb255e54f6f8"
      },
      "outputs": [
        {
          "output_type": "stream",
          "name": "stdout",
          "text": [
            "Initial observations: [-0.03632507 -0.01967221  0.01076161  0.04790096]\n",
            "Action Space Discrete(2)\n",
            "State Space Box([-4.8000002e+00 -3.4028235e+38 -4.1887903e-01 -3.4028235e+38], [4.8000002e+00 3.4028235e+38 4.1887903e-01 3.4028235e+38], (4,), float32)\n"
          ]
        }
      ],
      "source": [
        "observation = env.reset()\n",
        "print(\"Initial observations:\", observation)\n",
        "\n",
        "\n",
        "print(\"Action Space {}\".format(env.action_space))\n",
        "print(\"State Space {}\".format(env.observation_space))"
      ]
    },
    {
      "cell_type": "markdown",
      "metadata": {
        "id": "qnG2QdfbeZrI"
      },
      "source": [
        "For the CartPole environment, there are two possible actions: 0 for pushing to the left and 1 for pushing to the right.\n",
        "\n",
        "For example, we can push the cart to the left using code below, which returns the new observation, the current reward, an indicator of whether the game ends, and some additional information (not used in this project). For CartPole, the game ends when the pole is significantly tilted or you manage to balance the pole for 500 steps. You get exactly 1 reward for each step before the game ends (i.e., max cumulative reward is 500)."
      ]
    },
    {
      "cell_type": "code",
      "execution_count": 43,
      "metadata": {
        "id": "MmfMDvyYdWGk",
        "colab": {
          "base_uri": "https://localhost:8080/"
        },
        "outputId": "b54a5825-a707-4ae4-82d0-20aea808c733"
      },
      "outputs": [
        {
          "output_type": "stream",
          "name": "stdout",
          "text": [
            "New observations after choosing action 0: [-0.03671851 -0.2149468   0.01171962  0.34395975]\n",
            "Reward for this step: 1.0\n",
            "Is this round done? False\n"
          ]
        }
      ],
      "source": [
        "observation, reward, done, info = env.step(0)\n",
        "#observation, reward, done, info, terminated, truncated = env.step(0)\n",
        "print(\"New observations after choosing action 0:\", observation)\n",
        "print(\"Reward for this step:\", reward)\n",
        "print(\"Is this round done?\", done)"
      ]
    },
    {
      "cell_type": "markdown",
      "metadata": {
        "id": "tj0zCh59fhBb"
      },
      "source": [
        "Now we can play a full round of the game using a naive strategy (always choosing action 0), and show the cumulative reward in the round. Note that reward returned by env.step(*) corresponds to the reward for current step. So we have to accumulate the reward for each step. Clearly, the naive strategy performs poorly by surviving only a dozen of steps."
      ]
    },
    {
      "cell_type": "code",
      "execution_count": 44,
      "metadata": {
        "id": "AVucQVRwf6Jm",
        "colab": {
          "base_uri": "https://localhost:8080/"
        },
        "outputId": "10beacd6-1704-4ea6-a968-04bf50a619e0"
      },
      "outputs": [
        {
          "output_type": "stream",
          "name": "stdout",
          "text": [
            "Cumulative reward for this round: 9.0\n"
          ]
        }
      ],
      "source": [
        "env = gym.make(\"CartPole-v1\")\n",
        "observation = env.reset()\n",
        "cumulative_reward = 0\n",
        "done = False\n",
        "while not done:\n",
        "    observation, reward, done, info = env.step(0)\n",
        "    cumulative_reward += reward\n",
        "print(\"Cumulative reward for this round:\", cumulative_reward)"
      ]
    },
    {
      "cell_type": "markdown",
      "metadata": {
        "id": "2oIzK9SzhlWN"
      },
      "source": [
        "## Task 1: Development of an RL agent"
      ]
    },
    {
      "cell_type": "markdown",
      "metadata": {
        "id": "K8fMCGmW1qZu"
      },
      "source": [
        "## Initialize parameters for Q-learning"
      ]
    },
    {
      "cell_type": "code",
      "execution_count": 45,
      "metadata": {
        "id": "iMoBoR5KwrPJ",
        "scrolled": true,
        "colab": {
          "base_uri": "https://localhost:8080/"
        },
        "outputId": "ac542251-09ae-4402-85fc-e3e1829694a1"
      },
      "outputs": [
        {
          "output_type": "stream",
          "name": "stdout",
          "text": [
            "Initial observations: [ 0.01532218  0.04055052  0.00839458 -0.00849409]\n",
            "Action Space Discrete(2)\n",
            "State Space Box([-4.8000002e+00 -3.4028235e+38 -4.1887903e-01 -3.4028235e+38], [4.8000002e+00 3.4028235e+38 4.1887903e-01 3.4028235e+38], (4,), float32)\n"
          ]
        }
      ],
      "source": [
        "LEARNING_RATE = 0.1\n",
        "\n",
        "DISCOUNT = 0.95\n",
        "EPISODES = 8000\n",
        "total_reward = 0\n",
        "prior_reward = 0\n",
        "\n",
        "observation = env.reset()\n",
        "print(\"Initial observations:\", observation)\n",
        "print(\"Action Space {}\".format(env.action_space))\n",
        "print(\"State Space {}\".format(env.observation_space))\n",
        "\n",
        "\n",
        "Observation = [4, 4, 10, 40]\n",
        "np_array_win_size = np.array([2.5, 2.5, 0.1, 0.25])\n",
        "epsilon = 1\n",
        "epsilon_decay_value = 0.99944\n",
        "\n",
        "q_table = np.random.uniform(low=0, high=1, size=(Observation + [env.action_space.n]))"
      ]
    },
    {
      "cell_type": "markdown",
      "metadata": {
        "id": "QvNE_nOKRpmM"
      },
      "source": [
        "This is our Q-learning model. \n",
        "\n",
        "**We set our learning rate to be low at 0.1** because we do not want the agent to overreact to new information which will cause it to overwrite its old information. \n",
        "\n",
        "**Our discount rate is 0.95** to accommodate long term rewards.\n",
        "We determine the number of episodes of 8000 to be sufficient for the exploration (not too low/high) and exploitation for the Q-learning agent.\n",
        "We initialize total reward and prior reward to 0.\n",
        "\n",
        "\n",
        "**We set the observation space to be [4, 4, 10, 40]** as the first 2 variables (Cartpole position and cartpole velocity) are not as important as the next 2 variables (Pole Angle and pole velocity). It is unlikely that the cartpole will end up at the extreme ends of the boundary (edge of the display) and the velocity is bounded by a small range. Whereas for the pole, when it topples, it will definitely reach the extreme angles.\n",
        "\n",
        "\n",
        "Similarly, **we set the window size to be [2.5, 2.5, 0.1, 0.25]** for a similar reason, for more precision on pole angle and velocity as these 2 factors are more important then cartpole position and velocity.\n",
        "\n",
        "\n",
        "Initialisation of epsilon to 1 is because there is no information to exploit initially.\n",
        "**We determine that the epsilon decay value of 0.99944** is sufficient for our model’s exploitation.\n",
        "\n",
        "\n",
        "We initialize the Q-table with random values (0 or 1) for each state-action pair in the environment since the agent has no knowledge initially of which action to take to maximize the reward.\n",
        "\n"
      ]
    },
    {
      "cell_type": "code",
      "source": [
        "def get_discrete_state(state):\n",
        "    discrete_state = state/np_array_win_size + np.array([2,2,5,20])\n",
        "    return tuple(discrete_state.astype(int))"
      ],
      "metadata": {
        "id": "N-xa46OmhJLP"
      },
      "execution_count": 46,
      "outputs": []
    },
    {
      "cell_type": "markdown",
      "source": [
        "We define a function **get_discrete_state** to classify each state into a discrete state based on which window it fits into. \n",
        "\n",
        "**We add [2,2,5,20]** to the discrete array to avoid negative indexing in our Q-table."
      ],
      "metadata": {
        "id": "wdfyk11WhLaU"
      }
    },
    {
      "cell_type": "markdown",
      "metadata": {
        "id": "5Ps4cPki11Ce"
      },
      "source": [
        "## Q learning, train the agent on 8000 episodes"
      ]
    },
    {
      "cell_type": "code",
      "execution_count": 47,
      "metadata": {
        "id": "fIb9KVpE4lsI",
        "scrolled": false,
        "colab": {
          "base_uri": "https://localhost:8080/"
        },
        "outputId": "23db0295-e77b-4001-df76-1163e68f7d1e"
      },
      "outputs": [
        {
          "output_type": "stream",
          "name": "stdout",
          "text": [
            "Episode: 0\n",
            "Epsilon: 1\n",
            "Episode: 1000\n",
            "Epsilon: 1\n",
            "Mean Reward: 22.49\n",
            "Episode: 2000\n",
            "Epsilon: 1\n",
            "Mean Reward: 22.796\n",
            "Episode: 3000\n",
            "Epsilon: 1\n",
            "Mean Reward: 21.813\n",
            "Episode: 4000\n",
            "Epsilon: 0.7557244682042218\n",
            "Mean Reward: 26.978\n",
            "Episode: 5000\n",
            "Epsilon: 0.4318507955848175\n",
            "Mean Reward: 91.924\n",
            "Episode: 6000\n",
            "Epsilon: 0.24677659318136919\n",
            "Mean Reward: 259.355\n",
            "Episode: 7000\n",
            "Epsilon: 0.14085999176701425\n",
            "Mean Reward: 391.247\n",
            "Episode: 8000\n",
            "Epsilon: 0.08103584693015892\n",
            "Mean Reward: 419.569\n"
          ]
        }
      ],
      "source": [
        "env = gym.make(\"CartPole-v1\")\n",
        "for episode in range(EPISODES + 1): \n",
        "    \n",
        "    #Initializing starting state for each epsiode in the given environment range\n",
        "     \n",
        "    discrete_state = get_discrete_state(env.reset())   \n",
        "    done = False\n",
        "    episode_reward = 0 \n",
        "\n",
        "    if episode % 1000 == 0: \n",
        "        print(\"Episode: \" + str(episode))\n",
        "\n",
        "    while not done: \n",
        "\n",
        "        if np.random.random() > epsilon:\n",
        "\n",
        "            action = np.argmax(q_table[discrete_state]) # exploit\n",
        "        else:\n",
        "\n",
        "            action = np.random.randint(0, env.action_space.n) #explore\n",
        "\n",
        "        new_state, reward, done, info = env.step(action) #get new state and reward after taking the action above\n",
        "        episode_reward += reward # add reward to current episode total reward\n",
        "        new_discrete_state = get_discrete_state(new_state) # discretize the new state\n",
        "           \n",
        "        if not done: \n",
        "            max_future_q = np.max(q_table[new_discrete_state]) #get max reward from q table\n",
        "            \n",
        "            # Using bellman equation to calculate new q-value\n",
        "            \n",
        "            current_q = q_table[discrete_state + (action,)] \n",
        "\n",
        "            new_q = (1 - LEARNING_RATE) * current_q + LEARNING_RATE * (reward + DISCOUNT * max_future_q)\n",
        "\n",
        "            q_table[discrete_state + (action,)] = new_q\n",
        "\n",
        "        discrete_state = new_discrete_state # Replace current state with the new discrete state\n",
        "\n",
        "    if epsilon > 0.07:  # Prevent epsilon from dropping too low, so that the model will keep exploring even at high episodes\n",
        "        if episode_reward > prior_reward and episode > 3500: # If episode reward is greater than previous episode reward, it means that our model is improving, so we should exploit more\n",
        "                                                              #Set to 3500 for sufficient exploration before exploitation begins\n",
        "            epsilon = math.pow(epsilon_decay_value, episode - 3500) #Decreasing Epsilon value so that the model will exploit more\n",
        "\n",
        "    if episode % 1000 == 0:\n",
        "        print(\"Epsilon: \" + str(epsilon))\n",
        "\n",
        "    # For checking mean reward after every 1000 episodes                \n",
        "    total_reward += episode_reward \n",
        "    prior_reward = episode_reward # Save a record of the current episode reward to be used for comparison with future episode rewards\n",
        "\n",
        "    if episode % 1000 == 0 and episode > 999 : \n",
        "        mean_reward = total_reward / 1000\n",
        "        print(\"Mean Reward: \" + str(mean_reward))\n",
        "        total_reward = 0\n",
        "\n",
        "#print(q_table)\n",
        "env.close()"
      ]
    },
    {
      "cell_type": "markdown",
      "source": [
        "For each episode, we initialize the variables and environment.\n",
        "\n",
        "For each episode, while it is not done(out of bounds/pole tilted past angle) or truncated (episode length greater than 500), we generate a random value. If the value is greater than epsilon, the agent will exploit the values in the Q-table, otherwise it will explore and choose a random action.\n",
        "\n",
        "After taking the action, we get the values of the new state and increment the episode reward by, then we discretize the new state.\n",
        "\n",
        "If the new state is valid, we calculate the new Q-value for the state-action pair using the Bellman equation. Afterwards, we replace the old discrete state with the new one.\n",
        "\n",
        "We set the minimum value of epsilon at 0.07, so that the agent will always be able to explore even at higher episodes and not drop close to 0 due to the decay. In order to decrement epsilon, we check 2 conditions: If the current episode’s reward is greater than the previous, meaning the model is improving and the agent should exploit more; If the episode is greater than 3500, to ensure the agent has explored sufficiently initially before beginning to exploit, to avoid convergence to a suboptimal policy.\n",
        "\n",
        "We allow Exploitation with **np.argmax(q_table[discrete_state])**\n",
        "while also allow explotation **np.random.randint(0, env.action_space.n)** to ensure no unbiased assumption are made.\n",
        "\n",
        "Using bellman equation to calculate new q-value to populate the next value iteration.\n",
        "\n",
        "Before the end of each episode, we save a record of the current episode’s reward so it can be compared against in the next episode.\n"
      ],
      "metadata": {
        "id": "sXt6rPoxJvR7"
      }
    },
    {
      "cell_type": "markdown",
      "metadata": {
        "id": "qmqmO59gImWZ"
      },
      "source": [
        "# Reinforcment Learning agent based on the Q-values we obtained"
      ]
    },
    {
      "cell_type": "markdown",
      "source": [
        "We define our own Reinforcement learning agent as **Reinforcement_Learning_agent** function \n",
        "\n",
        "We use the max value of the Q table to return the action to be taken."
      ],
      "metadata": {
        "id": "9_PgRyzLmtAH"
      }
    },
    {
      "cell_type": "code",
      "execution_count": 48,
      "metadata": {
        "id": "8bjZnmbjT0Hd"
      },
      "outputs": [],
      "source": [
        "def Reinforcement_Learning_agent(state):\n",
        "    discrete_state=get_discrete_state(state)\n",
        "    action = np.argmax(q_table[discrete_state]) \n",
        "    return action"
      ]
    },
    {
      "cell_type": "markdown",
      "metadata": {
        "id": "RAi7KKwNiegR"
      },
      "source": [
        "For Task 1, we can show the observation and chosen action below:"
      ]
    },
    {
      "cell_type": "code",
      "execution_count": 49,
      "metadata": {
        "id": "ae2ia-vUiNKJ",
        "colab": {
          "base_uri": "https://localhost:8080/"
        },
        "outputId": "a0234748-0a2c-41de-85e1-2c03b0f9e943"
      },
      "outputs": [
        {
          "output_type": "stream",
          "name": "stdout",
          "text": [
            "Observation: [-0.01926352 -0.04444255  0.01948535 -0.02222965]\n",
            "Chosen action: 0\n"
          ]
        }
      ],
      "source": [
        "observation = env.reset()\n",
        "action = Reinforcement_Learning_agent(observation)\n",
        "print(\"Observation:\", observation)\n",
        "print(\"Chosen action:\", action)"
      ]
    },
    {
      "cell_type": "markdown",
      "metadata": {
        "id": "-XtIQ0Rti1gm"
      },
      "source": [
        "## Task 2: Demonstrate the effectiveness of the RL agent"
      ]
    },
    {
      "cell_type": "markdown",
      "metadata": {
        "id": "djBEShf0kGI4"
      },
      "source": [
        "For this task, use the agent developed in Task 1 to play the game for 100 episodes (refer to tutorial for how to play a round), record the cumulative reward for each round, and plot the reward for each round. A sample plotting code is given below. Note that you must include code to play for 100 episodes and use the code to obtain round_results for plotting. DO NOT record the round results in advance and paste the results to the notebook."
      ]
    },
    {
      "cell_type": "code",
      "execution_count": 50,
      "metadata": {
        "id": "xpwqe5jRxd9J"
      },
      "outputs": [],
      "source": [
        "env = gym.make(\"CartPole-v1\")\n",
        "test_episodes=100\n",
        "episode_results = []\n",
        "\n",
        "for test_episode in range(test_episodes):\n",
        "    initial_state=env.reset()\n",
        "    state=initial_state\n",
        "    cumulative_reward = 0\n",
        "    done=False\n",
        "    while not done:\n",
        "        action = Reinforcement_Learning_agent(state)\n",
        "        state, reward, done, info = env.step(action)\n",
        "        cumulative_reward += reward\n",
        "        #env.render()\n",
        "    episode_results.append(cumulative_reward)\n",
        "  #print(\"Cumulative reward for this round:\", cumulative_reward)\n",
        "\n"
      ]
    },
    {
      "cell_type": "code",
      "execution_count": 51,
      "metadata": {
        "id": "RZrCKywQi6CE",
        "scrolled": true,
        "colab": {
          "base_uri": "https://localhost:8080/",
          "height": 472
        },
        "outputId": "979e3598-1380-4781-8cab-c2807cfce95a"
      },
      "outputs": [
        {
          "output_type": "display_data",
          "data": {
            "text/plain": [
              "<Figure size 640x480 with 1 Axes>"
            ],
            "image/png": "[encoded data removed]"
          },
          "metadata": {}
        }
      ],
      "source": [
        "plt.plot(episode_results)\n",
        "plt.title('Cumulative reward for each episode')\n",
        "plt.ylabel('Cumulative reward')\n",
        "plt.xlabel('episode')\n",
        "plt.show()"
      ]
    },
    {
      "cell_type": "markdown",
      "metadata": {
        "id": "XndSYH7wlvn7"
      },
      "source": [
        "Print the average reward over the 100 episodes."
      ]
    },
    {
      "cell_type": "code",
      "execution_count": 53,
      "metadata": {
        "id": "VXkXH7YUzK82",
        "colab": {
          "base_uri": "https://localhost:8080/"
        },
        "outputId": "2d5c9d29-b3a8-4365-ace2-9d40d2aa2848"
      },
      "outputs": [
        {
          "output_type": "stream",
          "name": "stdout",
          "text": [
            "Average reward:  500.0\n",
            "Is my agent good enough? True\n"
          ]
        }
      ],
      "source": [
        "print(\"Average reward: \", sum(episode_results) / len(episode_results))\n",
        "print(\"Is my agent good enough?\", sum(episode_results) / len(episode_results) > 195)"
      ]
    },
    {
      "cell_type": "markdown",
      "metadata": {
        "id": "Yg0DCT38lFA6"
      },
      "source": [
        "## Task 3: Render one episode played by the agent"
      ]
    },
    {
      "cell_type": "markdown",
      "metadata": {
        "id": "vx1awMr9lc_w"
      },
      "source": [
        "Plug your agent to the code below to obtain rendered result."
      ]
    },
    {
      "cell_type": "code",
      "execution_count": 54,
      "metadata": {
        "id": "LYyavfbIa47D",
        "scrolled": false,
        "colab": {
          "base_uri": "https://localhost:8080/",
          "height": 474
        },
        "outputId": "760cd519-001e-4be4-9d95-b7846ce6cbf2"
      },
      "outputs": [
        {
          "output_type": "stream",
          "name": "stdout",
          "text": [
            "<RecordVideo<TimeLimit<OrderEnforcing<StepAPICompatibility<PassiveEnvChecker<CartPoleEnv<CartPole-v1>>>>>>>\n",
            "500\n",
            "500\n"
          ]
        },
        {
          "output_type": "display_data",
          "data": {
            "text/plain": [
              "<IPython.core.display.HTML object>"
            ],
            "text/html": [
              "<video alt=\"test\" autoplay \n",
              "                loop controls style=\"height: 400px;\">\n",
              "                <source src=\"data:video/mp4;base64,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\" type=\"video/mp4\" />\n",
              "             </video>"
            ]
          },
          "metadata": {}
        }
      ],
      "source": [
        "env = RecordVideo(gym.make(\"CartPole-v1\"), \"./video\")\n",
        "print(env)\n",
        "initial_observation = env.reset()\n",
        "observation=initial_observation\n",
        "i = 0\n",
        "done=False\n",
        "while not done:\n",
        "    i += 1\n",
        "    env.render()\n",
        "    #your agent goes here\n",
        "    action = Reinforcement_Learning_agent(observation)\n",
        "    observation, reward, done, info = env.step(action)\n",
        "    if done: \n",
        "        print(i)\n",
        "        break;    \n",
        "print(i)\n",
        "env.close()\n",
        "show_video()\n",
        "\n"
      ]
    },
    {
      "cell_type": "markdown",
      "metadata": {
        "id": "qCHm4u6q7gei"
      },
      "source": [
        "## Task 4: Format the Jupyter notebook by including step-by-step instruction and explanation"
      ]
    },
    {
      "cell_type": "markdown",
      "source": [
        "**Done**"
      ],
      "metadata": {
        "id": "6Cc6USTjocX7"
      }
    }
  ],
  "metadata": {
    "colab": {
      "provenance": []
    },
    "kernelspec": {
      "display_name": "Python 3 (ipykernel)",
      "language": "python",
      "name": "python3"
    },
    "language_info": {
      "codemirror_mode": {
        "name": "ipython",
        "version": 3
      },
      "file_extension": ".py",
      "mimetype": "text/x-python",
      "name": "python",
      "nbconvert_exporter": "python",
      "pygments_lexer": "ipython3",
      "version": "3.9.7"
    },
    "accelerator": "GPU",
    "gpuClass": "standard"
  },
  "nbformat": 4,
  "nbformat_minor": 0
}