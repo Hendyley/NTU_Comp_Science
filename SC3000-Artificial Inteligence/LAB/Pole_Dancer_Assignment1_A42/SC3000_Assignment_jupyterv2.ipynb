{
 "cells": [
  {
   "cell_type": "markdown",
   "metadata": {
    "id": "view-in-github"
   },
   "source": [
    "<a href=\"https://colab.research.google.com/github/Hendyley/Pole_Dancer/blob/main/SC3000_Assignment.ipynb\" target=\"_parent\"><img src=\"https://colab.research.google.com/assets/colab-badge.svg\" alt=\"Open In Colab\"/></a>"
   ]
  },
  {
   "cell_type": "markdown",
   "metadata": {
    "id": "7ZkbK80ft0RV"
   },
   "source": [
    "# <h1><center>**SC3000 Assignment 1 Balancing a Pole on a Cart**<center></h1>\n",
    "\n",
    "---\n",
    "\n",
    "<center><img src=\"https://miro.medium.com/max/694/1*iOceBp5ks4X_Bs-8vqT2qA.png\" href=\"https://miro.medium.com/max/694/1*iOceBp5ks4X_Bs-8vqT2qA.png\"></center>\n",
    "\n",
    "\n",
    "##### Source: https://miro.medium.com/max/694/1*iOceBp5ks4X_Bs-8vqT2qA.png\n"
   ]
  },
  {
   "cell_type": "markdown",
   "metadata": {
    "id": "UBiYOoesYMvr"
   },
   "source": [
    "### Installing dependencies:\n",
    "\n",
    "> Indented block\n",
    "\n"
   ]
  },
  {
   "cell_type": "markdown",
   "metadata": {
    "id": "YRl0Yr9pAHFY"
   },
   "source": [
    "###### Reference:\n",
    "###### Python Gymnasium source: https://gymnasium.farama.org/\n"
   ]
  },
  {
   "cell_type": "code",
   "execution_count": 1,
   "metadata": {
    "colab": {
     "base_uri": "https://localhost:8080/"
    },
    "executionInfo": {
     "elapsed": 21277,
     "status": "ok",
     "timestamp": 1678257139827,
     "user": {
      "displayName": "Hendy Lim",
      "userId": "00061580727958582383"
     },
     "user_tz": -480
    },
    "id": "xjdARNrQAuG9",
    "outputId": "773b6646-e6b3-41d1-d58a-c0ab346c3d88"
   },
   "outputs": [
    {
     "name": "stdout",
     "output_type": "stream",
     "text": [
      "Requirement already satisfied: requests in c:\\users\\hendy\\anaconda3\\lib\\site-packages (2.26.0)\n",
      "Requirement already satisfied: certifi>=2017.4.17 in c:\\users\\hendy\\anaconda3\\lib\\site-packages (from requests) (2021.10.8)\n",
      "Requirement already satisfied: charset-normalizer~=2.0.0 in c:\\users\\hendy\\anaconda3\\lib\\site-packages (from requests) (2.0.4)\n",
      "Requirement already satisfied: urllib3<1.27,>=1.21.1 in c:\\users\\hendy\\anaconda3\\lib\\site-packages (from requests) (1.26.7)\n",
      "Requirement already satisfied: idna<4,>=2.5 in c:\\users\\hendy\\anaconda3\\lib\\site-packages (from requests) (3.2)\n",
      "Requirement already satisfied: setuptools in c:\\users\\hendy\\anaconda3\\lib\\site-packages (67.5.1)\n",
      "Requirement already satisfied: scores in c:\\users\\hendy\\anaconda3\\lib\\site-packages (0.0.1)\n",
      "Requirement already satisfied: gymnasium in c:\\users\\hendy\\anaconda3\\lib\\site-packages (0.27.1)\n",
      "Requirement already satisfied: cloudpickle>=1.2.0 in c:\\users\\hendy\\anaconda3\\lib\\site-packages (from gymnasium) (2.0.0)\n",
      "Requirement already satisfied: typing-extensions>=4.3.0 in c:\\users\\hendy\\anaconda3\\lib\\site-packages (from gymnasium) (4.5.0)\n",
      "Requirement already satisfied: importlib-metadata>=4.8.0 in c:\\users\\hendy\\anaconda3\\lib\\site-packages (from gymnasium) (4.8.1)\n",
      "Requirement already satisfied: numpy>=1.21.0 in c:\\users\\hendy\\anaconda3\\lib\\site-packages (from gymnasium) (1.24.2)\n",
      "Requirement already satisfied: gymnasium-notices>=0.0.1 in c:\\users\\hendy\\anaconda3\\lib\\site-packages (from gymnasium) (0.0.1)\n",
      "Requirement already satisfied: jax-jumpy>=0.2.0 in c:\\users\\hendy\\anaconda3\\lib\\site-packages (from gymnasium) (0.2.0)\n",
      "Requirement already satisfied: zipp>=0.5 in c:\\users\\hendy\\anaconda3\\lib\\site-packages (from importlib-metadata>=4.8.0->gymnasium) (3.6.0)\n",
      "Collecting Box2D\n",
      "  Using cached Box2D-2.3.2.tar.gz (427 kB)\n",
      "Building wheels for collected packages: Box2D\n",
      "  Building wheel for Box2D (setup.py): started\n",
      "  Building wheel for Box2D (setup.py): finished with status 'error'\n",
      "  Running setup.py clean for Box2D\n",
      "Failed to build Box2D\n",
      "Installing collected packages: Box2D\n",
      "    Running setup.py install for Box2D: started\n",
      "    Running setup.py install for Box2D: finished with status 'error'\n"
     ]
    },
    {
     "name": "stderr",
     "output_type": "stream",
     "text": [
      "  ERROR: Command errored out with exit status 1:\n",
      "   command: 'C:\\Users\\Hendy\\anaconda3\\python.exe' -u -c 'import io, os, sys, setuptools, tokenize; sys.argv[0] = '\"'\"'C:\\\\Users\\\\Hendy\\\\AppData\\\\Local\\\\Temp\\\\pip-install-janhv9bx\\\\box2d_6ac67776caaf4153bd85b3ee324e6527\\\\setup.py'\"'\"'; __file__='\"'\"'C:\\\\Users\\\\Hendy\\\\AppData\\\\Local\\\\Temp\\\\pip-install-janhv9bx\\\\box2d_6ac67776caaf4153bd85b3ee324e6527\\\\setup.py'\"'\"';f = getattr(tokenize, '\"'\"'open'\"'\"', open)(__file__) if os.path.exists(__file__) else io.StringIO('\"'\"'from setuptools import setup; setup()'\"'\"');code = f.read().replace('\"'\"'\\r\\n'\"'\"', '\"'\"'\\n'\"'\"');f.close();exec(compile(code, __file__, '\"'\"'exec'\"'\"'))' bdist_wheel -d 'C:\\Users\\Hendy\\AppData\\Local\\Temp\\pip-wheel-6enuff60'\n",
      "       cwd: C:\\Users\\Hendy\\AppData\\Local\\Temp\\pip-install-janhv9bx\\box2d_6ac67776caaf4153bd85b3ee324e6527\\\n",
      "  Complete output (16 lines):\n",
      "  Using setuptools (version 67.5.1).\n",
      "  running bdist_wheel\n",
      "  running build\n",
      "  running build_py\n",
      "  creating build\n",
      "  creating build\\lib.win-amd64-cpython-39\n",
      "  creating build\\lib.win-amd64-cpython-39\\Box2D\n",
      "  copying library\\Box2D\\Box2D.py -> build\\lib.win-amd64-cpython-39\\Box2D\n",
      "  copying library\\Box2D\\__init__.py -> build\\lib.win-amd64-cpython-39\\Box2D\n",
      "  creating build\\lib.win-amd64-cpython-39\\Box2D\\b2\n",
      "  copying library\\Box2D\\b2\\__init__.py -> build\\lib.win-amd64-cpython-39\\Box2D\\b2\n",
      "  running build_ext\n",
      "  building 'Box2D._Box2D' extension\n",
      "  swigging Box2D\\Box2D.i to Box2D\\Box2D_wrap.cpp\n",
      "  swig.exe -python -c++ -IBox2D -small -O -includeall -ignoremissing -w201 -globals b2Globals -outdir library\\Box2D -keyword -w511 -D_SWIG_KWARGS -o Box2D\\Box2D_wrap.cpp Box2D\\Box2D.i\n",
      "  error: command 'swig.exe' failed: None\n",
      "  ----------------------------------------\n",
      "  ERROR: Failed building wheel for Box2D\n",
      "    ERROR: Command errored out with exit status 1:\n",
      "     command: 'C:\\Users\\Hendy\\anaconda3\\python.exe' -u -c 'import io, os, sys, setuptools, tokenize; sys.argv[0] = '\"'\"'C:\\\\Users\\\\Hendy\\\\AppData\\\\Local\\\\Temp\\\\pip-install-janhv9bx\\\\box2d_6ac67776caaf4153bd85b3ee324e6527\\\\setup.py'\"'\"'; __file__='\"'\"'C:\\\\Users\\\\Hendy\\\\AppData\\\\Local\\\\Temp\\\\pip-install-janhv9bx\\\\box2d_6ac67776caaf4153bd85b3ee324e6527\\\\setup.py'\"'\"';f = getattr(tokenize, '\"'\"'open'\"'\"', open)(__file__) if os.path.exists(__file__) else io.StringIO('\"'\"'from setuptools import setup; setup()'\"'\"');code = f.read().replace('\"'\"'\\r\\n'\"'\"', '\"'\"'\\n'\"'\"');f.close();exec(compile(code, __file__, '\"'\"'exec'\"'\"'))' install --record 'C:\\Users\\Hendy\\AppData\\Local\\Temp\\pip-record-z50oniuc\\install-record.txt' --single-version-externally-managed --compile --install-headers 'C:\\Users\\Hendy\\anaconda3\\Include\\Box2D'\n",
      "         cwd: C:\\Users\\Hendy\\AppData\\Local\\Temp\\pip-install-janhv9bx\\box2d_6ac67776caaf4153bd85b3ee324e6527\\\n",
      "    Complete output (18 lines):\n",
      "    Using setuptools (version 67.5.1).\n",
      "    running install\n",
      "    C:\\Users\\Hendy\\anaconda3\\lib\\site-packages\\setuptools\\command\\install.py:34: SetuptoolsDeprecationWarning: setup.py install is deprecated. Use build and pip and other standards-based tools.\n",
      "      warnings.warn(\n",
      "    running build\n",
      "    running build_py\n",
      "    creating build\n",
      "    creating build\\lib.win-amd64-cpython-39\n",
      "    creating build\\lib.win-amd64-cpython-39\\Box2D\n",
      "    copying library\\Box2D\\Box2D.py -> build\\lib.win-amd64-cpython-39\\Box2D\n",
      "    copying library\\Box2D\\__init__.py -> build\\lib.win-amd64-cpython-39\\Box2D\n",
      "    creating build\\lib.win-amd64-cpython-39\\Box2D\\b2\n",
      "    copying library\\Box2D\\b2\\__init__.py -> build\\lib.win-amd64-cpython-39\\Box2D\\b2\n",
      "    running build_ext\n",
      "    building 'Box2D._Box2D' extension\n",
      "    swigging Box2D\\Box2D.i to Box2D\\Box2D_wrap.cpp\n",
      "    swig.exe -python -c++ -IBox2D -small -O -includeall -ignoremissing -w201 -globals b2Globals -outdir library\\Box2D -keyword -w511 -D_SWIG_KWARGS -o Box2D\\Box2D_wrap.cpp Box2D\\Box2D.i\n",
      "    error: command 'swig.exe' failed: None\n",
      "    ----------------------------------------\n",
      "ERROR: Command errored out with exit status 1: 'C:\\Users\\Hendy\\anaconda3\\python.exe' -u -c 'import io, os, sys, setuptools, tokenize; sys.argv[0] = '\"'\"'C:\\\\Users\\\\Hendy\\\\AppData\\\\Local\\\\Temp\\\\pip-install-janhv9bx\\\\box2d_6ac67776caaf4153bd85b3ee324e6527\\\\setup.py'\"'\"'; __file__='\"'\"'C:\\\\Users\\\\Hendy\\\\AppData\\\\Local\\\\Temp\\\\pip-install-janhv9bx\\\\box2d_6ac67776caaf4153bd85b3ee324e6527\\\\setup.py'\"'\"';f = getattr(tokenize, '\"'\"'open'\"'\"', open)(__file__) if os.path.exists(__file__) else io.StringIO('\"'\"'from setuptools import setup; setup()'\"'\"');code = f.read().replace('\"'\"'\\r\\n'\"'\"', '\"'\"'\\n'\"'\"');f.close();exec(compile(code, __file__, '\"'\"'exec'\"'\"'))' install --record 'C:\\Users\\Hendy\\AppData\\Local\\Temp\\pip-record-z50oniuc\\install-record.txt' --single-version-externally-managed --compile --install-headers 'C:\\Users\\Hendy\\anaconda3\\Include\\Box2D' Check the logs for full command output.\n"
     ]
    },
    {
     "name": "stdout",
     "output_type": "stream",
     "text": [
      "Requirement already satisfied: tools in c:\\users\\hendy\\anaconda3\\lib\\site-packages (0.1.9)\n",
      "Requirement already satisfied: lxml in c:\\users\\hendy\\anaconda3\\lib\\site-packages (from tools) (4.6.3)\n",
      "Requirement already satisfied: six in c:\\users\\hendy\\anaconda3\\lib\\site-packages (from tools) (1.16.0)\n",
      "Requirement already satisfied: pytils in c:\\users\\hendy\\anaconda3\\lib\\site-packages (from tools) (0.4.1)\n"
     ]
    }
   ],
   "source": [
    "!pip install requests\n",
    "!pip install --upgrade setuptools\n",
    "!pip install scores\n",
    "!pip install gymnasium\n",
    "!pip install Box2D\n",
    "!pip install tools"
   ]
  },
  {
   "cell_type": "code",
   "execution_count": 2,
   "metadata": {
    "colab": {
     "base_uri": "https://localhost:8080/"
    },
    "executionInfo": {
     "elapsed": 31679,
     "status": "ok",
     "timestamp": 1678257171501,
     "user": {
      "displayName": "Hendy Lim",
      "userId": "00061580727958582383"
     },
     "user_tz": -480
    },
    "id": "PbgnVwZmX5uW",
    "outputId": "32d18179-d29b-401a-814d-e2c5f0ad354b"
   },
   "outputs": [
    {
     "name": "stderr",
     "output_type": "stream",
     "text": [
      "The system cannot find the path specified.\n"
     ]
    },
    {
     "name": "stdout",
     "output_type": "stream",
     "text": [
      "Requirement already satisfied: gym in c:\\users\\hendy\\anaconda3\\lib\\site-packages (0.26.2)\n",
      "Requirement already satisfied: pyvirtualdisplay in c:\\users\\hendy\\anaconda3\\lib\\site-packages (3.0)\n",
      "Requirement already satisfied: numpy>=1.18.0 in c:\\users\\hendy\\anaconda3\\lib\\site-packages (from gym) (1.24.2)\n",
      "Requirement already satisfied: cloudpickle>=1.2.0 in c:\\users\\hendy\\anaconda3\\lib\\site-packages (from gym) (2.0.0)\n",
      "Requirement already satisfied: gym-notices>=0.0.4 in c:\\users\\hendy\\anaconda3\\lib\\site-packages (from gym) (0.0.8)\n",
      "Requirement already satisfied: importlib-metadata>=4.8.0 in c:\\users\\hendy\\anaconda3\\lib\\site-packages (from gym) (4.8.1)\n",
      "Requirement already satisfied: zipp>=0.5 in c:\\users\\hendy\\anaconda3\\lib\\site-packages (from importlib-metadata>=4.8.0->gym) (3.6.0)\n",
      "Requirement already satisfied: gym in c:\\users\\hendy\\anaconda3\\lib\\site-packages (0.26.2)\n",
      "Requirement already satisfied: pyvirtualdisplay in c:\\users\\hendy\\anaconda3\\lib\\site-packages (3.0)\n",
      "Requirement already satisfied: cloudpickle>=1.2.0 in c:\\users\\hendy\\anaconda3\\lib\\site-packages (from gym) (2.0.0)\n",
      "Requirement already satisfied: importlib-metadata>=4.8.0 in c:\\users\\hendy\\anaconda3\\lib\\site-packages (from gym) (4.8.1)\n",
      "Requirement already satisfied: numpy>=1.18.0 in c:\\users\\hendy\\anaconda3\\lib\\site-packages (from gym) (1.24.2)\n",
      "Requirement already satisfied: gym-notices>=0.0.4 in c:\\users\\hendy\\anaconda3\\lib\\site-packages (from gym) (0.0.8)\n",
      "Requirement already satisfied: zipp>=0.5 in c:\\users\\hendy\\anaconda3\\lib\\site-packages (from importlib-metadata>=4.8.0->gym) (3.6.0)\n"
     ]
    },
    {
     "name": "stderr",
     "output_type": "stream",
     "text": [
      "The system cannot find the path specified.\n"
     ]
    },
    {
     "name": "stdout",
     "output_type": "stream",
     "text": [
      "Requirement already satisfied: gym[classic_control] in c:\\users\\hendy\\anaconda3\\lib\\site-packages (0.26.2)\n",
      "Requirement already satisfied: cloudpickle>=1.2.0 in c:\\users\\hendy\\anaconda3\\lib\\site-packages (from gym[classic_control]) (2.0.0)\n",
      "Requirement already satisfied: numpy>=1.18.0 in c:\\users\\hendy\\anaconda3\\lib\\site-packages (from gym[classic_control]) (1.24.2)\n",
      "Requirement already satisfied: importlib-metadata>=4.8.0 in c:\\users\\hendy\\anaconda3\\lib\\site-packages (from gym[classic_control]) (4.8.1)\n",
      "Requirement already satisfied: gym-notices>=0.0.4 in c:\\users\\hendy\\anaconda3\\lib\\site-packages (from gym[classic_control]) (0.0.8)\n",
      "Requirement already satisfied: pygame==2.1.0 in c:\\users\\hendy\\anaconda3\\lib\\site-packages (from gym[classic_control]) (2.1.0)\n",
      "Requirement already satisfied: zipp>=0.5 in c:\\users\\hendy\\anaconda3\\lib\\site-packages (from importlib-metadata>=4.8.0->gym[classic_control]) (3.6.0)\n"
     ]
    },
    {
     "name": "stderr",
     "output_type": "stream",
     "text": [
      "The system cannot find the path specified.\n",
      "The system cannot find the path specified.\n"
     ]
    },
    {
     "name": "stdout",
     "output_type": "stream",
     "text": [
      "Requirement already satisfied: setuptools in c:\\users\\hendy\\anaconda3\\lib\\site-packages (67.5.1)\n"
     ]
    },
    {
     "name": "stderr",
     "output_type": "stream",
     "text": [
      "The system cannot find the path specified.\n"
     ]
    }
   ],
   "source": [
    "!apt-get install -y xvfb python-opengl > /dev/null 2>&1\n",
    "!pip install gym pyvirtualdisplay\n",
    "!pip install gym pyvirtualdisplay\n",
    "!apt-get install -y xvfb python-opengl ffmpeg > /dev/null 2>&1\n",
    "!pip install gym[classic_control]\n",
    "!apt-get update > /dev/null 2>&1\n",
    "!apt-get install cmake > /dev/null 2>&1\n",
    "!pip install --upgrade setuptools 2>&1\n",
    "!pip install ez_setup > /dev/null 2>&1"
   ]
  },
  {
   "cell_type": "markdown",
   "metadata": {
    "id": "RwKbYeTgbaTA"
   },
   "source": [
    "## Importing dependencies and define helper functions"
   ]
  },
  {
   "cell_type": "code",
   "execution_count": 51,
   "metadata": {
    "executionInfo": {
     "elapsed": 44,
     "status": "ok",
     "timestamp": 1678257171501,
     "user": {
      "displayName": "Hendy Lim",
      "userId": "00061580727958582383"
     },
     "user_tz": -480
    },
    "id": "j6KpgCLGYWmj"
   },
   "outputs": [],
   "source": [
    "import gym\n",
    "from gym import logger as gymlogger\n",
    "from gym.wrappers import RecordVideo\n",
    "gymlogger.set_level(40) #error only\n",
    "import numpy as np\n",
    "import random\n",
    "import matplotlib\n",
    "import matplotlib.pyplot as plt\n",
    "%matplotlib inline\n",
    "import math\n",
    "import glob\n",
    "import io\n",
    "import base64\n",
    "from IPython.display import HTML\n",
    "from IPython import display as ipythondisplay\n",
    "\n",
    "def show_video():\n",
    "    mp4list = glob.glob('./video/*.mp4')\n",
    "    if len(mp4list) > 0:\n",
    "        mp4 = mp4list[0]\n",
    "        video = io.open(mp4, 'r+b').read()\n",
    "        encoded = base64.b64encode(video)\n",
    "        ipythondisplay.display(HTML(data=''''''.format(encoded.decode('ascii'))))\n",
    "    else: \n",
    "        print(\"Could not find video\")"
   ]
  },
  {
   "cell_type": "markdown",
   "metadata": {
    "id": "ehbqP9CXbmo7"
   },
   "source": [
    "## Loading CartPole environment"
   ]
  },
  {
   "cell_type": "code",
   "execution_count": 4,
   "metadata": {
    "executionInfo": {
     "elapsed": 43,
     "status": "ok",
     "timestamp": 1678257171502,
     "user": {
      "displayName": "Hendy Lim",
      "userId": "00061580727958582383"
     },
     "user_tz": -480
    },
    "id": "Go12dH4qbwBy"
   },
   "outputs": [],
   "source": [
    "env = gym.make(\"CartPole-v1\")"
   ]
  },
  {
   "cell_type": "markdown",
   "metadata": {
    "id": "9XZ9g3xrcAXE"
   },
   "source": [
    "We can check the action and observation space of this environment. Discrete(2) means that there are two valid discrete actions: 0 & 1."
   ]
  },
  {
   "cell_type": "code",
   "execution_count": 5,
   "metadata": {
    "colab": {
     "base_uri": "https://localhost:8080/"
    },
    "executionInfo": {
     "elapsed": 41,
     "status": "ok",
     "timestamp": 1678257171502,
     "user": {
      "displayName": "Hendy Lim",
      "userId": "00061580727958582383"
     },
     "user_tz": -480
    },
    "id": "ytxvVmLdcRyw",
    "outputId": "759c8e52-34d8-483b-9374-e19f40f25a6e"
   },
   "outputs": [
    {
     "name": "stdout",
     "output_type": "stream",
     "text": [
      "Discrete(2)\n"
     ]
    }
   ],
   "source": [
    "print(env.action_space)"
   ]
  },
  {
   "cell_type": "markdown",
   "metadata": {
    "id": "pVXGWi_Ncfg-"
   },
   "source": [
    "The observation space is given below. The first two arrays define the min and max values of the 4 observed values, corresponding to cart position, velocity and pole angle, angular velocity."
   ]
  },
  {
   "cell_type": "code",
   "execution_count": 6,
   "metadata": {
    "colab": {
     "base_uri": "https://localhost:8080/"
    },
    "executionInfo": {
     "elapsed": 32,
     "status": "ok",
     "timestamp": 1678257171502,
     "user": {
      "displayName": "Hendy Lim",
      "userId": "00061580727958582383"
     },
     "user_tz": -480
    },
    "id": "DyqHr9I5cdkX",
    "outputId": "99d2255c-70b3-420e-a72c-1fea459baa40"
   },
   "outputs": [
    {
     "name": "stdout",
     "output_type": "stream",
     "text": [
      "Box([-4.8000002e+00 -3.4028235e+38 -4.1887903e-01 -3.4028235e+38], [4.8000002e+00 3.4028235e+38 4.1887903e-01 3.4028235e+38], (4,), float32)\n"
     ]
    }
   ],
   "source": [
    "print(env.observation_space)"
   ]
  },
  {
   "cell_type": "markdown",
   "metadata": {
    "id": "HFOdaU2Gdyg0"
   },
   "source": [
    "We call each round of the pole-balancing game an \"episode\". At the start of each episode, make sure the environment is reset, which chooses a random initial state, e.g., pole slightly tilted to the right. This initialization can be achieved by the code below, which returns the observation of the initial state."
   ]
  },
  {
   "cell_type": "code",
   "execution_count": 7,
   "metadata": {
    "colab": {
     "base_uri": "https://localhost:8080/"
    },
    "executionInfo": {
     "elapsed": 30,
     "status": "ok",
     "timestamp": 1678257171502,
     "user": {
      "displayName": "Hendy Lim",
      "userId": "00061580727958582383"
     },
     "user_tz": -480
    },
    "id": "VMr6qAqxdOsm",
    "outputId": "42fcf849-f077-44f2-a601-d2a24963db56"
   },
   "outputs": [
    {
     "name": "stdout",
     "output_type": "stream",
     "text": [
      "Initial observations: (array([-0.02656776,  0.04725083,  0.00725445,  0.02967441], dtype=float32), {})\n",
      "Action Space Discrete(2)\n",
      "State Space Box([-4.8000002e+00 -3.4028235e+38 -4.1887903e-01 -3.4028235e+38], [4.8000002e+00 3.4028235e+38 4.1887903e-01 3.4028235e+38], (4,), float32)\n"
     ]
    }
   ],
   "source": [
    "observation = env.reset()\n",
    "print(\"Initial observations:\", observation)\n",
    "\n",
    "\n",
    "print(\"Action Space {}\".format(env.action_space))\n",
    "print(\"State Space {}\".format(env.observation_space))"
   ]
  },
  {
   "cell_type": "markdown",
   "metadata": {
    "id": "qnG2QdfbeZrI"
   },
   "source": [
    "For the CartPole environment, there are two possible actions: 0 for pushing to the left and 1 for pushing to the right. For example, we can push the cart to the left using code below, which returns the new observation, the current reward, an indicator of whether the game ends, and some additional information (not used in this project). For CartPole, the game ends when the pole is significantly tilted or you manage to balance the pole for 500 steps. You get exactly 1 reward for each step before the game ends (i.e., max cumulative reward is 500)."
   ]
  },
  {
   "cell_type": "code",
   "execution_count": 8,
   "metadata": {
    "colab": {
     "base_uri": "https://localhost:8080/",
     "height": 234
    },
    "executionInfo": {
     "elapsed": 30,
     "status": "error",
     "timestamp": 1678257171503,
     "user": {
      "displayName": "Hendy Lim",
      "userId": "00061580727958582383"
     },
     "user_tz": -480
    },
    "id": "MmfMDvyYdWGk",
    "outputId": "5109a385-b349-4693-e344-2660fd1ba35e"
   },
   "outputs": [
    {
     "name": "stdout",
     "output_type": "stream",
     "text": [
      "New observations after choosing action 0: [-0.02562274 -0.1479744   0.00784794  0.32463732]\n",
      "Reward for this step: 1.0\n",
      "Is this round done? False\n"
     ]
    },
    {
     "name": "stderr",
     "output_type": "stream",
     "text": [
      "C:\\Users\\Hendy\\anaconda3\\lib\\site-packages\\gym\\utils\\passive_env_checker.py:233: DeprecationWarning: `np.bool8` is a deprecated alias for `np.bool_`.  (Deprecated NumPy 1.24)\n",
      "  if not isinstance(terminated, (bool, np.bool8)):\n"
     ]
    }
   ],
   "source": [
    "observation, reward, done, truncated, info = env.step(0)\n",
    "#observation, reward, done, info, terminated, truncated = env.step(0)\n",
    "print(\"New observations after choosing action 0:\", observation)\n",
    "print(\"Reward for this step:\", reward)\n",
    "print(\"Is this round done?\", done or truncated)"
   ]
  },
  {
   "cell_type": "markdown",
   "metadata": {
    "id": "tj0zCh59fhBb"
   },
   "source": [
    "Now we can play a full round of the game using a naive strategy (always choosing action 0), and show the cumulative reward in the round. Note that reward returned by env.step(*) corresponds to the reward for current step. So we have to accumulate the reward for each step. Clearly, the naive strategy performs poorly by surviving only a dozen of steps."
   ]
  },
  {
   "cell_type": "code",
   "execution_count": 9,
   "metadata": {
    "executionInfo": {
     "elapsed": 28,
     "status": "aborted",
     "timestamp": 1678257171503,
     "user": {
      "displayName": "Hendy Lim",
      "userId": "00061580727958582383"
     },
     "user_tz": -480
    },
    "id": "AVucQVRwf6Jm"
   },
   "outputs": [
    {
     "name": "stdout",
     "output_type": "stream",
     "text": [
      "Cumulative reward for this round: 10.0\n"
     ]
    }
   ],
   "source": [
    "env = gym.make(\"CartPole-v1\")\n",
    "observation = env.reset()\n",
    "cumulative_reward = 0\n",
    "done = False\n",
    "while not done:\n",
    "    observation, reward, done, truncated, info = env.step(0)\n",
    "    cumulative_reward += reward\n",
    "print(\"Cumulative reward for this round:\", cumulative_reward)"
   ]
  },
  {
   "cell_type": "markdown",
   "metadata": {
    "id": "2oIzK9SzhlWN"
   },
   "source": [
    "## Task 1: Development of an RL agent"
   ]
  },
  {
   "cell_type": "markdown",
   "metadata": {
    "id": "Cc6_e5c_huiq"
   },
   "source": [
    "An example of a naive agent is given below, which randomly chooses an action regardless of the observation:"
   ]
  },
  {
   "cell_type": "code",
   "execution_count": 10,
   "metadata": {
    "executionInfo": {
     "elapsed": 28,
     "status": "aborted",
     "timestamp": 1678257171503,
     "user": {
      "displayName": "Hendy Lim",
      "userId": "00061580727958582383"
     },
     "user_tz": -480
    },
    "id": "Hk-M4QEfh6l5"
   },
   "outputs": [],
   "source": [
    "def rand_policy_agent(observation):\n",
    "    return random.randint(0, 1)"
   ]
  },
  {
   "cell_type": "markdown",
   "metadata": {
    "id": "K8fMCGmW1qZu"
   },
   "source": [
    "## Initialize parameters for Q-learning"
   ]
  },
  {
   "cell_type": "code",
   "execution_count": 11,
   "metadata": {
    "executionInfo": {
     "elapsed": 29,
     "status": "aborted",
     "timestamp": 1678257171504,
     "user": {
      "displayName": "Hendy Lim",
      "userId": "00061580727958582383"
     },
     "user_tz": -480
    },
    "id": "iMoBoR5KwrPJ"
   },
   "outputs": [
    {
     "name": "stdout",
     "output_type": "stream",
     "text": [
      "2\n",
      "Initial observations: (array([-0.00182565,  0.0422497 , -0.01613657, -0.0268015 ], dtype=float32), {})\n",
      "Action Space Discrete(2)\n",
      "State Space Box([-4.8000002e+00 -3.4028235e+38 -4.1887903e-01 -3.4028235e+38], [4.8000002e+00 3.4028235e+38 4.1887903e-01 3.4028235e+38], (4,), float32)\n"
     ]
    }
   ],
   "source": [
    "print(env.action_space.n)\n",
    "\n",
    "LEARNING_RATE = 0.1\n",
    "\n",
    "DISCOUNT = 0.95\n",
    "EPISODES = 60000\n",
    "total = 0\n",
    "total_reward = 0\n",
    "prior_reward = 0\n",
    "\n",
    "observation = env.reset()\n",
    "print(\"Initial observations:\", observation)\n",
    "print(\"Action Space {}\".format(env.action_space))\n",
    "print(\"State Space {}\".format(env.observation_space))\n",
    "\n",
    "\n",
    "Observation = [30, 30, 50, 50]\n",
    "np_array_win_size = np.array([0.25, 0.25, 0.01, 0.1])\n",
    "epsilon = 1\n",
    "epsilon_decay_value = 0.99995\n",
    "\n",
    "q_table = np.random.uniform(low=0, high=1, size=(Observation + [env.action_space.n]))\n",
    "q_table.shape\n",
    "\n",
    "def get_discrete_state(state):\n",
    "    discrete_state = state/np_array_win_size+ np.array([15,10,1,10])\n",
    "    return tuple(discrete_state.astype(int))"
   ]
  },
  {
   "cell_type": "markdown",
   "metadata": {
    "id": "5Ps4cPki11Ce"
   },
   "source": [
    "## Q learning, train the agent on 60000 episodes"
   ]
  },
  {
   "cell_type": "code",
   "execution_count": 12,
   "metadata": {
    "executionInfo": {
     "elapsed": 29,
     "status": "aborted",
     "timestamp": 1678257171504,
     "user": {
      "displayName": "Hendy Lim",
      "userId": "00061580727958582383"
     },
     "user_tz": -480
    },
    "id": "fIb9KVpE4lsI"
   },
   "outputs": [
    {
     "name": "stdout",
     "output_type": "stream",
     "text": [
      "Episode: 0\n",
      "Time Average: 5.335807800292969e-07\n",
      "Mean Reward: 0.016\n",
      "Time Average: 0.0005976006984710693\n",
      "Mean Reward: 21.735\n",
      "Episode: 2000\n",
      "Time Average: 0.0006156713962554932\n",
      "Mean Reward: 22.929\n",
      "Time Average: 0.0005980458259582519\n",
      "Mean Reward: 22.501\n",
      "Episode: 4000\n",
      "Time Average: 0.0005835115909576416\n",
      "Mean Reward: 21.889\n",
      "Time Average: 0.0006022965908050537\n",
      "Mean Reward: 22.032\n",
      "Episode: 6000\n",
      "Time Average: 0.0006112351417541504\n",
      "Mean Reward: 22.769\n",
      "Time Average: 0.0006310141086578369\n",
      "Mean Reward: 22.913\n",
      "Episode: 8000\n",
      "Time Average: 0.000644711971282959\n",
      "Mean Reward: 21.62\n",
      "Time Average: 0.0005975985527038575\n",
      "Mean Reward: 22.1\n",
      "Episode: 10000\n",
      "Time Average: 0.0005887711048126221\n",
      "Mean Reward: 22.341\n",
      "Epsilon: 0.9512282354250458\n",
      "Time Average: 0.0005645642280578614\n",
      "Mean Reward: 22.666\n",
      "Episode: 12000\n",
      "Time Average: 0.0006312382221221924\n",
      "Mean Reward: 23.575\n",
      "Epsilon: 0.8824941446941661\n",
      "Epsilon: 0.8607047486686201\n",
      "Time Average: 0.0006960587501525879\n",
      "Mean Reward: 25.779\n",
      "Epsilon: 0.8394533480303666\n",
      "Episode: 14000\n",
      "Epsilon: 0.818726659298009\n",
      "Time Average: 0.0007573275566101074\n",
      "Mean Reward: 27.195\n",
      "Epsilon: 0.7985117269685725\n",
      "Epsilon: 0.7787959154194878\n",
      "Time Average: 0.0007909214496612548\n",
      "Mean Reward: 28.889\n",
      "Epsilon: 0.7595669010105212\n",
      "Episode: 16000\n",
      "Time Average: 0.000848717451095581\n",
      "Mean Reward: 30.587\n",
      "Epsilon: 0.7046819235193919\n",
      "Time Average: 0.000926194429397583\n",
      "Mean Reward: 33.533\n",
      "Epsilon: 0.687282835269431\n",
      "Episode: 18000\n",
      "Epsilon: 0.6703133426452782\n",
      "Time Average: 0.0009750580787658692\n",
      "Mean Reward: 35.585\n",
      "Epsilon: 0.6537628386312633\n",
      "Epsilon: 0.6376209781063321\n",
      "Time Average: 0.001069645643234253\n",
      "Mean Reward: 38.498\n",
      "Epsilon: 0.6218776713776856\n",
      "Episode: 20000\n",
      "Time Average: 0.0011542878150939942\n",
      "Mean Reward: 41.607\n",
      "Time Average: 0.0013037686347961426\n",
      "Mean Reward: 46.238\n",
      "Epsilon: 0.5626967797130051\n",
      "Episode: 22000\n",
      "Time Average: 0.0013696749210357665\n",
      "Mean Reward: 49.586\n",
      "Time Average: 0.0015174140930175781\n",
      "Mean Reward: 54.841\n",
      "Epsilon: 0.5091478283790776\n",
      "Episode: 24000\n",
      "Time Average: 0.001745800256729126\n",
      "Mean Reward: 60.16\n",
      "Time Average: 0.0017769699096679688\n",
      "Mean Reward: 63.917\n",
      "Episode: 26000\n",
      "Time Average: 0.0019578492641448976\n",
      "Mean Reward: 70.664\n",
      "Epsilon: 0.4274058491752072\n",
      "Time Average: 0.0021157631874084474\n",
      "Mean Reward: 75.514\n",
      "Episode: 28000\n",
      "Time Average: 0.0021854469776153565\n",
      "Mean Reward: 78.734\n",
      "Epsilon: 0.396522249086328\n",
      "Epsilon: 0.3867318381581326\n",
      "Time Average: 0.002347184181213379\n",
      "Mean Reward: 83.346\n",
      "Epsilon: 0.3771831593051582\n",
      "Episode: 30000\n",
      "Time Average: 0.0025846116542816164\n",
      "Mean Reward: 91.84\n",
      "Epsilon: 0.3499285630596461\n",
      "Time Average: 0.002683343172073364\n",
      "Mean Reward: 95.635\n",
      "Episode: 32000\n",
      "Time Average: 0.0028981263637542724\n",
      "Mean Reward: 105.15\n",
      "Epsilon: 0.32464333633178233\n",
      "Time Average: 0.002989724636077881\n",
      "Mean Reward: 105.888\n",
      "Epsilon: 0.30880990796138097\n",
      "Episode: 34000\n",
      "Time Average: 0.0031546616554260255\n",
      "Mean Reward: 111.615\n",
      "Time Average: 0.0033082418441772463\n",
      "Mean Reward: 118.512\n",
      "Episode: 36000\n",
      "Epsilon: 0.27252293559946306\n",
      "Time Average: 0.003482814311981201\n",
      "Mean Reward: 124.797\n",
      "Epsilon: 0.2657941542182801\n",
      "Epsilon: 0.25923151114313064\n",
      "Time Average: 0.004070326089859009\n",
      "Mean Reward: 140.988\n",
      "Episode: 38000\n",
      "Time Average: 0.004264559745788574\n",
      "Mean Reward: 152.937\n",
      "Time Average: 0.004364698648452759\n",
      "Mean Reward: 156.104\n",
      "Epsilon: 0.22877029070403326\n",
      "Episode: 40000\n",
      "Epsilon: 0.22312179264543486\n",
      "Time Average: 0.0037068099975585936\n",
      "Mean Reward: 131.74\n",
      "Time Average: 0.004700093269348144\n",
      "Mean Reward: 168.129\n",
      "Episode: 42000\n",
      "Epsilon: 0.20188844202629158\n",
      "Time Average: 0.004795523405075074\n",
      "Mean Reward: 171.723\n",
      "Epsilon: 0.19690367556326213\n",
      "Epsilon: 0.192041986461381\n",
      "Time Average: 0.00445142650604248\n",
      "Mean Reward: 156.304\n",
      "Epsilon: 0.18730033585474753\n",
      "Episode: 44000\n",
      "Epsilon: 0.18267575990917997\n",
      "Time Average: 0.004915274143218994\n",
      "Mean Reward: 172.707\n",
      "Epsilon: 0.17816536796962992\n",
      "Time Average: 0.004859344482421875\n",
      "Mean Reward: 173.598\n",
      "Episode: 46000\n",
      "Epsilon: 0.1652914496910655\n",
      "Time Average: 0.005082971811294555\n",
      "Mean Reward: 181.436\n",
      "Epsilon: 0.16121028849740862\n",
      "Time Average: 0.00495398736000061\n",
      "Mean Reward: 174.281\n",
      "Episode: 48000\n",
      "Epsilon: 0.1495615146451681\n",
      "Time Average: 0.00552811074256897\n",
      "Mean Reward: 193.646\n",
      "Epsilon: 0.14586873652037563\n",
      "Epsilon: 0.1422671356634204\n",
      "Time Average: 0.005520757913589478\n",
      "Mean Reward: 193.15\n",
      "Episode: 50000\n",
      "Epsilon: 0.13532851641609098\n",
      "Time Average: 0.005226486444473267\n",
      "Mean Reward: 186.736\n",
      "Time Average: 0.006643671751022339\n",
      "Mean Reward: 231.858\n",
      "Epsilon: 0.12554991420537906\n",
      "Episode: 52000\n",
      "Time Average: 0.006146682977676392\n",
      "Mean Reward: 213.182\n",
      "Time Average: 0.00527259373664856\n",
      "Mean Reward: 187.343\n",
      "Epsilon: 0.11360197618947\n",
      "Episode: 54000\n",
      "Epsilon: 0.11079706415310193\n",
      "Time Average: 0.005624592065811157\n",
      "Mean Reward: 198.686\n",
      "Epsilon: 0.10806140735150761\n",
      "Epsilon: 0.10539329582463075\n",
      "Time Average: 0.006026331901550293\n",
      "Mean Reward: 213.921\n",
      "Episode: 56000\n",
      "Epsilon: 0.10025307881289336\n",
      "Time Average: 0.0062277731895446775\n",
      "Mean Reward: 219.906\n",
      "Epsilon: 0.09536355925511658\n",
      "Time Average: 0.005999151468276977\n",
      "Mean Reward: 215.342\n",
      "Episode: 58000\n",
      "Time Average: 0.006267706632614136\n",
      "Mean Reward: 222.028\n",
      "Epsilon: 0.08847275503994115\n",
      "Time Average: 0.0051166174411773685\n",
      "Mean Reward: 184.342\n",
      "Episode: 60000\n",
      "Epsilon: 0.08207986830082019\n",
      "Time Average: 0.005139571189880371\n",
      "Mean Reward: 182.931\n"
     ]
    }
   ],
   "source": [
    "import time\n",
    "for episode in range(EPISODES + 1): \n",
    "    t0 = time.time() \n",
    "    discrete_state = get_discrete_state(env.reset()[0])\n",
    "    done = False\n",
    "    truncated = False\n",
    "    episode_reward = 0 \n",
    "\n",
    "    if episode % 2000 == 0: \n",
    "        print(\"Episode: \" + str(episode))\n",
    "\n",
    "    while not done and not truncated: \n",
    "\n",
    "        if np.random.random() > epsilon:\n",
    "\n",
    "            action = np.argmax(q_table[discrete_state]) \n",
    "        else:\n",
    "\n",
    "            action = np.random.randint(0, env.action_space.n) \n",
    "\n",
    "        new_state, reward, done, truncated, info = env.step(action) \n",
    "        episode_reward += reward \n",
    "        new_discrete_state = get_discrete_state(new_state)\n",
    "\n",
    "        if episode % 2000 == 0: \n",
    "            env.render()\n",
    "           \n",
    "\n",
    "        if not done and not truncated: \n",
    "            max_future_q = np.max(q_table[new_discrete_state])\n",
    "\n",
    "            current_q = q_table[discrete_state + (action,)]\n",
    "\n",
    "            new_q = (1 - LEARNING_RATE) * current_q + LEARNING_RATE * (reward + DISCOUNT * max_future_q)\n",
    "\n",
    "            q_table[discrete_state + (action,)] = new_q\n",
    "\n",
    "        discrete_state = new_discrete_state\n",
    "\n",
    "    if epsilon > 0.05: \n",
    "        if episode_reward > prior_reward and episode > 10000:\n",
    "            epsilon = math.pow(epsilon_decay_value, episode - 10000)\n",
    "\n",
    "            if episode % 500 == 0:\n",
    "                print(\"Epsilon: \" + str(epsilon))\n",
    "\n",
    "    t1 = time.time() \n",
    "    episode_total = t1 - t0 \n",
    "    total = total + episode_total\n",
    "\n",
    "    total_reward += episode_reward \n",
    "    prior_reward = episode_reward\n",
    "\n",
    "    if episode % 1000 == 0: \n",
    "        mean = total / 1000\n",
    "        print(\"Time Average: \" + str(mean))\n",
    "        total = 0\n",
    "\n",
    "        mean_reward = total_reward / 1000\n",
    "        print(\"Mean Reward: \" + str(mean_reward))\n",
    "        total_reward = 0\n",
    "\n",
    "#print(q_table)\n",
    "env.close()"
   ]
  },
  {
   "cell_type": "markdown",
   "metadata": {
    "id": "qmqmO59gImWZ"
   },
   "source": [
    "# Reinforcment Learning agent based on the Q-values we obtained"
   ]
  },
  {
   "cell_type": "code",
   "execution_count": 13,
   "metadata": {
    "executionInfo": {
     "elapsed": 29,
     "status": "aborted",
     "timestamp": 1678257171504,
     "user": {
      "displayName": "Hendy Lim",
      "userId": "00061580727958582383"
     },
     "user_tz": -480
    },
    "id": "8bjZnmbjT0Hd"
   },
   "outputs": [],
   "source": [
    "def Reinforcement_Learning_agent(state):\n",
    "    discrete_state=get_discrete_state(state)\n",
    "    action = np.argmax(q_table[discrete_state]) \n",
    "    return action"
   ]
  },
  {
   "cell_type": "markdown",
   "metadata": {
    "id": "RAi7KKwNiegR"
   },
   "source": [
    "For Task 1, we can show the observation and chosen action below:"
   ]
  },
  {
   "cell_type": "code",
   "execution_count": 14,
   "metadata": {
    "executionInfo": {
     "elapsed": 29,
     "status": "aborted",
     "timestamp": 1678257171504,
     "user": {
      "displayName": "Hendy Lim",
      "userId": "00061580727958582383"
     },
     "user_tz": -480
    },
    "id": "ae2ia-vUiNKJ"
   },
   "outputs": [
    {
     "name": "stdout",
     "output_type": "stream",
     "text": [
      "Observation: [ 0.04352939 -0.02902237  0.02726347 -0.03537653]\n",
      "Chosen action: 1\n"
     ]
    }
   ],
   "source": [
    "observation = env.reset()\n",
    "action = Reinforcement_Learning_agent(observation[0]) #need to include [0] bcuz jupyter weird, colab noneed\n",
    "print(\"Observation:\", observation[0])\n",
    "print(\"Chosen action:\", action)"
   ]
  },
  {
   "cell_type": "markdown",
   "metadata": {
    "id": "-XtIQ0Rti1gm"
   },
   "source": [
    "## Task 2: Demonstrate the effectiveness of the RL agent"
   ]
  },
  {
   "cell_type": "markdown",
   "metadata": {
    "id": "djBEShf0kGI4"
   },
   "source": [
    "For this task, use the agent developed in Task 1 to play the game for 100 episodes (refer to tutorial for how to play a round), record the cumulative reward for each round, and plot the reward for each round. A sample plotting code is given below. Note that you must include code to play for 100 episodes and use the code to obtain round_results for plotting. DO NOT record the round results in advance and paste the results to the notebook."
   ]
  },
  {
   "cell_type": "code",
   "execution_count": 15,
   "metadata": {
    "executionInfo": {
     "elapsed": 30,
     "status": "aborted",
     "timestamp": 1678257171505,
     "user": {
      "displayName": "Hendy Lim",
      "userId": "00061580727958582383"
     },
     "user_tz": -480
    },
    "id": "xpwqe5jRxd9J"
   },
   "outputs": [],
   "source": [
    "env = gym.make(\"CartPole-v1\")\n",
    "test_episodes=100\n",
    "episode_results = []\n",
    "\n",
    "for test_episode in range(test_episodes):\n",
    "    initial_state=env.reset()\n",
    "    state=initial_state[0]\n",
    "    cumulative_reward = 0\n",
    "    done=False\n",
    "    truncated=False\n",
    "    while not done and not truncated:\n",
    "        action = Reinforcement_Learning_agent(state)\n",
    "        state, reward, done, truncated, info = env.step(action)\n",
    "        cumulative_reward += reward\n",
    "    episode_results.append(cumulative_reward)\n",
    "  #print(\"Cumulative reward for this round:\", cumulative_reward)"
   ]
  },
  {
   "cell_type": "code",
   "execution_count": 16,
   "metadata": {
    "executionInfo": {
     "elapsed": 30,
     "status": "aborted",
     "timestamp": 1678257171505,
     "user": {
      "displayName": "Hendy Lim",
      "userId": "00061580727958582383"
     },
     "user_tz": -480
    },
    "id": "RZrCKywQi6CE",
    "scrolled": true
   },
   "outputs": [
    {
     "data": {
      "image/png": "[encoded data removed]",
      "text/plain": [
       "<Figure size 432x288 with 1 Axes>"
      ]
     },
     "metadata": {
      "needs_background": "light"
     },
     "output_type": "display_data"
    }
   ],
   "source": [
    "plt.plot(episode_results)\n",
    "plt.title('Cumulative reward for each episode')\n",
    "plt.ylabel('Cumulative reward')\n",
    "plt.xlabel('episode')\n",
    "plt.show()"
   ]
  },
  {
   "cell_type": "code",
   "execution_count": 17,
   "metadata": {
    "executionInfo": {
     "elapsed": 30,
     "status": "aborted",
     "timestamp": 1678257171505,
     "user": {
      "displayName": "Hendy Lim",
      "userId": "00061580727958582383"
     },
     "user_tz": -480
    },
    "id": "ocGqOrVbuXbd"
   },
   "outputs": [
    {
     "data": {
      "text/plain": [
       "[138.0,\n",
       " 500.0,\n",
       " 500.0,\n",
       " 182.0,\n",
       " 417.0,\n",
       " 500.0,\n",
       " 277.0,\n",
       " 466.0,\n",
       " 500.0,\n",
       " 257.0,\n",
       " 500.0,\n",
       " 419.0,\n",
       " 500.0,\n",
       " 279.0,\n",
       " 161.0,\n",
       " 247.0,\n",
       " 256.0,\n",
       " 500.0,\n",
       " 411.0,\n",
       " 500.0,\n",
       " 500.0,\n",
       " 189.0,\n",
       " 359.0,\n",
       " 355.0,\n",
       " 500.0,\n",
       " 329.0,\n",
       " 413.0,\n",
       " 212.0,\n",
       " 500.0,\n",
       " 500.0,\n",
       " 312.0,\n",
       " 316.0,\n",
       " 303.0,\n",
       " 265.0,\n",
       " 500.0,\n",
       " 500.0,\n",
       " 415.0,\n",
       " 500.0,\n",
       " 234.0,\n",
       " 115.0,\n",
       " 426.0,\n",
       " 500.0,\n",
       " 250.0,\n",
       " 500.0,\n",
       " 318.0,\n",
       " 457.0,\n",
       " 415.0,\n",
       " 500.0,\n",
       " 233.0,\n",
       " 500.0,\n",
       " 203.0,\n",
       " 500.0,\n",
       " 225.0,\n",
       " 500.0,\n",
       " 500.0,\n",
       " 261.0,\n",
       " 393.0,\n",
       " 292.0,\n",
       " 500.0,\n",
       " 500.0,\n",
       " 337.0,\n",
       " 500.0,\n",
       " 500.0,\n",
       " 500.0,\n",
       " 500.0,\n",
       " 500.0,\n",
       " 500.0,\n",
       " 500.0,\n",
       " 399.0,\n",
       " 151.0,\n",
       " 500.0,\n",
       " 500.0,\n",
       " 321.0,\n",
       " 290.0,\n",
       " 500.0,\n",
       " 123.0,\n",
       " 500.0,\n",
       " 186.0,\n",
       " 219.0,\n",
       " 299.0,\n",
       " 400.0,\n",
       " 500.0,\n",
       " 500.0,\n",
       " 183.0,\n",
       " 373.0,\n",
       " 500.0,\n",
       " 333.0,\n",
       " 500.0,\n",
       " 410.0,\n",
       " 500.0,\n",
       " 300.0,\n",
       " 219.0,\n",
       " 383.0,\n",
       " 364.0,\n",
       " 279.0,\n",
       " 207.0,\n",
       " 500.0,\n",
       " 500.0,\n",
       " 284.0,\n",
       " 500.0]"
      ]
     },
     "execution_count": 17,
     "metadata": {},
     "output_type": "execute_result"
    }
   ],
   "source": [
    "episode_results"
   ]
  },
  {
   "cell_type": "markdown",
   "metadata": {
    "id": "XndSYH7wlvn7"
   },
   "source": [
    "Print the average reward over the 100 episodes."
   ]
  },
  {
   "cell_type": "code",
   "execution_count": 18,
   "metadata": {
    "executionInfo": {
     "elapsed": 30,
     "status": "aborted",
     "timestamp": 1678257171505,
     "user": {
      "displayName": "Hendy Lim",
      "userId": "00061580727958582383"
     },
     "user_tz": -480
    },
    "id": "VXkXH7YUzK82"
   },
   "outputs": [
    {
     "name": "stdout",
     "output_type": "stream",
     "text": [
      "Average reward:  383.6\n",
      "Is my agent good enough? True\n"
     ]
    }
   ],
   "source": [
    "print(\"Average reward: \", sum(episode_results) / len(episode_results))\n",
    "print(\"Is my agent good enough?\", sum(episode_results) / len(episode_results) > 195)"
   ]
  },
  {
   "cell_type": "markdown",
   "metadata": {
    "id": "Yg0DCT38lFA6"
   },
   "source": [
    "## Task 3: Render one episode played by the agent"
   ]
  },
  {
   "cell_type": "markdown",
   "metadata": {
    "id": "vx1awMr9lc_w"
   },
   "source": [
    "Plug your agent to the code below to obtain rendered result."
   ]
  },
  {
   "cell_type": "code",
   "execution_count": 19,
   "metadata": {
    "executionInfo": {
     "elapsed": 31,
     "status": "aborted",
     "timestamp": 1678257171506,
     "user": {
      "displayName": "Hendy Lim",
      "userId": "00061580727958582383"
     },
     "user_tz": -480
    },
    "id": "lPVB_ERI6MSj"
   },
   "outputs": [
    {
     "name": "stdout",
     "output_type": "stream",
     "text": [
      "Requirement already satisfied: moviepy in c:\\users\\hendy\\anaconda3\\lib\\site-packages (1.0.3)\n",
      "Requirement already satisfied: proglog<=1.0.0 in c:\\users\\hendy\\anaconda3\\lib\\site-packages (from moviepy) (0.1.10)\n",
      "Requirement already satisfied: numpy in c:\\users\\hendy\\anaconda3\\lib\\site-packages (from moviepy) (1.24.2)\n",
      "Requirement already satisfied: imageio<3.0,>=2.5 in c:\\users\\hendy\\anaconda3\\lib\\site-packages (from moviepy) (2.9.0)\n",
      "Requirement already satisfied: requests<3.0,>=2.8.1 in c:\\users\\hendy\\anaconda3\\lib\\site-packages (from moviepy) (2.26.0)\n",
      "Requirement already satisfied: imageio-ffmpeg>=0.2.0 in c:\\users\\hendy\\anaconda3\\lib\\site-packages (from moviepy) (0.4.8)\n",
      "Requirement already satisfied: tqdm<5.0,>=4.11.2 in c:\\users\\hendy\\anaconda3\\lib\\site-packages (from moviepy) (4.62.3)\n",
      "Requirement already satisfied: decorator<5.0,>=4.0.2 in c:\\users\\hendy\\anaconda3\\lib\\site-packages (from moviepy) (4.4.2)\n",
      "Requirement already satisfied: pillow in c:\\users\\hendy\\anaconda3\\lib\\site-packages (from imageio<3.0,>=2.5->moviepy) (8.4.0)\n",
      "Requirement already satisfied: idna<4,>=2.5 in c:\\users\\hendy\\anaconda3\\lib\\site-packages (from requests<3.0,>=2.8.1->moviepy) (3.2)\n",
      "Requirement already satisfied: certifi>=2017.4.17 in c:\\users\\hendy\\anaconda3\\lib\\site-packages (from requests<3.0,>=2.8.1->moviepy) (2021.10.8)\n",
      "Requirement already satisfied: charset-normalizer~=2.0.0 in c:\\users\\hendy\\anaconda3\\lib\\site-packages (from requests<3.0,>=2.8.1->moviepy) (2.0.4)\n",
      "Requirement already satisfied: urllib3<1.27,>=1.21.1 in c:\\users\\hendy\\anaconda3\\lib\\site-packages (from requests<3.0,>=2.8.1->moviepy) (1.26.7)\n",
      "Requirement already satisfied: colorama in c:\\users\\hendy\\anaconda3\\lib\\site-packages (from tqdm<5.0,>=4.11.2->moviepy) (0.4.4)\n"
     ]
    }
   ],
   "source": [
    "!pip install moviepy"
   ]
  },
  {
   "cell_type": "code",
   "execution_count": 64,
   "metadata": {
    "executionInfo": {
     "elapsed": 31,
     "status": "aborted",
     "timestamp": 1678257171506,
     "user": {
      "displayName": "Hendy Lim",
      "userId": "00061580727958582383"
     },
     "user_tz": -480
    },
    "id": "LYyavfbIa47D"
   },
   "outputs": [
    {
     "name": "stdout",
     "output_type": "stream",
     "text": [
      "Could not find video\n"
     ]
    }
   ],
   "source": [
    "env = RecordVideo(gym.make(\"CartPole-v1\"), \"./video\")\n",
    "initial_observation = env.reset()\n",
    "observation=initial_observation[0]\n",
    "while True:\n",
    "    env.render()\n",
    "    #your agent goes here\n",
    "    action = Reinforcement_Learning_agent(observation)\n",
    "    observation, reward, done, truncated, info = env.step(action)\n",
    "    #print(observation)\n",
    "    if done: \n",
    "        break;    \n",
    "env.close()\n",
    "show_video()"
   ]
  },
  {
   "cell_type": "markdown",
   "metadata": {
    "id": "qCHm4u6q7gei"
   },
   "source": [
    "## Task 4: Format the Jupyter notebook by including step-by-step instruction and explanation"
   ]
  },
  {
   "cell_type": "code",
   "execution_count": 47,
   "metadata": {},
   "outputs": [
    {
     "name": "stdout",
     "output_type": "stream",
     "text": [
      "Requirement already satisfied: gym in c:\\users\\hendy\\anaconda3\\lib\\site-packages (0.26.2)\n",
      "Requirement already satisfied: cloudpickle>=1.2.0 in c:\\users\\hendy\\anaconda3\\lib\\site-packages (from gym) (2.0.0)\n",
      "Requirement already satisfied: importlib-metadata>=4.8.0 in c:\\users\\hendy\\anaconda3\\lib\\site-packages (from gym) (4.8.1)\n",
      "Requirement already satisfied: numpy>=1.18.0 in c:\\users\\hendy\\anaconda3\\lib\\site-packages (from gym) (1.24.2)\n",
      "Requirement already satisfied: gym-notices>=0.0.4 in c:\\users\\hendy\\anaconda3\\lib\\site-packages (from gym) (0.0.8)\n",
      "Requirement already satisfied: zipp>=0.5 in c:\\users\\hendy\\anaconda3\\lib\\site-packages (from importlib-metadata>=4.8.0->gym) (3.6.0)\n",
      "Requirement already satisfied: pyvirtualdisplay in c:\\users\\hendy\\anaconda3\\lib\\site-packages (3.0)\n",
      "Collecting box2d\n",
      "  Using cached Box2D-2.3.2.tar.gz (427 kB)\n",
      "Building wheels for collected packages: box2d\n",
      "  Building wheel for box2d (setup.py): started\n",
      "  Building wheel for box2d (setup.py): finished with status 'error'\n",
      "  Running setup.py clean for box2d\n",
      "Failed to build box2d\n",
      "Installing collected packages: box2d\n",
      "    Running setup.py install for box2d: started\n",
      "    Running setup.py install for box2d: finished with status 'error'\n"
     ]
    },
    {
     "name": "stderr",
     "output_type": "stream",
     "text": [
      "  ERROR: Command errored out with exit status 1:\n",
      "   command: 'C:\\Users\\Hendy\\anaconda3\\python.exe' -u -c 'import io, os, sys, setuptools, tokenize; sys.argv[0] = '\"'\"'C:\\\\Users\\\\Hendy\\\\AppData\\\\Local\\\\Temp\\\\pip-install-sv6bs4fi\\\\box2d_552742f4e1b443728f138cb5b1cf6401\\\\setup.py'\"'\"'; __file__='\"'\"'C:\\\\Users\\\\Hendy\\\\AppData\\\\Local\\\\Temp\\\\pip-install-sv6bs4fi\\\\box2d_552742f4e1b443728f138cb5b1cf6401\\\\setup.py'\"'\"';f = getattr(tokenize, '\"'\"'open'\"'\"', open)(__file__) if os.path.exists(__file__) else io.StringIO('\"'\"'from setuptools import setup; setup()'\"'\"');code = f.read().replace('\"'\"'\\r\\n'\"'\"', '\"'\"'\\n'\"'\"');f.close();exec(compile(code, __file__, '\"'\"'exec'\"'\"'))' bdist_wheel -d 'C:\\Users\\Hendy\\AppData\\Local\\Temp\\pip-wheel-ndnm8uz5'\n",
      "       cwd: C:\\Users\\Hendy\\AppData\\Local\\Temp\\pip-install-sv6bs4fi\\box2d_552742f4e1b443728f138cb5b1cf6401\\\n",
      "  Complete output (16 lines):\n",
      "  Using setuptools (version 67.5.1).\n",
      "  running bdist_wheel\n",
      "  running build\n",
      "  running build_py\n",
      "  creating build\n",
      "  creating build\\lib.win-amd64-cpython-39\n",
      "  creating build\\lib.win-amd64-cpython-39\\Box2D\n",
      "  copying library\\Box2D\\Box2D.py -> build\\lib.win-amd64-cpython-39\\Box2D\n",
      "  copying library\\Box2D\\__init__.py -> build\\lib.win-amd64-cpython-39\\Box2D\n",
      "  creating build\\lib.win-amd64-cpython-39\\Box2D\\b2\n",
      "  copying library\\Box2D\\b2\\__init__.py -> build\\lib.win-amd64-cpython-39\\Box2D\\b2\n",
      "  running build_ext\n",
      "  building 'Box2D._Box2D' extension\n",
      "  swigging Box2D\\Box2D.i to Box2D\\Box2D_wrap.cpp\n",
      "  swig.exe -python -c++ -IBox2D -small -O -includeall -ignoremissing -w201 -globals b2Globals -outdir library\\Box2D -keyword -w511 -D_SWIG_KWARGS -o Box2D\\Box2D_wrap.cpp Box2D\\Box2D.i\n",
      "  error: command 'swig.exe' failed: None\n",
      "  ----------------------------------------\n",
      "  ERROR: Failed building wheel for box2d\n",
      "    ERROR: Command errored out with exit status 1:\n",
      "     command: 'C:\\Users\\Hendy\\anaconda3\\python.exe' -u -c 'import io, os, sys, setuptools, tokenize; sys.argv[0] = '\"'\"'C:\\\\Users\\\\Hendy\\\\AppData\\\\Local\\\\Temp\\\\pip-install-sv6bs4fi\\\\box2d_552742f4e1b443728f138cb5b1cf6401\\\\setup.py'\"'\"'; __file__='\"'\"'C:\\\\Users\\\\Hendy\\\\AppData\\\\Local\\\\Temp\\\\pip-install-sv6bs4fi\\\\box2d_552742f4e1b443728f138cb5b1cf6401\\\\setup.py'\"'\"';f = getattr(tokenize, '\"'\"'open'\"'\"', open)(__file__) if os.path.exists(__file__) else io.StringIO('\"'\"'from setuptools import setup; setup()'\"'\"');code = f.read().replace('\"'\"'\\r\\n'\"'\"', '\"'\"'\\n'\"'\"');f.close();exec(compile(code, __file__, '\"'\"'exec'\"'\"'))' install --record 'C:\\Users\\Hendy\\AppData\\Local\\Temp\\pip-record-yci9kntc\\install-record.txt' --single-version-externally-managed --compile --install-headers 'C:\\Users\\Hendy\\anaconda3\\Include\\box2d'\n",
      "         cwd: C:\\Users\\Hendy\\AppData\\Local\\Temp\\pip-install-sv6bs4fi\\box2d_552742f4e1b443728f138cb5b1cf6401\\\n",
      "    Complete output (18 lines):\n",
      "    Using setuptools (version 67.5.1).\n",
      "    running install\n",
      "    C:\\Users\\Hendy\\anaconda3\\lib\\site-packages\\setuptools\\command\\install.py:34: SetuptoolsDeprecationWarning: setup.py install is deprecated. Use build and pip and other standards-based tools.\n",
      "      warnings.warn(\n",
      "    running build\n",
      "    running build_py\n",
      "    creating build\n",
      "    creating build\\lib.win-amd64-cpython-39\n",
      "    creating build\\lib.win-amd64-cpython-39\\Box2D\n",
      "    copying library\\Box2D\\Box2D.py -> build\\lib.win-amd64-cpython-39\\Box2D\n",
      "    copying library\\Box2D\\__init__.py -> build\\lib.win-amd64-cpython-39\\Box2D\n",
      "    creating build\\lib.win-amd64-cpython-39\\Box2D\\b2\n",
      "    copying library\\Box2D\\b2\\__init__.py -> build\\lib.win-amd64-cpython-39\\Box2D\\b2\n",
      "    running build_ext\n",
      "    building 'Box2D._Box2D' extension\n",
      "    swigging Box2D\\Box2D.i to Box2D\\Box2D_wrap.cpp\n",
      "    swig.exe -python -c++ -IBox2D -small -O -includeall -ignoremissing -w201 -globals b2Globals -outdir library\\Box2D -keyword -w511 -D_SWIG_KWARGS -o Box2D\\Box2D_wrap.cpp Box2D\\Box2D.i\n",
      "    error: command 'swig.exe' failed: None\n",
      "    ----------------------------------------\n",
      "ERROR: Command errored out with exit status 1: 'C:\\Users\\Hendy\\anaconda3\\python.exe' -u -c 'import io, os, sys, setuptools, tokenize; sys.argv[0] = '\"'\"'C:\\\\Users\\\\Hendy\\\\AppData\\\\Local\\\\Temp\\\\pip-install-sv6bs4fi\\\\box2d_552742f4e1b443728f138cb5b1cf6401\\\\setup.py'\"'\"'; __file__='\"'\"'C:\\\\Users\\\\Hendy\\\\AppData\\\\Local\\\\Temp\\\\pip-install-sv6bs4fi\\\\box2d_552742f4e1b443728f138cb5b1cf6401\\\\setup.py'\"'\"';f = getattr(tokenize, '\"'\"'open'\"'\"', open)(__file__) if os.path.exists(__file__) else io.StringIO('\"'\"'from setuptools import setup; setup()'\"'\"');code = f.read().replace('\"'\"'\\r\\n'\"'\"', '\"'\"'\\n'\"'\"');f.close();exec(compile(code, __file__, '\"'\"'exec'\"'\"'))' install --record 'C:\\Users\\Hendy\\AppData\\Local\\Temp\\pip-record-yci9kntc\\install-record.txt' --single-version-externally-managed --compile --install-headers 'C:\\Users\\Hendy\\anaconda3\\Include\\box2d' Check the logs for full command output.\n"
     ]
    }
   ],
   "source": [
    "!pip install gym\n",
    "!python -m pip install pyvirtualdisplay\n",
    "!pip3 install box2d"
   ]
  },
  {
   "cell_type": "code",
   "execution_count": 62,
   "metadata": {},
   "outputs": [
    {
     "ename": "TypeError",
     "evalue": "unsupported operand type(s) for /: 'VideoRecorder' and 'float'",
     "output_type": "error",
     "traceback": [
      "\u001b[1;31m---------------------------------------------------------------------------\u001b[0m",
      "\u001b[1;31mTypeError\u001b[0m                                 Traceback (most recent call last)",
      "\u001b[1;32m~\\AppData\\Local\\Temp/ipykernel_19508/714141323.py\u001b[0m in \u001b[0;36m<module>\u001b[1;34m\u001b[0m\n\u001b[0;32m     10\u001b[0m \u001b[1;32mwhile\u001b[0m \u001b[1;32mTrue\u001b[0m\u001b[1;33m:\u001b[0m\u001b[1;33m\u001b[0m\u001b[1;33m\u001b[0m\u001b[0m\n\u001b[0;32m     11\u001b[0m     \u001b[1;31m#your agent goes here\u001b[0m\u001b[1;33m\u001b[0m\u001b[1;33m\u001b[0m\u001b[0m\n\u001b[1;32m---> 12\u001b[1;33m     \u001b[0maction\u001b[0m \u001b[1;33m=\u001b[0m \u001b[0mReinforcement_Learning_agent\u001b[0m\u001b[1;33m(\u001b[0m\u001b[0mobservation\u001b[0m\u001b[1;33m)\u001b[0m\u001b[1;33m\u001b[0m\u001b[1;33m\u001b[0m\u001b[0m\n\u001b[0m\u001b[0;32m     13\u001b[0m     \u001b[0mobservation\u001b[0m\u001b[1;33m,\u001b[0m \u001b[0mreward\u001b[0m\u001b[1;33m,\u001b[0m \u001b[0mdone\u001b[0m\u001b[1;33m,\u001b[0m \u001b[0mtruncated\u001b[0m\u001b[1;33m,\u001b[0m \u001b[0minfo\u001b[0m \u001b[1;33m=\u001b[0m \u001b[0menv\u001b[0m\u001b[1;33m.\u001b[0m\u001b[0mstep\u001b[0m\u001b[1;33m(\u001b[0m\u001b[0maction\u001b[0m\u001b[1;33m)\u001b[0m\u001b[1;33m\u001b[0m\u001b[1;33m\u001b[0m\u001b[0m\n\u001b[0;32m     14\u001b[0m     \u001b[1;31m#print(observation)\u001b[0m\u001b[1;33m\u001b[0m\u001b[1;33m\u001b[0m\u001b[0m\n",
      "\u001b[1;32m~\\AppData\\Local\\Temp/ipykernel_19508/3131890829.py\u001b[0m in \u001b[0;36mReinforcement_Learning_agent\u001b[1;34m(state)\u001b[0m\n\u001b[0;32m      1\u001b[0m \u001b[1;32mdef\u001b[0m \u001b[0mReinforcement_Learning_agent\u001b[0m\u001b[1;33m(\u001b[0m\u001b[0mstate\u001b[0m\u001b[1;33m)\u001b[0m\u001b[1;33m:\u001b[0m\u001b[1;33m\u001b[0m\u001b[1;33m\u001b[0m\u001b[0m\n\u001b[1;32m----> 2\u001b[1;33m     \u001b[0mdiscrete_state\u001b[0m\u001b[1;33m=\u001b[0m\u001b[0mget_discrete_state\u001b[0m\u001b[1;33m(\u001b[0m\u001b[0mstate\u001b[0m\u001b[1;33m)\u001b[0m\u001b[1;33m\u001b[0m\u001b[1;33m\u001b[0m\u001b[0m\n\u001b[0m\u001b[0;32m      3\u001b[0m     \u001b[0maction\u001b[0m \u001b[1;33m=\u001b[0m \u001b[0mnp\u001b[0m\u001b[1;33m.\u001b[0m\u001b[0margmax\u001b[0m\u001b[1;33m(\u001b[0m\u001b[0mq_table\u001b[0m\u001b[1;33m[\u001b[0m\u001b[0mdiscrete_state\u001b[0m\u001b[1;33m]\u001b[0m\u001b[1;33m)\u001b[0m\u001b[1;33m\u001b[0m\u001b[1;33m\u001b[0m\u001b[0m\n\u001b[0;32m      4\u001b[0m     \u001b[1;32mreturn\u001b[0m \u001b[0maction\u001b[0m\u001b[1;33m\u001b[0m\u001b[1;33m\u001b[0m\u001b[0m\n",
      "\u001b[1;32m~\\AppData\\Local\\Temp/ipykernel_19508/621187830.py\u001b[0m in \u001b[0;36mget_discrete_state\u001b[1;34m(state)\u001b[0m\n\u001b[0;32m     24\u001b[0m \u001b[1;33m\u001b[0m\u001b[0m\n\u001b[0;32m     25\u001b[0m \u001b[1;32mdef\u001b[0m \u001b[0mget_discrete_state\u001b[0m\u001b[1;33m(\u001b[0m\u001b[0mstate\u001b[0m\u001b[1;33m)\u001b[0m\u001b[1;33m:\u001b[0m\u001b[1;33m\u001b[0m\u001b[1;33m\u001b[0m\u001b[0m\n\u001b[1;32m---> 26\u001b[1;33m     \u001b[0mdiscrete_state\u001b[0m \u001b[1;33m=\u001b[0m \u001b[0mstate\u001b[0m\u001b[1;33m/\u001b[0m\u001b[0mnp_array_win_size\u001b[0m\u001b[1;33m+\u001b[0m \u001b[0mnp\u001b[0m\u001b[1;33m.\u001b[0m\u001b[0marray\u001b[0m\u001b[1;33m(\u001b[0m\u001b[1;33m[\u001b[0m\u001b[1;36m15\u001b[0m\u001b[1;33m,\u001b[0m\u001b[1;36m10\u001b[0m\u001b[1;33m,\u001b[0m\u001b[1;36m1\u001b[0m\u001b[1;33m,\u001b[0m\u001b[1;36m10\u001b[0m\u001b[1;33m]\u001b[0m\u001b[1;33m)\u001b[0m\u001b[1;33m\u001b[0m\u001b[1;33m\u001b[0m\u001b[0m\n\u001b[0m\u001b[0;32m     27\u001b[0m     \u001b[1;32mreturn\u001b[0m \u001b[0mtuple\u001b[0m\u001b[1;33m(\u001b[0m\u001b[0mdiscrete_state\u001b[0m\u001b[1;33m.\u001b[0m\u001b[0mastype\u001b[0m\u001b[1;33m(\u001b[0m\u001b[0mint\u001b[0m\u001b[1;33m)\u001b[0m\u001b[1;33m)\u001b[0m\u001b[1;33m\u001b[0m\u001b[1;33m\u001b[0m\u001b[0m\n",
      "\u001b[1;31mTypeError\u001b[0m: unsupported operand type(s) for /: 'VideoRecorder' and 'float'"
     ]
    }
   ],
   "source": [
    "import gym\n",
    "from gym import wrappers\n",
    "from gym.wrappers.monitoring.video_recorder import VideoRecorder\n",
    "\n",
    "env = gym.make(\"CartPole-v1\")\n",
    "env = VideoRecorder(env, \"./video\")\n",
    "\n",
    "\n",
    "observation = env\n",
    "while True:\n",
    "    #your agent goes here\n",
    "    action = Reinforcement_Learning_agent(observation)\n",
    "    observation, reward, done, truncated, info = env.step(action)\n",
    "    #print(observation)\n",
    "    if done: \n",
    "        break;    \n",
    "env.close()\n",
    "show_video()"
   ]
  },
  {
   "cell_type": "code",
   "execution_count": null,
   "metadata": {},
   "outputs": [],
   "source": []
  }
 ],
 "metadata": {
  "colab": {
   "provenance": []
  },
  "kernelspec": {
   "display_name": "Python 3 (ipykernel)",
   "language": "python",
   "name": "python3"
  },
  "language_info": {
   "codemirror_mode": {
    "name": "ipython",
    "version": 3
   },
   "file_extension": ".py",
   "mimetype": "text/x-python",
   "name": "python",
   "nbconvert_exporter": "python",
   "pygments_lexer": "ipython3",
   "version": "3.9.7"
  }
 },
 "nbformat": 4,
 "nbformat_minor": 1
}
