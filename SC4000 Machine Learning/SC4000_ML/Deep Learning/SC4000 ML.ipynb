{
 "cells": [
  {
   "cell_type": "markdown",
   "id": "12165214",
   "metadata": {},
   "source": [
    "### Store Item Demand Forecasting Challenge\n",
    "\n",
    "Predict 3 months of item sales at different stores (deep learning)"
   ]
  },
  {
   "cell_type": "code",
   "execution_count": 112,
   "id": "a65fd7d2",
   "metadata": {},
   "outputs": [],
   "source": [
    "# Import necessary libraries\n",
    "import pandas as pd\n",
    "import numpy as np\n",
    "\n",
    "import matplotlib.pyplot as plt\n",
    "\n",
    "import tensorflow as tf\n",
    "from tensorflow.keras.models import Sequential\n",
    "from tensorflow.keras.layers import LSTM, Dense, Dropout\n",
    "\n",
    "from sklearn.preprocessing import MinMaxScaler\n",
    "\n",
    "from tensorflow.keras.callbacks import EarlyStopping, ModelCheckpoint"
   ]
  },
  {
   "cell_type": "code",
   "execution_count": 113,
   "id": "9274db7e",
   "metadata": {},
   "outputs": [],
   "source": [
    "train = pd.read_csv(\"./train.csv\", parse_dates=['date'])\n",
    "test = pd.read_csv(\"./test.csv\", parse_dates=['date'])\n",
    "\n",
    "# Convert the date column to a datetime format\n",
    "train['date'] = pd.to_datetime(train['date'])\n",
    "test['date'] = pd.to_datetime(test['date'])\n",
    "\n",
    "\n",
    "# Extract year, month, and day as separate columns\n",
    "train['year'] = train['date'].dt.year\n",
    "train['month'] = train['date'].dt.month\n",
    "train['day'] = train['date'].dt.day\n",
    "\n",
    "test['year'] = test['date'].dt.year\n",
    "test['month'] = test['date'].dt.month\n",
    "test['day'] = test['date'].dt.day\n",
    "\n"
   ]
  },
  {
   "cell_type": "code",
   "execution_count": 114,
   "id": "0c5b43a8",
   "metadata": {},
   "outputs": [
    {
     "name": "stdout",
     "output_type": "stream",
     "text": [
      "        date  store  item  sales  year  month  day\n",
      "0 2013-01-01      1     1     13  2013      1    1\n",
      "1 2013-01-02      1     1     11  2013      1    2\n",
      "2 2013-01-03      1     1     14  2013      1    3\n",
      "3 2013-01-04      1     1     13  2013      1    4\n",
      "4 2013-01-05      1     1     10  2013      1    5\n",
      "   id       date  store  item  year  month  day\n",
      "0   0 2018-01-01      1     1  2018      1    1\n",
      "1   1 2018-01-02      1     1  2018      1    2\n",
      "2   2 2018-01-03      1     1  2018      1    3\n",
      "3   3 2018-01-04      1     1  2018      1    4\n",
      "4   4 2018-01-05      1     1  2018      1    5\n"
     ]
    }
   ],
   "source": [
    "print(train.head())\n",
    "print(test.head())"
   ]
  },
  {
   "cell_type": "code",
   "execution_count": 115,
   "id": "2141dab6",
   "metadata": {
    "scrolled": true
   },
   "outputs": [
    {
     "data": {
      "image/png": "[encoded data removed]",
      "text/plain": [
       "<Figure size 432x288 with 1 Axes>"
      ]
     },
     "metadata": {
      "needs_background": "light"
     },
     "output_type": "display_data"
    }
   ],
   "source": [
    "# extract the dates and actual sales from the test data\n",
    "dates = train['date']\n",
    "actual_sales = train['sales']\n",
    "\n",
    "#fig, ax = plt.subplots(figsize=(12, 12))\n",
    "# create a line plot of the predicted and actual sales\n",
    "#plt.plot(dates, y_pred, label='Predicted Sales')\n",
    "plt.plot(dates, actual_sales, label='Actual Sales')\n",
    "plt.xticks(rotation=45)\n",
    "plt.legend()\n",
    "plt.show()"
   ]
  },
  {
   "cell_type": "code",
   "execution_count": 116,
   "id": "f17f53f5",
   "metadata": {},
   "outputs": [],
   "source": [
    "train = train.drop(['date'], axis=1)\n",
    "X_train = train.drop(['sales'], axis=1)\n",
    "y_train = train['sales']\n",
    "\n",
    "test = test.drop(['date'], axis=1)\n",
    "test = test.drop(['id'], axis=1)\n",
    "X_test = test"
   ]
  },
  {
   "cell_type": "code",
   "execution_count": 117,
   "id": "004f662a",
   "metadata": {},
   "outputs": [],
   "source": [
    "# Data preprocessing\n",
    "X_train = train[['year', 'month', 'day']].values\n",
    "y_train = train.iloc[:, -1].values\n",
    "X_train = np.reshape(X_train, (X_train.shape[0], X_train.shape[1], 1))\n",
    "\n",
    "\n",
    "\n",
    "\n",
    "#X_test = test.iloc[:, :-1].values\n",
    "#y_test = test.iloc[:, -1].values\n",
    "#X_test = np.reshape(X_test, (X_test.shape[0], X_test.shape[1], 1))"
   ]
  },
  {
   "cell_type": "markdown",
   "id": "d1852a78",
   "metadata": {},
   "source": [
    "#### Recurrent Neural Networks (RNN) with Keras\n",
    "\n",
    "Built-in RNN layers: a simple example\n",
    "There are three built-in RNN layers in Keras:\n",
    "\n",
    "keras.layers.SimpleRNN, a fully-connected RNN where the output from previous timestep is to be fed to next timestep.\n",
    "\n",
    "keras.layers.GRU, first proposed in Cho et al., 2014.\n",
    "\n",
    "keras.layers.LSTM, first proposed in Hochreiter & Schmidhuber, 1997.\n",
    "\n",
    "In early 2015, Keras had the first reusable open-source Python implementations of LSTM and GRU.\n",
    "\n",
    "Here is a simple example of a Sequential model that processes sequences of integers, embeds each integer into a 64-dimensional vector, then processes the sequence of vectors using a LSTM layer."
   ]
  },
  {
   "cell_type": "markdown",
   "id": "764730e1",
   "metadata": {},
   "source": [
    "##### Built-in RNNs support a number of useful features:\n",
    "\n",
    "Recurrent dropout, via the dropout and recurrent_dropout arguments\n",
    "Ability to process an input sequence in reverse, via the go_backwards argument\n",
    "Loop unrolling (which can lead to a large speedup when processing short sequences on CPU), via the unroll argument\n",
    "...and more.\n",
    "For more information, see the RNN API documentation."
   ]
  },
  {
   "cell_type": "code",
   "execution_count": 118,
   "id": "b0b951f3",
   "metadata": {},
   "outputs": [],
   "source": [
    "# Define the LSTM model\n",
    "model = Sequential()\n",
    "model.add(LSTM(64, input_shape=(X_train.shape[1], 1), return_sequences=True))\n",
    "model.add(Dropout(0.2))\n",
    "model.add(LSTM(64))\n",
    "model.add(Dropout(0.2))\n",
    "model.add(Dense(1))"
   ]
  },
  {
   "cell_type": "code",
   "execution_count": 119,
   "id": "668ddd34",
   "metadata": {},
   "outputs": [],
   "source": [
    "# Compile the model\n",
    "model.compile(optimizer='adam', loss='mean_squared_error')"
   ]
  },
  {
   "cell_type": "markdown",
   "id": "f26dfc2b",
   "metadata": {},
   "source": [
    "In the context of deep learning, an epoch refers to one complete iteration over the entire dataset during training. During each epoch, the model makes predictions on the training data, calculates the loss between the predicted values and the actual values, and updates the model's parameters to minimize the loss.\n",
    "\n",
    "One epoch consists of multiple iterations, where each iteration processes a batch of data. The number of iterations per epoch depends on the batch size, which is the number of samples that the model processes at once before updating the parameters.\n",
    "\n",
    "For example, if you have a dataset of 1000 samples and a batch size of 32, it will take 32 iterations to process the entire dataset once, so one epoch will consist of 32 iterations.\n",
    "\n",
    "In general, increasing the number of epochs can improve the model's performance up to a point, as the model has more opportunities to learn from the data. However, training the model for too many epochs can lead to overfitting, where the model starts to memorize the training data instead of learning to generalize to new data. It's important to monitor the model's performance on a separate validation set and use techniques such as early stopping to prevent overfitting."
   ]
  },
  {
   "cell_type": "code",
   "execution_count": 120,
   "id": "eef8a4a9",
   "metadata": {},
   "outputs": [
    {
     "name": "stdout",
     "output_type": "stream",
     "text": [
      "Epoch 1/25\n",
      "22815/22825 [============================>.] - ETA: 0s - loss: 2.3655\n",
      "Epoch 1: val_loss improved from inf to 0.01545, saving model to sales_model.h5\n",
      "22825/22825 [==============================] - 66s 3ms/step - loss: 2.3650 - val_loss: 0.0155\n",
      "Epoch 2/25\n",
      "22819/22825 [============================>.] - ETA: 0s - loss: 0.7735\n",
      "Epoch 2: val_loss did not improve from 0.01545\n",
      "22825/22825 [==============================] - 83s 4ms/step - loss: 0.7735 - val_loss: 0.0320\n",
      "Epoch 3/25\n",
      "22814/22825 [============================>.] - ETA: 0s - loss: 0.5450\n",
      "Epoch 3: val_loss did not improve from 0.01545\n",
      "22825/22825 [==============================] - 82s 4ms/step - loss: 0.5450 - val_loss: 0.0342\n",
      "Epoch 4/25\n",
      "22812/22825 [============================>.] - ETA: 0s - loss: 0.4449\n",
      "Epoch 4: val_loss did not improve from 0.01545\n",
      "22825/22825 [==============================] - 83s 4ms/step - loss: 0.4448 - val_loss: 0.0213\n",
      "Epoch 5/25\n",
      "22816/22825 [============================>.] - ETA: 0s - loss: 0.3942\n",
      "Epoch 5: val_loss did not improve from 0.01545\n",
      "22825/22825 [==============================] - 89s 4ms/step - loss: 0.3942 - val_loss: 0.0205\n",
      "Epoch 6/25\n",
      "22821/22825 [============================>.] - ETA: 0s - loss: 0.3650\n",
      "Epoch 6: val_loss did not improve from 0.01545\n",
      "22825/22825 [==============================] - 71s 3ms/step - loss: 0.3650 - val_loss: 0.0194\n",
      "Epoch 6: early stopping\n"
     ]
    }
   ],
   "source": [
    "# Define early stopping and model checkpoint callbacks\n",
    "early_stop = EarlyStopping(monitor='val_loss', patience=5, verbose=1)\n",
    "model_checkpoint = ModelCheckpoint('sales_model.h5', save_best_only=True, verbose=1)\n",
    "\n",
    "# Fit the model to the training data\n",
    "history = model.fit(X_train, y_train, epochs=25, batch_size=32, validation_split=0.2, callbacks=[early_stop, model_checkpoint])\n"
   ]
  },
  {
   "cell_type": "code",
   "execution_count": 121,
   "id": "f5e4faa3",
   "metadata": {},
   "outputs": [],
   "source": [
    "# Load the saved model\n",
    "model = tf.keras.models.load_model('sales_model.h5')"
   ]
  },
  {
   "cell_type": "code",
   "execution_count": 122,
   "id": "a78e8233",
   "metadata": {},
   "outputs": [],
   "source": [
    "# Preprocess the test data\n",
    "X_test = test[['year', 'month', 'day']].values\n",
    "X_test = np.reshape(X_test, (X_test.shape[0], X_test.shape[1], 1))"
   ]
  },
  {
   "cell_type": "code",
   "execution_count": 123,
   "id": "54c1cc02",
   "metadata": {},
   "outputs": [
    {
     "name": "stdout",
     "output_type": "stream",
     "text": [
      "1407/1407 [==============================] - 3s 1ms/step\n"
     ]
    }
   ],
   "source": [
    "# Make predictions on the test data\n",
    "y_pred = model.predict(X_test)"
   ]
  },
  {
   "cell_type": "code",
   "execution_count": 124,
   "id": "2fc546db",
   "metadata": {},
   "outputs": [],
   "source": [
    "# Add the predicted sales values to the test dataset\n",
    "test['sales'] = y_pred"
   ]
  },
  {
   "cell_type": "code",
   "execution_count": 125,
   "id": "2f6c6df0",
   "metadata": {},
   "outputs": [],
   "source": [
    "# Save the test dataset with predicted sales values to a CSV file\n",
    "#test.to_csv('predicted_sales.csv', index=False)"
   ]
  },
  {
   "cell_type": "code",
   "execution_count": 126,
   "id": "8a44bd79",
   "metadata": {},
   "outputs": [
    {
     "data": {
      "text/html": [
       "<div>\n",
       "<style scoped>\n",
       "    .dataframe tbody tr th:only-of-type {\n",
       "        vertical-align: middle;\n",
       "    }\n",
       "\n",
       "    .dataframe tbody tr th {\n",
       "        vertical-align: top;\n",
       "    }\n",
       "\n",
       "    .dataframe thead th {\n",
       "        text-align: right;\n",
       "    }\n",
       "</style>\n",
       "<table border=\"1\" class=\"dataframe\">\n",
       "  <thead>\n",
       "    <tr style=\"text-align: right;\">\n",
       "      <th></th>\n",
       "      <th>store</th>\n",
       "      <th>item</th>\n",
       "      <th>year</th>\n",
       "      <th>month</th>\n",
       "      <th>day</th>\n",
       "      <th>sales</th>\n",
       "    </tr>\n",
       "  </thead>\n",
       "  <tbody>\n",
       "    <tr>\n",
       "      <th>0</th>\n",
       "      <td>1</td>\n",
       "      <td>1</td>\n",
       "      <td>2018</td>\n",
       "      <td>1</td>\n",
       "      <td>1</td>\n",
       "      <td>1.094880</td>\n",
       "    </tr>\n",
       "    <tr>\n",
       "      <th>1</th>\n",
       "      <td>1</td>\n",
       "      <td>1</td>\n",
       "      <td>2018</td>\n",
       "      <td>1</td>\n",
       "      <td>2</td>\n",
       "      <td>1.983991</td>\n",
       "    </tr>\n",
       "    <tr>\n",
       "      <th>2</th>\n",
       "      <td>1</td>\n",
       "      <td>1</td>\n",
       "      <td>2018</td>\n",
       "      <td>1</td>\n",
       "      <td>3</td>\n",
       "      <td>2.945449</td>\n",
       "    </tr>\n",
       "    <tr>\n",
       "      <th>3</th>\n",
       "      <td>1</td>\n",
       "      <td>1</td>\n",
       "      <td>2018</td>\n",
       "      <td>1</td>\n",
       "      <td>4</td>\n",
       "      <td>3.831769</td>\n",
       "    </tr>\n",
       "    <tr>\n",
       "      <th>4</th>\n",
       "      <td>1</td>\n",
       "      <td>1</td>\n",
       "      <td>2018</td>\n",
       "      <td>1</td>\n",
       "      <td>5</td>\n",
       "      <td>4.976740</td>\n",
       "    </tr>\n",
       "    <tr>\n",
       "      <th>...</th>\n",
       "      <td>...</td>\n",
       "      <td>...</td>\n",
       "      <td>...</td>\n",
       "      <td>...</td>\n",
       "      <td>...</td>\n",
       "      <td>...</td>\n",
       "    </tr>\n",
       "    <tr>\n",
       "      <th>44995</th>\n",
       "      <td>10</td>\n",
       "      <td>50</td>\n",
       "      <td>2018</td>\n",
       "      <td>3</td>\n",
       "      <td>27</td>\n",
       "      <td>26.960119</td>\n",
       "    </tr>\n",
       "    <tr>\n",
       "      <th>44996</th>\n",
       "      <td>10</td>\n",
       "      <td>50</td>\n",
       "      <td>2018</td>\n",
       "      <td>3</td>\n",
       "      <td>28</td>\n",
       "      <td>27.979479</td>\n",
       "    </tr>\n",
       "    <tr>\n",
       "      <th>44997</th>\n",
       "      <td>10</td>\n",
       "      <td>50</td>\n",
       "      <td>2018</td>\n",
       "      <td>3</td>\n",
       "      <td>29</td>\n",
       "      <td>29.058455</td>\n",
       "    </tr>\n",
       "    <tr>\n",
       "      <th>44998</th>\n",
       "      <td>10</td>\n",
       "      <td>50</td>\n",
       "      <td>2018</td>\n",
       "      <td>3</td>\n",
       "      <td>30</td>\n",
       "      <td>30.060242</td>\n",
       "    </tr>\n",
       "    <tr>\n",
       "      <th>44999</th>\n",
       "      <td>10</td>\n",
       "      <td>50</td>\n",
       "      <td>2018</td>\n",
       "      <td>3</td>\n",
       "      <td>31</td>\n",
       "      <td>30.683352</td>\n",
       "    </tr>\n",
       "  </tbody>\n",
       "</table>\n",
       "<p>45000 rows × 6 columns</p>\n",
       "</div>"
      ],
      "text/plain": [
       "       store  item  year  month  day      sales\n",
       "0          1     1  2018      1    1   1.094880\n",
       "1          1     1  2018      1    2   1.983991\n",
       "2          1     1  2018      1    3   2.945449\n",
       "3          1     1  2018      1    4   3.831769\n",
       "4          1     1  2018      1    5   4.976740\n",
       "...      ...   ...   ...    ...  ...        ...\n",
       "44995     10    50  2018      3   27  26.960119\n",
       "44996     10    50  2018      3   28  27.979479\n",
       "44997     10    50  2018      3   29  29.058455\n",
       "44998     10    50  2018      3   30  30.060242\n",
       "44999     10    50  2018      3   31  30.683352\n",
       "\n",
       "[45000 rows x 6 columns]"
      ]
     },
     "execution_count": 126,
     "metadata": {},
     "output_type": "execute_result"
    }
   ],
   "source": [
    "test"
   ]
  },
  {
   "cell_type": "code",
   "execution_count": null,
   "id": "0466a90e",
   "metadata": {},
   "outputs": [],
   "source": []
  }
 ],
 "metadata": {
  "kernelspec": {
   "display_name": "Python 3 (ipykernel)",
   "language": "python",
   "name": "python3"
  },
  "language_info": {
   "codemirror_mode": {
    "name": "ipython",
    "version": 3
   },
   "file_extension": ".py",
   "mimetype": "text/x-python",
   "name": "python",
   "nbconvert_exporter": "python",
   "pygments_lexer": "ipython3",
   "version": "3.9.7"
  }
 },
 "nbformat": 4,
 "nbformat_minor": 5
}
