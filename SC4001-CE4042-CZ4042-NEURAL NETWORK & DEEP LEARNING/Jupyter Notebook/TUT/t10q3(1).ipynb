{
 "cells": [
  {
   "cell_type": "markdown",
   "metadata": {
    "id": "Wpvl3buWbsYS"
   },
   "source": [
    "## Tutorial 10, Question 3 (Deep Stacked Classifier)"
   ]
  },
  {
   "cell_type": "code",
   "execution_count": 1,
   "metadata": {
    "colab": {
     "base_uri": "https://localhost:8080/"
    },
    "id": "b8Zb9c20iuob",
    "outputId": "39e18f0d-f715-4df8-9f39-b9d8f87e9be0"
   },
   "outputs": [
    {
     "name": "stdout",
     "output_type": "stream",
     "text": [
      "creating the figures folder\n"
     ]
    }
   ],
   "source": [
    "import os\n",
    "import matplotlib.pyplot as plt\n",
    "import numpy as np\n",
    "import torch\n",
    "import torch.nn as nn\n",
    "import torch.nn.functional as F\n",
    "import torch.optim as optim\n",
    "from torchvision import datasets, transforms\n",
    "from torch.utils.data import DataLoader\n",
    "\n",
    "if not os.path.isdir('figures'):\n",
    "    print('creating the figures folder')\n",
    "    os.makedirs('figures')"
   ]
  },
  {
   "cell_type": "code",
   "execution_count": 2,
   "metadata": {
    "id": "2pc9pFKnD75w"
   },
   "outputs": [],
   "source": [
    "noise_prob = 0.1\n",
    "\n",
    "# Add mulplicative noise\n",
    "def add_noise(x):\n",
    "    noise = torch.bernoulli(torch.full_like(x, 1 - noise_prob))  # 0.1 is the noise level\n",
    "    noisy_x = x * noise\n",
    "    return noisy_x"
   ]
  },
  {
   "cell_type": "markdown",
   "metadata": {
    "id": "E5fDgaBMre1q"
   },
   "source": [
    "## Autoencoder with Tied Weights\n",
    "\n",
    "In this section, we define a class `Autoencoder` using PyTorch's `nn.Module` to implement an autoencoder with tied weights. The autoencoder is a type of neural network used to learn efficient representations of the input data, typically for the purpose of dimensionality reduction or feature learning.\n",
    "\n",
    "### Architecture Details:\n",
    "\n",
    "- **Initialization Method:**\n",
    "  The `__init__` method initializes the autoencoder with the following layers and parameters:\n",
    "\n",
    "  - **Encoder**:\n",
    "    - `W1`: The weight matrix for the first hidden layer in the encoder, with a size of `(n_hidden1, n_in)`. It is initialized with random values scaled by `sqrt(1/n_in)` for Xavier initialization.\n",
    "    - `b1`: The bias vector for the first hidden layer in the encoder, initialized to zeros.\n",
    "\n",
    "  - **Decoder**:\n",
    "    - `b1_prime`: The bias vector for reconstructing the input from the first hidden layer's representation, initialized to zeros. Note that the weight matrix `W1` is tied to its transpose for the decoding process.\n",
    "\n",
    "  - **Second Hidden Layer**:\n",
    "    - `W2`: The weight matrix for the second hidden layer, with a size of `(n_hidden2, n_hidden1)`, initialized similarly to `W1`.\n",
    "    - `b2`: The bias vector for the second hidden layer, initialized to zeros.\n",
    "    - `b2_prime`: The bias vector for reconstructing the first hidden layer from the second hidden layer's representation, initialized to zeros.\n",
    "\n",
    "  - **Classifier**:\n",
    "    - `W3`: The weight matrix for the output layer, with a size of `(n_out, n_hidden2)`, initialized using the same strategy as `W1` and `W2`.\n",
    "    - `b3`: The bias vector for the output layer, initialized to zeros.\n",
    "\n",
    "### Forward Pass:\n",
    "\n",
    "The `forward` method defines the forward pass of the autoencoder:\n",
    "\n",
    "- The input `x` is transformed through the encoder to produce the first hidden layer representation `h1`.\n",
    "- The representation `h1` is then used to reconstruct the input `y1` using the transpose of `W1` (implementing tied weights).\n",
    "- The hidden layer `h1` is further encoded to produce the second hidden layer representation `h2`.\n",
    "- The second hidden layer `h2` is used to reconstruct `h1` in `y2` using the transpose of `W2` (again using tied weights).\n",
    "- Finally, `h2` is transformed to the output `y3` using the weights `W3` and bias `b3`.\n",
    "\n",
    "The activation function used in each step is the sigmoid function, which adds non-linearity to the transformations.\n",
    "\n",
    "This setup allows the autoencoder to learn to compress the input data into a more compact representation and then reconstruct the input from this representation as closely as possible, while also having the ability to produce a classification output.\n",
    "\n"
   ]
  },
  {
   "cell_type": "code",
   "execution_count": 3,
   "metadata": {
    "id": "9WqkfsqXiypP"
   },
   "outputs": [],
   "source": [
    "# Define the Autoencoder architecture with tied weights\n",
    "class Autoencoder(nn.Module):\n",
    "    def __init__(self, n_in, n_hidden1, n_hidden2, n_out):\n",
    "        super(Autoencoder, self).__init__()\n",
    "        # Encoder\n",
    "        self.W1 = nn.Parameter(torch.randn(n_hidden1, n_in) * np.sqrt(1. / n_in))\n",
    "        self.b1 = nn.Parameter(torch.zeros(n_hidden1))\n",
    "\n",
    "        # Decoder\n",
    "        self.b1_prime = nn.Parameter(torch.zeros(n_in))\n",
    "\n",
    "        # Second hidden layer\n",
    "        self.W2 = nn.Parameter(torch.randn(n_hidden2, n_hidden1) * np.sqrt(1. / n_hidden1))\n",
    "        self.b2 = nn.Parameter(torch.zeros(n_hidden2))\n",
    "        self.b2_prime = nn.Parameter(torch.zeros(n_hidden1))\n",
    "\n",
    "        # Classifier\n",
    "        self.W3 = nn.Parameter(torch.randn(n_out, n_hidden2) * np.sqrt(1. / n_hidden2))\n",
    "        self.b3 = nn.Parameter(torch.zeros(n_out))\n",
    "\n",
    "    def forward(self, x):\n",
    "        h1 = torch.sigmoid(F.linear(x, self.W1, self.b1))\n",
    "        y1 = torch.sigmoid(F.linear(h1, self.W1.t(), self.b1_prime))\n",
    "        h2 = torch.sigmoid(F.linear(h1, self.W2, self.b2))\n",
    "        y2 = torch.sigmoid(F.linear(h2, self.W2.t(), self.b2_prime))\n",
    "        y3 = F.linear(h2, self.W3, self.b3)\n",
    "        return h1, y1, h2, y2, y3"
   ]
  },
  {
   "cell_type": "code",
   "execution_count": 4,
   "metadata": {
    "id": "esQD2lATi2H3"
   },
   "outputs": [],
   "source": [
    "# Loss functions\n",
    "def loss_ae(h, y, original):\n",
    "    rho = 0.02\n",
    "    mse_loss = torch.mean(torch.sum((original - y) ** 2, dim=1))\n",
    "    sparse_loss = torch.sum(rho * torch.log(rho / torch.mean(h, dim=0)) + (1 - rho) * torch.log((1 - rho) / (1 - torch.mean(h, dim=0))))\n",
    "    return mse_loss + 0.4 * sparse_loss\n",
    "\n",
    "def loss_class(output, target):\n",
    "    # Cross-Entropy loss\n",
    "    return F.cross_entropy(output, target)\n",
    "\n",
    "def accuracy(output, target):\n",
    "    pred = output.argmax(dim=1, keepdim=True)\n",
    "    return pred.eq(target.view_as(pred)).float().mean()"
   ]
  },
  {
   "cell_type": "markdown",
   "metadata": {
    "id": "njf2O5hwrtJU"
   },
   "source": [
    "## Training Function for a Stepwise Autoencoder Model\n",
    "\n",
    "The following function, `train`, is used to train an autoencoder model in a stepwise fashion. This approach can be used to train the autoencoder and classifier components separately.\n",
    "\n",
    "### Parameters:\n",
    "\n",
    "- `model`: This is the autoencoder model to be trained.\n",
    "- `train_loader`: The data loader that provides batches of training data.\n",
    "- `optimizer`: The optimization algorithm used to update the weights of the model.\n",
    "- `step`: An integer value that indicates the current training step or phase.\n",
    "- `device`: The device (CPU or GPU) on which the model will be trained.\n",
    "\n",
    "### Function Overview:\n",
    "\n",
    "- The function sets the model to training mode using `model.train()`.\n",
    "- It initializes `train_loss` to keep track of the cumulative loss for the epoch.\n",
    "- The function then iterates over the `train_loader`, fetching batches of data and corresponding targets.\n",
    "- It moves the data and targets to the specified `device`.\n",
    "- Depending on the value of `step`, it executes a different part of the model:\n",
    "  - **Step 1**: Trains the encoder and the first part of the decoder, optimizing the reconstruction loss between the input data and its first stage reconstruction `y1`.\n",
    "  - **Step 2**: Continues training by optimizing the reconstruction loss between the first hidden representation `h1` and its reconstruction `y2`.\n",
    "  - **Step 3**: Trains the classifier part of the model, optimizing the classification loss between the final output `y3` and the target labels.\n",
    "- For each step, the function:\n",
    "  - Clears the gradients of the optimizer.\n",
    "  - Computes the loss using a predefined loss function specific to each step (`loss_ae` for steps 1 and 2, `loss_class` for step 3).\n",
    "  - Accumulates the loss to `train_loss`.\n",
    "  - Performs backpropagation using `loss.backward()`.\n",
    "  - Updates the model parameters using `optimizer.step()`.\n",
    "\n",
    "### Return Value:\n",
    "\n",
    "- The function returns the average training loss for the epoch, which is the cumulative `train_loss` divided by the total number of items in the dataset.\n",
    "\n",
    "By dividing the training process into steps, the model can first learn to encode and decode the input before focusing on the classification task, which can sometimes lead to better generalization and easier training.\n",
    "\n"
   ]
  },
  {
   "cell_type": "code",
   "execution_count": 5,
   "metadata": {
    "id": "VS4hBiMEi7N6"
   },
   "outputs": [],
   "source": [
    "# Training function\n",
    "def train(model, train_loader, optimizer, step, device):\n",
    "    model.train()\n",
    "    train_loss = 0\n",
    "    for data, target in train_loader:\n",
    "        data, target = data.to(device), target.to(device)\n",
    "        noisy_data = add_noise(data)\n",
    "        optimizer.zero_grad()\n",
    "        if step == 1:\n",
    "            h1, y1, _, _, _ = model(noisy_data)\n",
    "            loss = loss_ae(h1, y1, data)\n",
    "            train_loss += loss.item()\n",
    "            loss.backward()\n",
    "            optimizer.step()\n",
    "        elif step == 2:\n",
    "            h1, _, h2, y2, _ = model(noisy_data)\n",
    "            loss = loss_ae(h2, y2, h1)\n",
    "            train_loss += loss.item()\n",
    "            loss.backward()\n",
    "            optimizer.step()\n",
    "        elif step == 3:\n",
    "            _, _, _, _, y3 = model(data)\n",
    "            loss = loss_class(y3, target)\n",
    "            train_loss += loss.item()\n",
    "            loss.backward()\n",
    "            optimizer.step()\n",
    "    return train_loss / len(train_loader.dataset)"
   ]
  },
  {
   "cell_type": "code",
   "execution_count": 6,
   "metadata": {
    "id": "W6Z8tIcCi9pp"
   },
   "outputs": [],
   "source": [
    "# Test function\n",
    "def test(model, test_loader, device):\n",
    "    model.eval()\n",
    "    test_acc = 0\n",
    "    with torch.no_grad():\n",
    "        for data, target in test_loader:\n",
    "            data, target = data.to(device), target.to(device)\n",
    "            _, _, _, _, output = model(data)\n",
    "            test_acc += accuracy(output, target).item()\n",
    "    return test_acc / len(test_loader)"
   ]
  },
  {
   "cell_type": "markdown",
   "metadata": {
    "id": "r3EgHXFisBbd"
   },
   "source": [
    "## MNIST Data Loaders with Flatten Transform\n",
    "\n",
    "To prepare the data loaders for the MNIST dataset, we are using the `datasets.MNIST` class provided by PyTorch's `torchvision` module. We apply a series of transforms to the data to prepare it for input into our neural network model.\n",
    "\n",
    "### Data Loading and Transformations:\n",
    "\n",
    "- **Training Dataset**:\n",
    "  - We specify `train=True` to indicate we want the training portion of the MNIST dataset.\n",
    "  - The `download=True` parameter tells the loader to download the data if it's not present in the specified directory (`./data`).\n",
    "  - We then define a composition of transforms:\n",
    "    - `transforms.ToTensor()`: Converts the PIL Image or numpy.ndarray to a float tensor and scales the image's intensity values in the range [0., 1.].\n",
    "    - `transforms.Lambda(lambda x: torch.bernoulli(x))`: Applies a Bernoulli sampling to the input tensor, effectively binarizing the image. Each pixel will be set to 1 with a probability equal to its intensity value.\n",
    "    - `transforms.Lambda(lambda x: x.view(-1))`: Flattens the image into a 1D tensor. The `-1` in the `view` function call infers the correct dimension for flattening.\n",
    "\n",
    "- **Test Dataset**:\n",
    "  - We specify `train=False` to load the test portion of the MNIST dataset.\n",
    "  - The transformations are similar to the training dataset, except we do not apply the Bernoulli sampling. This is typically because we want to evaluate the model on unaltered test data.\n",
    "    - `transforms.ToTensor()`: Scales and converts the image to a tensor.\n",
    "    - `transforms.Lambda(lambda x: x.view(-1))`: Flattens the image into a 1D tensor for consistency with the training data format.\n",
    "\n",
    "The resulting `train_dataset` and `test_dataset` are PyTorch Dataset objects that are ready to be wrapped by a `DataLoader` for batch processing and shuffling.\n",
    "\n"
   ]
  },
  {
   "cell_type": "code",
   "execution_count": 7,
   "metadata": {
    "colab": {
     "base_uri": "https://localhost:8080/"
    },
    "id": "eWxDhdL1i_rG",
    "outputId": "ced17063-2c7d-4a12-bdc2-0ea0c4c1b454"
   },
   "outputs": [
    {
     "name": "stdout",
     "output_type": "stream",
     "text": [
      "Downloading http://yann.lecun.com/exdb/mnist/train-images-idx3-ubyte.gz\n",
      "Downloading http://yann.lecun.com/exdb/mnist/train-images-idx3-ubyte.gz to ./data/MNIST/raw/train-images-idx3-ubyte.gz\n"
     ]
    },
    {
     "name": "stderr",
     "output_type": "stream",
     "text": [
      "100%|██████████| 9912422/9912422 [00:00<00:00, 108378459.83it/s]\n"
     ]
    },
    {
     "name": "stdout",
     "output_type": "stream",
     "text": [
      "Extracting ./data/MNIST/raw/train-images-idx3-ubyte.gz to ./data/MNIST/raw\n",
      "\n",
      "Downloading http://yann.lecun.com/exdb/mnist/train-labels-idx1-ubyte.gz\n",
      "Downloading http://yann.lecun.com/exdb/mnist/train-labels-idx1-ubyte.gz to ./data/MNIST/raw/train-labels-idx1-ubyte.gz\n"
     ]
    },
    {
     "name": "stderr",
     "output_type": "stream",
     "text": [
      "100%|██████████| 28881/28881 [00:00<00:00, 37678287.35it/s]\n"
     ]
    },
    {
     "name": "stdout",
     "output_type": "stream",
     "text": [
      "Extracting ./data/MNIST/raw/train-labels-idx1-ubyte.gz to ./data/MNIST/raw\n",
      "\n",
      "Downloading http://yann.lecun.com/exdb/mnist/t10k-images-idx3-ubyte.gz\n",
      "Downloading http://yann.lecun.com/exdb/mnist/t10k-images-idx3-ubyte.gz to ./data/MNIST/raw/t10k-images-idx3-ubyte.gz\n"
     ]
    },
    {
     "name": "stderr",
     "output_type": "stream",
     "text": [
      "100%|██████████| 1648877/1648877 [00:00<00:00, 29785868.27it/s]\n"
     ]
    },
    {
     "name": "stdout",
     "output_type": "stream",
     "text": [
      "Extracting ./data/MNIST/raw/t10k-images-idx3-ubyte.gz to ./data/MNIST/raw\n",
      "\n",
      "Downloading http://yann.lecun.com/exdb/mnist/t10k-labels-idx1-ubyte.gz\n",
      "Downloading http://yann.lecun.com/exdb/mnist/t10k-labels-idx1-ubyte.gz to ./data/MNIST/raw/t10k-labels-idx1-ubyte.gz\n"
     ]
    },
    {
     "name": "stderr",
     "output_type": "stream",
     "text": [
      "100%|██████████| 4542/4542 [00:00<00:00, 3691962.94it/s]\n"
     ]
    },
    {
     "name": "stdout",
     "output_type": "stream",
     "text": [
      "Extracting ./data/MNIST/raw/t10k-labels-idx1-ubyte.gz to ./data/MNIST/raw\n",
      "\n"
     ]
    }
   ],
   "source": [
    "# MNIST data loaders with added Flatten transform\n",
    "train_dataset = datasets.MNIST('./data', train=True, download=True,\n",
    "                               transform=transforms.Compose([\n",
    "                                   transforms.ToTensor(),\n",
    "                                   transforms.Lambda(lambda x: x.view(-1))  # Flatten the images\n",
    "                               ]))\n",
    "\n",
    "test_dataset = datasets.MNIST('./data', train=False,\n",
    "                              transform=transforms.Compose([\n",
    "                                  transforms.ToTensor(),\n",
    "                                  transforms.Lambda(lambda x: x.view(-1))  # Flatten the images\n",
    "                              ]))\n",
    "\n",
    "train_loader = DataLoader(train_dataset, batch_size=64, shuffle=True)\n",
    "test_loader = DataLoader(test_dataset, batch_size=1000, shuffle=True)\n"
   ]
  },
  {
   "cell_type": "code",
   "execution_count": 8,
   "metadata": {
    "id": "1pb7DtVWjI0P"
   },
   "outputs": [],
   "source": [
    "# Device configuration\n",
    "device = torch.device('cuda' if torch.cuda.is_available() else 'cpu')\n",
    "\n",
    "# Model, optimizer and steps\n",
    "model = Autoencoder(784, 625, 100, 10).to(device)\n",
    "optimizer = optim.Adam(model.parameters(), lr=1e-4)"
   ]
  },
  {
   "cell_type": "code",
   "execution_count": 9,
   "metadata": {
    "colab": {
     "base_uri": "https://localhost:8080/"
    },
    "id": "978JKHAyitlR",
    "outputId": "87f0508f-4978-4cd4-a34a-462b24eda407"
   },
   "outputs": [
    {
     "name": "stdout",
     "output_type": "stream",
     "text": [
      "Step 1, Epoch [1/10], Loss: 1.7722\n",
      "Test Accuracy: 0.1028\n",
      "Step 1, Epoch [2/10], Loss: 0.9480\n",
      "Step 1, Epoch [3/10], Loss: 0.7299\n",
      "Step 1, Epoch [4/10], Loss: 0.6265\n",
      "Step 1, Epoch [5/10], Loss: 0.5538\n",
      "Step 1, Epoch [6/10], Loss: 0.4964\n",
      "Step 1, Epoch [7/10], Loss: 0.4475\n",
      "Step 1, Epoch [8/10], Loss: 0.4045\n",
      "Step 1, Epoch [9/10], Loss: 0.3671\n",
      "Step 1, Epoch [10/10], Loss: 0.3356\n",
      "Step 2, Epoch [1/10], Loss: 0.9001\n",
      "Test Accuracy: 0.1136\n",
      "Step 2, Epoch [2/10], Loss: 0.3838\n",
      "Step 2, Epoch [3/10], Loss: 0.1941\n",
      "Step 2, Epoch [4/10], Loss: 0.1054\n",
      "Step 2, Epoch [5/10], Loss: 0.0664\n",
      "Step 2, Epoch [6/10], Loss: 0.0473\n",
      "Step 2, Epoch [7/10], Loss: 0.0361\n",
      "Step 2, Epoch [8/10], Loss: 0.0285\n",
      "Step 2, Epoch [9/10], Loss: 0.0227\n",
      "Step 2, Epoch [10/10], Loss: 0.0180\n",
      "Step 3, Epoch [1/10], Loss: 0.0234\n",
      "Test Accuracy: 0.8543\n",
      "Step 3, Epoch [2/10], Loss: 0.0086\n",
      "Step 3, Epoch [3/10], Loss: 0.0060\n",
      "Step 3, Epoch [4/10], Loss: 0.0050\n",
      "Step 3, Epoch [5/10], Loss: 0.0044\n",
      "Step 3, Epoch [6/10], Loss: 0.0041\n",
      "Step 3, Epoch [7/10], Loss: 0.0037\n",
      "Step 3, Epoch [8/10], Loss: 0.0035\n",
      "Step 3, Epoch [9/10], Loss: 0.0033\n",
      "Step 3, Epoch [10/10], Loss: 0.0031\n"
     ]
    }
   ],
   "source": [
    "# Train the model\n",
    "num_epochs = 10\n",
    "steps = 3\n",
    "for step in range(1, steps + 1):\n",
    "    for epoch in range(num_epochs):\n",
    "        train_loss = train(model, train_loader, optimizer, step, device)\n",
    "        print(f\"Step {step}, Epoch [{epoch + 1}/{num_epochs}], Loss: {train_loss:.4f}\")\n",
    "\n",
    "        if epoch % 10 == 0:\n",
    "            test_acc = test(model, test_loader, device)\n",
    "            print(f\"Test Accuracy: {test_acc:.4f}\")\n",
    "\n",
    "# Save the model checkpoint\n",
    "torch.save(model.state_dict(), 'sparse_autoencoder.pth')"
   ]
  },
  {
   "cell_type": "code",
   "execution_count": 10,
   "metadata": {
    "colab": {
     "base_uri": "https://localhost:8080/"
    },
    "id": "tDdg6yRWq1yF",
    "outputId": "2401524c-a3e1-44b1-ab2c-c745463ee04b"
   },
   "outputs": [
    {
     "name": "stdout",
     "output_type": "stream",
     "text": [
      "Test Accuracy: 0.9419\n"
     ]
    }
   ],
   "source": [
    "# Do a final round of testing to check the accuracy\n",
    "test_acc = test(model, test_loader, device)\n",
    "print(f\"Test Accuracy: {test_acc:.4f}\")"
   ]
  }
 ],
 "metadata": {
  "accelerator": "GPU",
  "colab": {
   "provenance": []
  },
  "kernelspec": {
   "display_name": "Python 3 (ipykernel)",
   "language": "python",
   "name": "python3"
  },
  "language_info": {
   "codemirror_mode": {
    "name": "ipython",
    "version": 3
   },
   "file_extension": ".py",
   "mimetype": "text/x-python",
   "name": "python",
   "nbconvert_exporter": "python",
   "pygments_lexer": "ipython3",
   "version": "3.11.1"
  }
 },
 "nbformat": 4,
 "nbformat_minor": 1
}
