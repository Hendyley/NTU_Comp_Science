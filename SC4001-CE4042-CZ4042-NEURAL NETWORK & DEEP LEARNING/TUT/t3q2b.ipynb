{
 "cells": [
  {
   "cell_type": "markdown",
   "metadata": {},
   "source": [
    "# Tutorial 3, Question 2b"
   ]
  },
  {
   "cell_type": "code",
   "execution_count": 1,
   "metadata": {},
   "outputs": [],
   "source": [
    "import torch\n",
    "from torch import nn\n",
    "from torch.utils.data import DataLoader\n",
    "from torch.utils.data import Dataset\n",
    "\n",
    "import time\n",
    "import numpy as np\n",
    "import matplotlib.pylab as plt\n",
    "\n",
    "from sklearn import datasets\n",
    "from sklearn.model_selection import train_test_split"
   ]
  },
  {
   "cell_type": "markdown",
   "metadata": {},
   "source": [
    "## Set learning parameters"
   ]
  },
  {
   "cell_type": "code",
   "execution_count": 2,
   "metadata": {},
   "outputs": [],
   "source": [
    "no_epochs = 1000\n",
    "batch_size = 16\n",
    "lr = 0.1\n",
    "\n",
    "SEED = 100\n",
    "torch.manual_seed(SEED)\n",
    "np.random.seed(SEED)\n",
    "\n",
    "no_inputs = 4\n",
    "no_outputs = 3"
   ]
  },
  {
   "cell_type": "markdown",
   "metadata": {},
   "source": [
    "## Read input data"
   ]
  },
  {
   "cell_type": "code",
   "execution_count": 3,
   "metadata": {},
   "outputs": [
    {
     "name": "stdout",
     "output_type": "stream",
     "text": [
      "(90, 4)\n",
      "(60,)\n"
     ]
    }
   ],
   "source": [
    "iris = datasets.load_iris()\n",
    "iris.data -= np.mean(iris.data, axis=0)\n",
    "    \n",
    "x_train, x_test, y_train, y_test = train_test_split(iris.data, iris.target, test_size=0.4, random_state=2)\n",
    "\n",
    "print(np.shape(x_train))\n",
    "print(np.shape(y_test))"
   ]
  },
  {
   "cell_type": "code",
   "execution_count": 4,
   "metadata": {},
   "outputs": [],
   "source": [
    "class MyDataset(Dataset):\n",
    "  def __init__(self, X, y):\n",
    "    self.X =torch.tensor(X, dtype=torch.float)\n",
    "    self.y =torch.tensor(y)\n",
    "    \n",
    "  def __len__(self):\n",
    "    return len(self.y)\n",
    "\n",
    "  def __getitem__(self,idx):\n",
    "    return self.X[idx], self.y[idx]"
   ]
  },
  {
   "cell_type": "code",
   "execution_count": 5,
   "metadata": {},
   "outputs": [],
   "source": [
    "train_data = MyDataset(x_train, y_train)\n",
    "test_data = MyDataset(x_test, y_test)"
   ]
  },
  {
   "cell_type": "markdown",
   "metadata": {},
   "source": [
    "## Build the model"
   ]
  },
  {
   "cell_type": "code",
   "execution_count": 6,
   "metadata": {},
   "outputs": [],
   "source": [
    "class SoftmaxLayer(nn.Module):\n",
    "  def __init__(self, no_inputs, no_outputs):\n",
    "        super().__init__()\n",
    "        self.softmax_layer = nn.Sequential(\n",
    "            nn.Linear(no_inputs, no_outputs),\n",
    "            nn.Softmax(dim=1)\n",
    "        )\n",
    "\n",
    "  def forward(self, x):\n",
    "        logits = self.softmax_layer(x)\n",
    "        return logits"
   ]
  },
  {
   "cell_type": "markdown",
   "metadata": {},
   "source": [
    "## Train the model"
   ]
  },
  {
   "cell_type": "code",
   "execution_count": 7,
   "metadata": {},
   "outputs": [
    {
     "name": "stdout",
     "output_type": "stream",
     "text": [
      "Model structure: SoftmaxLayer(\n",
      "  (softmax_layer): Sequential(\n",
      "    (0): Linear(in_features=4, out_features=3, bias=True)\n",
      "    (1): Softmax(dim=1)\n",
      "  )\n",
      ")\n",
      "\n",
      "\n",
      "Layer: softmax_layer.0.weight | Size: torch.Size([3, 4]) | Values : Parameter containing:\n",
      "tensor([[-0.3883,  0.3158, -0.2374, -0.0161],\n",
      "        [ 0.1765,  0.2539, -0.2373, -0.4572],\n",
      "        [-0.2920, -0.3820, -0.3783,  0.2356]], requires_grad=True) \n",
      "\n",
      "Layer: softmax_layer.0.bias | Size: torch.Size([3]) | Values : Parameter containing:\n",
      "tensor([ 0.2118,  0.2876, -0.0817], requires_grad=True) \n",
      "\n"
     ]
    }
   ],
   "source": [
    "model = SoftmaxLayer(no_inputs, no_outputs)\n",
    "\n",
    "print(f\"Model structure: {model}\\n\\n\")\n",
    "\n",
    "for name, param in model.named_parameters():\n",
    "    print(f\"Layer: {name} | Size: {param.size()} | Values : {param} \\n\")"
   ]
  },
  {
   "cell_type": "code",
   "execution_count": 8,
   "metadata": {},
   "outputs": [],
   "source": [
    "def train_loop(dataloader, model, loss_fn, optimizer):\n",
    "    size = len(dataloader.dataset)\n",
    "    num_batches = len(dataloader)\n",
    "    train_loss, correct = 0, 0\n",
    "    for batch, (X, y) in enumerate(dataloader):\n",
    "        # Compute prediction and loss\n",
    "        pred = model(X)\n",
    "        loss = loss_fn(pred, y)\n",
    "\n",
    "        # Backpropagation\n",
    "        optimizer.zero_grad()\n",
    "        loss.backward()\n",
    "        optimizer.step()\n",
    "    \n",
    "        train_loss += loss.item()\n",
    "        correct += (pred.argmax(1) == y).type(torch.float).sum().item()\n",
    "\n",
    "    train_loss /= size\n",
    "    correct /= size\n",
    "    return train_loss, correct\n",
    "    \n",
    "\n",
    "def test_loop(dataloader, model, loss_fn):\n",
    "    size = len(dataloader.dataset)\n",
    "    num_batches = len(dataloader)\n",
    "    test_loss, correct = 0, 0\n",
    "\n",
    "    with torch.no_grad():\n",
    "        for X, y in dataloader:\n",
    "            pred = model(X)\n",
    "            test_loss += loss_fn(pred, y).item()\n",
    "            correct += (pred.argmax(1) == y).type(torch.float).sum().item()\n",
    "\n",
    "    test_loss /= size\n",
    "    correct /= size\n",
    " \n",
    "    return test_loss, correct\n",
    "    "
   ]
  },
  {
   "cell_type": "code",
   "execution_count": 9,
   "metadata": {},
   "outputs": [
    {
     "name": "stdout",
     "output_type": "stream",
     "text": [
      "batch-size 2 time 23.629482 accuracy 0.683333\n",
      "batch-size 4 time 12.995245 accuracy 0.766667\n",
      "batch-size 8 time 7.739310 accuracy 0.250000\n",
      "batch-size 16 time 4.660851 accuracy 0.183333\n",
      "batch-size 24 time 3.636750 accuracy 0.016667\n",
      "batch-size 32 time 2.951184 accuracy 0.400000\n",
      "batch-size 48 time 2.439114 accuracy 0.133333\n",
      "batch-size 64 time 2.256295 accuracy 0.550000\n"
     ]
    }
   ],
   "source": [
    "loss_fn = nn.CrossEntropyLoss()\n",
    "optimizer = torch.optim.SGD(model.parameters(), lr=lr)\n",
    "\n",
    "batch_sizes = [2, 4, 8, 16, 24, 32, 48, 64]\n",
    "\n",
    "acc_, t_ = [], []\n",
    "\n",
    "for batch_size in batch_sizes:\n",
    "    model = SoftmaxLayer(no_inputs, no_outputs)\n",
    "    \n",
    "    train_dataloader = DataLoader(train_data, batch_size=batch_size, shuffle=True)\n",
    "    test_dataloader = DataLoader(test_data, batch_size=batch_size, shuffle=True)\n",
    "    num_batches = len(train_dataloader)\n",
    "\n",
    "    train_loss_, train_acc_, test_loss_, test_acc_ = [], [], [], []\n",
    "    t = 0\n",
    "    for epoch in range(no_epochs):\n",
    "        start_time = time.time()\n",
    "        train_loss, train_acc = train_loop(train_dataloader, model, loss_fn, optimizer)\n",
    "        test_loss, test_acc = test_loop(test_dataloader, model, loss_fn)\n",
    "        t += time.time() - start_time\n",
    "        train_loss_.append(train_loss), train_acc_.append(train_acc)\n",
    "        test_loss_.append(test_loss), test_acc_.append(test_acc)\n",
    "    t_.append(t*1000/(no_epochs))\n",
    "    acc_.append(test_acc_[-1])\n",
    "    print(f\"batch-size {batch_size} time {t_[-1]:>3f} accuracy {acc_[-1]:>2f}\")\n",
    "    "
   ]
  },
  {
   "cell_type": "code",
   "execution_count": 10,
   "metadata": {},
   "outputs": [
    {
     "name": "stdout",
     "output_type": "stream",
     "text": [
      "weight = [[ 0.47331363 -0.20486778 -0.1514796  -0.44686174]\n",
      " [ 0.04563153  0.48053175  0.01542509 -0.31577468]\n",
      " [-0.05543137 -0.32256472  0.47324187  0.12658691]], \n",
      "bias = [-0.30926228  0.15191352 -0.44959503]\n"
     ]
    }
   ],
   "source": [
    "w = model.state_dict()['softmax_layer.0.weight'].numpy()\n",
    "b = model.state_dict()['softmax_layer.0.bias'].numpy()\n",
    "\n",
    "print('weight = {}, \\nbias = {}'.format(w, b))"
   ]
  },
  {
   "cell_type": "code",
   "execution_count": 13,
   "metadata": {},
   "outputs": [
    {
     "data": {
      "image/png": "[encoded data removed]",
      "text/plain": [
       "<Figure size 640x480 with 1 Axes>"
      ]
     },
     "metadata": {},
     "output_type": "display_data"
    }
   ],
   "source": [
    "plt.figure(1)\n",
    "plt.plot(batch_sizes, t_)\n",
    "plt.xlabel('batch size')\n",
    "plt.ylabel('time taken for a weight update')\n",
    "plt.show()"
   ]
  },
  {
   "cell_type": "code",
   "execution_count": 14,
   "metadata": {},
   "outputs": [
    {
     "data": {
      "image/png": "[encoded data removed]",
      "text/plain": [
       "<Figure size 640x480 with 1 Axes>"
      ]
     },
     "metadata": {},
     "output_type": "display_data"
    }
   ],
   "source": [
    "plt.figure(1)\n",
    "plt.plot(batch_sizes, acc_)\n",
    "plt.xlabel('batch size')\n",
    "plt.ylabel('accuracy')\n",
    "plt.show()"
   ]
  },
  {
   "cell_type": "markdown",
   "metadata": {},
   "source": [
    "## Plot learning curves"
   ]
  },
  {
   "cell_type": "code",
   "execution_count": null,
   "metadata": {},
   "outputs": [],
   "source": []
  }
 ],
 "metadata": {
  "kernelspec": {
   "display_name": "Python 3 (ipykernel)",
   "language": "python",
   "name": "python3"
  },
  "language_info": {
   "codemirror_mode": {
    "name": "ipython",
    "version": 3
   },
   "file_extension": ".py",
   "mimetype": "text/x-python",
   "name": "python",
   "nbconvert_exporter": "python",
   "pygments_lexer": "ipython3",
   "version": "3.11.2"
  }
 },
 "nbformat": 4,
 "nbformat_minor": 2
}
