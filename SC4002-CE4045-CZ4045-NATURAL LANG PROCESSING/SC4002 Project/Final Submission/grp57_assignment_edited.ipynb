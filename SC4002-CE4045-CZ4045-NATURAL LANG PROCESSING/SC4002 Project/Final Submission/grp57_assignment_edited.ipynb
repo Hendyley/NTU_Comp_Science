{
 "cells": [
  {
   "cell_type": "code",
   "execution_count": 2,
   "metadata": {},
   "outputs": [
    {
     "name": "stderr",
     "output_type": "stream",
     "text": [
      "[nltk_data] Downloading package punkt_tab to\n",
      "[nltk_data]     C:\\Users\\zheng\\AppData\\Roaming\\nltk_data...\n",
      "[nltk_data]   Package punkt_tab is already up-to-date!\n",
      "[nltk_data] Downloading package punkt to\n",
      "[nltk_data]     C:\\Users\\zheng\\AppData\\Roaming\\nltk_data...\n",
      "[nltk_data]   Package punkt is already up-to-date!\n"
     ]
    }
   ],
   "source": [
    "import nltk\n",
    "import numpy as np\n",
    "from nltk.tokenize import word_tokenize\n",
    "\n",
    "nltk.download('punkt_tab')\n",
    "from datasets import load_dataset\n",
    "from tokenizers import ByteLevelBPETokenizer\n",
    "from tqdm import tqdm\n",
    "\n",
    "nltk.download('punkt')\n",
    "import os\n",
    "import random\n",
    "from collections import defaultdict\n",
    "\n",
    "import matplotlib.pyplot as plt\n",
    "import torch\n",
    "import torch.nn as nn\n",
    "from afinn import Afinn\n",
    "from sklearn.metrics import accuracy_score, f1_score\n",
    "from torch.nn.utils.rnn import pad_sequence\n",
    "from torch.utils.data import DataLoader, Dataset\n",
    "from transformers import (AdamW, BertForSequenceClassification, BertTokenizer,\n",
    "                          get_linear_schedule_with_warmup)"
   ]
  },
  {
   "cell_type": "markdown",
   "metadata": {},
   "source": [
    "# Part 0. Dataset Preparation"
   ]
  },
  {
   "cell_type": "code",
   "execution_count": 3,
   "metadata": {},
   "outputs": [],
   "source": [
    "dataset = load_dataset(\"rotten_tomatoes\")\n",
    "train_dataset = dataset['train']\n",
    "validation_dataset = dataset['validation']\n",
    "test_dataset = dataset['test']"
   ]
  },
  {
   "cell_type": "code",
   "execution_count": 4,
   "metadata": {},
   "outputs": [
    {
     "name": "stdout",
     "output_type": "stream",
     "text": [
      "{'text': \"emerges as something rare , an issue movie that's so honest and keenly observed that it doesn't feel like one .\", 'label': 1}\n"
     ]
    }
   ],
   "source": [
    "print(train_dataset[4])"
   ]
  },
  {
   "cell_type": "markdown",
   "metadata": {},
   "source": [
    "# Part 1. Preparing Word Embeddings"
   ]
  },
  {
   "cell_type": "markdown",
   "metadata": {},
   "source": [
    "### We downloaded the movie review dataset and tokenized the sentences using word_tokenize in the NLTK to create the vocabulary for our sentiment classifier. The size of our vocabulary is 18029."
   ]
  },
  {
   "cell_type": "code",
   "execution_count": 5,
   "metadata": {},
   "outputs": [],
   "source": [
    "def load_glove_embeddings(filepath):\n",
    "    embeddings_index = {}\n",
    "    with open(filepath, 'r', encoding='utf-8') as file:\n",
    "        for line in file:\n",
    "            values = line.split()\n",
    "            word = values[0]\n",
    "            coefs = np.asarray(values[1:], dtype='float32')\n",
    "            embeddings_index[word] = coefs\n",
    "    return embeddings_index"
   ]
  },
  {
   "cell_type": "code",
   "execution_count": 6,
   "metadata": {},
   "outputs": [],
   "source": [
    "def build_vocab(dataset):\n",
    "    vocab = set()\n",
    "    for sentence in dataset:\n",
    "        tokens = word_tokenize(sentence['text'].lower())\n",
    "        vocab.update(tokens)\n",
    "    return vocab"
   ]
  },
  {
   "cell_type": "code",
   "execution_count": 7,
   "metadata": {},
   "outputs": [],
   "source": [
    "def find_oov_words(vocab, embeddings):\n",
    "    oovWords = [ word for word in vocab if word not in embeddings]\n",
    "    return oovWords"
   ]
  },
  {
   "cell_type": "code",
   "execution_count": 8,
   "metadata": {},
   "outputs": [],
   "source": [
    "glove_embeddings = load_glove_embeddings('glove.6B.100d.txt')"
   ]
  },
  {
   "cell_type": "markdown",
   "metadata": {},
   "source": [
    "### Part 1a) What is the size of the vocabulary formed from your training data?"
   ]
  },
  {
   "cell_type": "code",
   "execution_count": 9,
   "metadata": {},
   "outputs": [
    {
     "name": "stdout",
     "output_type": "stream",
     "text": [
      "Size of vocabulary in training data: 18029\n"
     ]
    }
   ],
   "source": [
    "vocab = build_vocab(train_dataset)\n",
    "print(f'Size of vocabulary in training data: {len(vocab)}')"
   ]
  },
  {
   "cell_type": "markdown",
   "metadata": {},
   "source": [
    "### Part 1b) How many OOV words exist in your training data?"
   ]
  },
  {
   "cell_type": "markdown",
   "metadata": {},
   "source": [
    "#### We isolated the OOV words within our Rotten Tomatoes dataset that do not have a corresponding vector embedding in the GloVe embedding scheme. The number of OOV words present in the training data is 1865."
   ]
  },
  {
   "cell_type": "code",
   "execution_count": 10,
   "metadata": {},
   "outputs": [
    {
     "name": "stdout",
     "output_type": "stream",
     "text": [
      "Number of OOV words in training data: 1865\n"
     ]
    }
   ],
   "source": [
    "oovWords = find_oov_words(vocab=vocab, embeddings=glove_embeddings)\n",
    "print(f'Number of OOV words in training data: {len(oovWords)}')"
   ]
  },
  {
   "cell_type": "markdown",
   "metadata": {},
   "source": [
    "### Part 1c) OOV Strategies"
   ]
  },
  {
   "cell_type": "markdown",
   "metadata": {},
   "source": [
    "#### Part 1ci) OOV Strategy 1: Random Embeddings"
   ]
  },
  {
   "cell_type": "markdown",
   "metadata": {},
   "source": [
    "#### Our initial strategy for mitigating OOV words is predicated upon initializing a randomized n-dimensional vector embedding for words present within our vocabulary but not GloVe. Each OOV word is assigned a randomly generated vector within the fixed range such that all unique terms within the vocabulary can be represented."
   ]
  },
  {
   "cell_type": "code",
   "execution_count": 11,
   "metadata": {},
   "outputs": [],
   "source": [
    "# Load the dataset\n",
    "dataset = load_dataset(\"rotten_tomatoes\")\n",
    "train_raw = dataset['train']\n",
    "validation_raw = dataset['validation']\n",
    "test_raw = dataset['test']\n",
    "\n",
    "# Build the vocabulary from training data\n",
    "vocabulary = set()\n",
    "for text in train_raw['text']:\n",
    "    tokens = word_tokenize(text.lower())\n",
    "    vocabulary.update(tokens)\n",
    "\n",
    "# Add special tokens\n",
    "vocabulary.add('<unk>')\n",
    "vocabulary.add('<pad>')\n",
    "\n",
    "# Create mappings between words and indices\n",
    "word2idx = {word: idx for idx, word in enumerate(vocabulary)}\n",
    "idx2word = {idx: word for word, idx in word2idx.items()}\n",
    "\n",
    "# Initialize the embedding matrix\n",
    "embedding_dim = 100  # Dimensionality of GloVe embeddings\n",
    "vocab_size = len(word2idx)\n",
    "embedding_matrix = np.zeros((vocab_size, embedding_dim))\n",
    "\n",
    "# Load GloVe embeddings (ensure 'glove.6B.100d.txt' is in your working directory)\n",
    "glove_path = 'glove.6B.100d.txt'  # Update the path if necessary\n",
    "with open(glove_path, 'r', encoding='utf8') as f:\n",
    "    for line in f:\n",
    "        values = line.strip().split()\n",
    "        if len(values) == embedding_dim + 1:\n",
    "            word = values[0]\n",
    "            vector = np.asarray(values[1:], dtype='float32')\n",
    "            if word in word2idx:\n",
    "                idx = word2idx[word]\n",
    "                embedding_matrix[idx] = vector\n",
    "\n",
    "# Set the embedding for '<pad>' token to zeros\n",
    "pad_idx = word2idx['<pad>']\n",
    "embedding_matrix[pad_idx] = np.zeros(embedding_dim)"
   ]
  },
  {
   "cell_type": "markdown",
   "metadata": {},
   "source": [
    "#### Part 1cii) OOV Strategy 2: Byte Pair Encoding"
   ]
  },
  {
   "cell_type": "markdown",
   "metadata": {},
   "source": [
    "#### Another approach we employed is Byte Pair Encoding (BPE), which breaks down words into smaller subword units. This method enables better coverage and provides meaningful vector representations for words that do not have full embeddings in GloVe. By representing words as combinations of subwords, BPE allows the model to handle OOV words more effectively. This improves the robustness of embeddings without relying on transformer-based models."
   ]
  },
  {
   "cell_type": "code",
   "execution_count": 12,
   "metadata": {},
   "outputs": [
    {
     "name": "stdout",
     "output_type": "stream",
     "text": [
      "Tokenized sample from training set: ['the', 'Ġrock', 'Ġis', 'Ġdestined', 'Ġto', 'Ġbe', 'Ġthe', 'Ġ21', 'st', 'Ġcentury', \"'s\", 'Ġnew', 'Ġ\"', 'Ġconan', 'Ġ\"', 'Ġand', 'Ġthat', 'Ġhe', \"'s\", 'Ġgoing', 'Ġto', 'Ġmake', 'Ġa', 'Ġsplash', 'Ġeven', 'Ġgreater', 'Ġthan', 'Ġarnold', 'Ġschwarzenegger', 'Ġ,', 'Ġjean', '-', 'cl', 'aud', 'Ġvan', 'Ġdamme', 'Ġor', 'Ġsteven', 'Ġse', 'gal', 'Ġ.']\n"
     ]
    }
   ],
   "source": [
    "# Load the Rotten Tomatoes dataset\n",
    "dataset = load_dataset(\"rotten_tomatoes\")\n",
    "train_raw = dataset['train']\n",
    "validation_raw = dataset['validation']\n",
    "test_raw = dataset['test']\n",
    "\n",
    "# Prepare the text data for BPE training\n",
    "train_texts = [entry['text'] for entry in train_raw]\n",
    "\n",
    "# Step 3: Initialize and Train the BPE Tokenizer\n",
    "# Define a ByteLevelBPETokenizer instance\n",
    "tokenizer = ByteLevelBPETokenizer()\n",
    "\n",
    "# Train the tokenizer on the training texts\n",
    "tokenizer.train_from_iterator(train_texts, vocab_size=30000, min_frequency=2)\n",
    "\n",
    "# Save the trained tokenizer (optional)\n",
    "tokenizer.save_model(\".\", \"bpe_tokenizer\")\n",
    "\n",
    "# Step 4: Apply the Trained BPE Tokenizer to Your Datasets\n",
    "# Tokenize a sample from the training set\n",
    "train_tokenized = [tokenizer.encode(text).tokens for text in train_texts]\n",
    "\n",
    "# Similarly tokenize the validation and test sets\n",
    "validation_texts = [entry['text'] for entry in validation_raw]\n",
    "validation_tokenized = [tokenizer.encode(text).tokens for text in validation_texts]\n",
    "\n",
    "test_texts = [entry['text'] for entry in test_raw]\n",
    "test_tokenized = [tokenizer.encode(text).tokens for text in test_texts]\n",
    "\n",
    "# Print a sample tokenized text\n",
    "print(\"Tokenized sample from training set:\", train_tokenized[0])"
   ]
  },
  {
   "cell_type": "code",
   "execution_count": 13,
   "metadata": {},
   "outputs": [],
   "source": [
    "def load_glove_embeddings(filepath):\n",
    "    embeddings_index = {}\n",
    "    with open(filepath, 'r', encoding='utf-8') as file:\n",
    "        for line in file:\n",
    "            values = line.split()\n",
    "            word = values[0]\n",
    "            coefs = np.asarray(values[1:], dtype='float32')\n",
    "            embeddings_index[word] = coefs\n",
    "    return embeddings_index\n",
    "\n",
    "def get_subword_embedding(subwords, glove_embeddings, embedding_dim=100):\n",
    "    vectors = []\n",
    "    for subword in subwords:\n",
    "        if subword in glove_embeddings:\n",
    "            vectors.append(glove_embeddings[subword])\n",
    "    if not vectors:\n",
    "        # Handle the case where no subwords have embeddings\n",
    "        return np.random.uniform(-0.05, 0.05, (embedding_dim,))\n",
    "    # Average or sum the vectors\n",
    "    return np.mean(vectors, axis=0)  # For averaging\n",
    "    # return np.sum(vectors, axis=0)   # For summation"
   ]
  },
  {
   "cell_type": "code",
   "execution_count": 14,
   "metadata": {},
   "outputs": [],
   "source": [
    "# Load the dataset\n",
    "dataset = load_dataset(\"rotten_tomatoes\")\n",
    "train_raw = dataset['train']\n",
    "validation_raw = dataset['validation']\n",
    "test_raw = dataset['test']\n",
    "\n",
    "# Build the vocabulary from training data\n",
    "vocabulary = set()\n",
    "for text in train_raw['text']:\n",
    "    tokens = word_tokenize(text.lower())\n",
    "    vocabulary.update(tokens)\n",
    "\n",
    "# Add special tokens\n",
    "vocabulary.add('<unk>')\n",
    "vocabulary.add('<pad>')\n",
    "\n",
    "# Create mappings between words and indices\n",
    "word2idx = {word: idx for idx, word in enumerate(vocabulary)}\n",
    "idx2word = {idx: word for word, idx in word2idx.items()}\n",
    "\n",
    "# Initialize the embedding matrix\n",
    "embedding_dim = 100  # Dimensionality of GloVe embeddings\n",
    "vocab_size = len(word2idx)\n",
    "embedding_matrix = np.random.uniform(-0.05, 0.05, (vocab_size, embedding_dim))\n",
    "\n",
    "glove_embeddings = load_glove_embeddings('glove.6B.100d.txt')\n",
    "tokenizer = ByteLevelBPETokenizer.from_file(\"bpe_tokenizer-vocab.json\", \"bpe_tokenizer-merges.txt\")\n",
    "\n",
    "for word in word2idx:\n",
    "    idx = word2idx[word]\n",
    "    if word in glove_embeddings:\n",
    "        vector = glove_embeddings[word]\n",
    "        embedding_matrix[idx] = vector\n",
    "\n",
    "    else:\n",
    "        subwords = tokenizer.encode(word).tokens\n",
    "        # print(subwords)\n",
    "        vector = get_subword_embedding(subwords=subwords, glove_embeddings=glove_embeddings)\n",
    "        embedding_matrix[idx] = vector\n",
    "\n",
    "\n",
    "# Set the embedding for '<pad>' token to zeros\n",
    "pad_idx = word2idx['<pad>']\n",
    "embedding_matrix[pad_idx] = np.zeros(embedding_dim)"
   ]
  },
  {
   "cell_type": "markdown",
   "metadata": {},
   "source": [
    "#### Part 1ci) OOV Strategy 3: Backoff and Interpolation"
   ]
  },
  {
   "cell_type": "markdown",
   "metadata": {},
   "source": [
    "#### The backoff and interpolation technique allows the model to fall back to lower-order n-grams each time when higher-order n-grams are not available. For instance, if a trigram (three consecutive words) is not found, the model can back off to using bigrams (two consecutive words), and if bigrams are also unavailable, it can finally resort to unigrams (individual words). "
   ]
  },
  {
   "cell_type": "code",
   "execution_count": 15,
   "metadata": {},
   "outputs": [
    {
     "name": "stdout",
     "output_type": "stream",
     "text": [
      "The size of the vocabulary is: 18029\n",
      "Embedding matrix shape: (18031, 100)\n"
     ]
    }
   ],
   "source": [
    "dataset = load_dataset(\"rotten_tomatoes\")\n",
    "train_dataset = dataset['train']\n",
    "vocabulary = set()\n",
    "\n",
    "for text in train_dataset['text']:\n",
    "    tokens = word_tokenize(text.lower())\n",
    "    vocabulary.update(tokens)\n",
    "\n",
    "# Print the size of the vocabulary\n",
    "print(\"The size of the vocabulary is:\", len(vocabulary))\n",
    "\n",
    "glove_vocab = set()\n",
    "glove_embeddings = {}\n",
    "embedding_dim = 100\n",
    "with open('glove.6B.100d.txt', 'r', encoding='utf8') as f:\n",
    "    for line in f:\n",
    "        values = line.split()\n",
    "        word = values[0]\n",
    "        glove_vocab.add(word)\n",
    "        glove_embeddings[word] = np.asarray(values[1:], dtype='float32')\n",
    "\n",
    "# Identify OOV words\n",
    "oov_words = vocabulary - glove_vocab\n",
    "\n",
    "# Question 1(c): Handle OOV words using ngram and backoff and interpolation\n",
    "\n",
    "from collections import defaultdict\n",
    "\n",
    "vocabulary.add('<unk>')\n",
    "vocabulary.add('<pad>')\n",
    "\n",
    "# Create mappings between words and indices\n",
    "word2idx = {word: idx for idx, word in enumerate(vocabulary)}\n",
    "idx2word = {idx: word for idx, word in enumerate(vocabulary)}\n",
    "\n",
    "# Initialize the embedding matrix for known words\n",
    "embedding_matrix = np.zeros((len(vocabulary), embedding_dim))\n",
    "for word in glove_vocab:\n",
    "    if word in word2idx:  # Check if the word is in word2idx\n",
    "        idx = word2idx[word]\n",
    "        embedding_matrix[idx] = glove_embeddings[word]\n",
    "\n",
    "        \n",
    "# Create n-grams from training data\n",
    "def create_ngrams(texts, n):\n",
    "    ngram_counts = defaultdict(int)\n",
    "    for entry in texts:  # Adjusted to iterate over each entry (dictionary)\n",
    "        text = entry['text']  # Access the text with the appropriate key\n",
    "        tokens = word_tokenize(text.lower())\n",
    "        ngrams = zip(*[tokens[i:] for i in range(n)])  # Create n-grams\n",
    "        for ngram in ngrams:\n",
    "            ngram_counts[' '.join(ngram)] += 1\n",
    "    return ngram_counts\n",
    "\n",
    "# Create bigrams and trigrams\n",
    "bigram_counts = create_ngrams(train_dataset, 2)  # Use train_raw directly\n",
    "trigram_counts = create_ngrams(train_dataset, 3)  # Use train_raw directly\n",
    "\n",
    "# Backoff and interpolation parameters\n",
    "lambda1 = 0.8  # weight for unigrams\n",
    "lambda2 = 0.15  # weight for bigrams\n",
    "lambda3 = 0.05  # weight for trigrams\n",
    "\n",
    "# Define a function for backoff and interpolation handling OOV words\n",
    "def get_ngram_embedding(word, embedding_matrix, word2idx, bigram_counts, trigram_counts):\n",
    "    if word in word2idx:\n",
    "        return embedding_matrix[word2idx[word]]\n",
    "    else:\n",
    "        # Initialize embeddings for interpolation\n",
    "        unigram_embedding = np.zeros(embedding_matrix.shape[1])\n",
    "        bigram_embedding = np.zeros(embedding_matrix.shape[1])\n",
    "        trigram_embedding = np.zeros(embedding_matrix.shape[1])\n",
    "        \n",
    "        # Check trigram context\n",
    "        trigram_context = [ngram for ngram in trigram_counts if word in ngram.split()]\n",
    "        if trigram_context:\n",
    "            context_ngram = trigram_context[0].split()\n",
    "            trigram_embedding = np.mean([embedding_matrix[word2idx[w]] for w in context_ngram if w in word2idx], axis=0)\n",
    "\n",
    "        # Check bigram context\n",
    "        bigram_context = [ngram for ngram in bigram_counts if word in ngram.split()]\n",
    "        if bigram_context:\n",
    "            context_ngram = bigram_context[0].split()\n",
    "            bigram_embedding = np.mean([embedding_matrix[word2idx[w]] for w in context_ngram if w in word2idx], axis=0)\n",
    "\n",
    "        # Calculate unigram embedding (mean of known embeddings, if available)\n",
    "        known_words = [w for w in word2idx if w in vocabulary]\n",
    "        if known_words:\n",
    "            unigram_embedding = np.mean([embedding_matrix[word2idx[w]] for w in known_words if word2idx[w] < len(embedding_matrix)], axis=0)\n",
    "\n",
    "        # Apply interpolation\n",
    "        final_embedding = (lambda1 * unigram_embedding) + (lambda2 * bigram_embedding) + (lambda3 * trigram_embedding)\n",
    "        return final_embedding\n",
    "\n",
    "# Handle OOV words using n-gram embeddings\n",
    "for oov_word in oov_words:\n",
    "    if oov_word in word2idx:  # Ensure the OOV word exists in word2idx\n",
    "        idx = word2idx[oov_word]\n",
    "        embedding_matrix[idx] = get_ngram_embedding(oov_word, embedding_matrix, word2idx, bigram_counts, trigram_counts)\n",
    "\n",
    "pad_idx = word2idx['<pad>']\n",
    "embedding_matrix[pad_idx] = np.zeros(embedding_dim)\n",
    "\n",
    "# Now, the embedding_matrix contains GloVe embeddings for known words and n-gram based embeddings for OOV words\n",
    "print(\"Embedding matrix shape:\", embedding_matrix.shape)"
   ]
  },
  {
   "cell_type": "markdown",
   "metadata": {},
   "source": [
    "# Part 2 RNN"
   ]
  },
  {
   "cell_type": "code",
   "execution_count": 16,
   "metadata": {},
   "outputs": [],
   "source": [
    "# Define the RNN model using pre-trained embeddings\n",
    "class SentimentRNN(nn.Module):\n",
    "    def __init__(self, embedding_matrix):\n",
    "        super(SentimentRNN, self).__init__()\n",
    "        vocab_size, embedding_dim = embedding_matrix.shape\n",
    "        self.embedding = nn.Embedding.from_pretrained(torch.tensor(embedding_matrix, dtype=torch.float32), freeze= True)\n",
    "        self.lstm = nn.LSTM(embedding_dim, hidden_size=256, batch_first=True, bidirectional=False, num_layers=2, dropout=0.5)\n",
    "        self.fc1 = nn.Linear(256, 128)\n",
    "        self.fc2 = nn.Linear(128, 1)\n",
    "        self.dropout = nn.Dropout(0.3)\n",
    "        self.relu = nn.ReLU()\n",
    "    \n",
    "    def forward(self, x):\n",
    "        embeds = self.embedding(x)\n",
    "        lstm_out, (h_n, c_n) = self.lstm(embeds)\n",
    "\n",
    "        out, _ = torch.max(lstm_out, dim=1)\n",
    "        # Concatenate the final hidden states from both directions\n",
    "        # out = torch.cat((h_n[-2,:,:], h_n[-1,:,:]), dim=1)\n",
    "        \n",
    "        out = self.dropout(out)\n",
    "        out = self.relu(self.fc1(out))\n",
    "        out = self.dropout(out)\n",
    "        out = torch.sigmoid(self.fc2(out))\n",
    "        return out.squeeze()"
   ]
  },
  {
   "cell_type": "code",
   "execution_count": 17,
   "metadata": {},
   "outputs": [],
   "source": [
    "# Load the dataset\n",
    "dataset = load_dataset(\"rotten_tomatoes\")\n",
    "train_raw = dataset['train']\n",
    "validation_raw = dataset['validation']\n",
    "test_raw = dataset['test']\n",
    "\n",
    "# Build the vocabulary from training data\n",
    "vocabulary = set()\n",
    "for text in train_raw['text']:\n",
    "    tokens = word_tokenize(text.lower())\n",
    "    vocabulary.update(tokens)\n",
    "\n",
    "# Add special tokens\n",
    "vocabulary.add('<unk>')\n",
    "vocabulary.add('<pad>')\n",
    "\n",
    "# Create mappings between words and indices\n",
    "word2idx = {word: idx for idx, word in enumerate(vocabulary)}\n",
    "idx2word = {idx: word for word, idx in word2idx.items()}\n",
    "\n",
    "# Initialize the embedding matrix\n",
    "embedding_dim = 100  # Dimensionality of GloVe embeddings\n",
    "vocab_size = len(word2idx)\n",
    "# embedding_matrix = np.random.uniform(-0.05, 0.05, (vocab_size, embedding_dim))\n",
    "embedding_matrix = np.zeros((vocab_size, embedding_dim))\n",
    "\n",
    "# Load GloVe embeddings (ensure 'glove.6B.100d.txt' is in your working directory)\n",
    "glove_path = 'glove.6B.100d.txt'  # Update the path if necessary\n",
    "with open(glove_path, 'r', encoding='utf8') as f:\n",
    "    for line in f:\n",
    "        values = line.strip().split()\n",
    "        if len(values) == embedding_dim + 1:\n",
    "            word = values[0]\n",
    "            vector = np.asarray(values[1:], dtype='float32')\n",
    "            if word in word2idx:\n",
    "                idx = word2idx[word]\n",
    "                embedding_matrix[idx] = vector\n",
    "\n",
    "# Set the embedding for '<pad>' token to zeros\n",
    "pad_idx = word2idx['<pad>']\n",
    "embedding_matrix[pad_idx] = np.zeros(embedding_dim)"
   ]
  },
  {
   "cell_type": "code",
   "execution_count": 18,
   "metadata": {},
   "outputs": [],
   "source": [
    "# Define a function to convert sentences to indices\n",
    "def sentence_to_indices(sentence, word2idx):\n",
    "    tokens = word_tokenize(sentence.lower())\n",
    "    indices = []\n",
    "    for token in tokens:\n",
    "        if token in word2idx:\n",
    "            indices.append(word2idx[token])\n",
    "        else:\n",
    "            indices.append(word2idx['<unk>'])  # Map unknown words to '<unk>'\n",
    "    return indices\n",
    "\n",
    "# Define the collate_fn function for padding within batches\n",
    "def collate_fn(batch):\n",
    "    sequences = [item[0] for item in batch]\n",
    "    labels = torch.tensor([item[1] for item in batch], dtype=torch.float)\n",
    "    sequences_padded = pad_sequence(sequences, batch_first=True, padding_value=word2idx['<pad>'])\n",
    "    return sequences_padded, labels"
   ]
  },
  {
   "cell_type": "code",
   "execution_count": 19,
   "metadata": {},
   "outputs": [],
   "source": [
    "# Define the custom Dataset class\n",
    "class SentimentDataset(Dataset):\n",
    "    def __init__(self, texts, labels, word2idx):\n",
    "        self.texts = texts\n",
    "        self.labels = labels\n",
    "        self.word2idx = word2idx\n",
    "    \n",
    "    def __len__(self):\n",
    "        return len(self.texts)\n",
    "    \n",
    "    def __getitem__(self, idx):\n",
    "        text = self.texts[idx]\n",
    "        label = self.labels[idx]\n",
    "        indices = sentence_to_indices(text, self.word2idx)\n",
    "        return torch.tensor(indices, dtype=torch.long), torch.tensor(label, dtype=torch.long)"
   ]
  },
  {
   "cell_type": "code",
   "execution_count": 20,
   "metadata": {},
   "outputs": [],
   "source": [
    "def train_loop(model, device, optimizer, criterion, train_loader):\n",
    "    model.train()\n",
    "    running_loss = 0.0\n",
    "\n",
    "    for sequences, labels in tqdm(train_loader):\n",
    "        sequences = sequences.to(device)\n",
    "        labels = labels.to(device)\n",
    "        optimizer.zero_grad()\n",
    "        outputs = model(sequences)\n",
    "        loss = criterion(outputs, labels)\n",
    "        loss.backward()\n",
    "        torch.nn.utils.clip_grad_norm_(model.parameters(), max_norm=1)  # Gradient clipping\n",
    "        optimizer.step()\n",
    "        running_loss += loss.item() * sequences.size(0)\n",
    "    epoch_loss = running_loss / len(train_dataset)\n",
    "    return epoch_loss"
   ]
  },
  {
   "cell_type": "code",
   "execution_count": 21,
   "metadata": {},
   "outputs": [],
   "source": [
    "def evaluate_model(model, val_loader, criterion, device):\n",
    "    # Validation\n",
    "    model.eval()\n",
    "    correct = 0\n",
    "    total = 0\n",
    "    val_loss = 0\n",
    "    with torch.no_grad():\n",
    "        for sequences, labels in tqdm(val_loader):\n",
    "            sequences = sequences.to(device)\n",
    "            labels = labels.to(device)\n",
    "            outputs = model(sequences)\n",
    "            predicted = (outputs >= 0.5).long()\n",
    "\n",
    "            #calculate val loss\n",
    "            loss = criterion(outputs, labels)\n",
    "            val_loss += loss.item()\n",
    "\n",
    "            correct += (predicted == labels.long()).sum().item()\n",
    "            total += labels.size(0)\n",
    "    val_accuracy = correct / total\n",
    "    val_loss /= len(val_loader)\n",
    "    return val_accuracy, val_loss"
   ]
  },
  {
   "cell_type": "code",
   "execution_count": 22,
   "metadata": {},
   "outputs": [],
   "source": [
    "def train_model(model, model_name, num_epochs, optimizer, scheduler, criterion, patience, train_loader, val_loader, device):\n",
    "    best_val_accuracy = 0\n",
    "    best_val_loss = float('inf')\n",
    "    epochs_no_improve = 0\n",
    "    train_losses = []\n",
    "    val_losses = []\n",
    "\n",
    "    for epoch in range(num_epochs):\n",
    "        epoch_loss = train_loop(model, device, optimizer, criterion, train_loader)\n",
    "        train_losses.append(epoch_loss)\n",
    "        \n",
    "        # validation\n",
    "        val_accuracy, val_loss = evaluate_model(model,val_loader, criterion , device)\n",
    "        val_losses.append(val_loss)\n",
    "\n",
    "        print(f'Epoch [{epoch+1}/{num_epochs}], Training Loss: {epoch_loss:.4f}, Validation Accuracy: {val_accuracy:.4f}, Validation Loss: {val_loss:.4f}, Best Val Loss: {best_val_loss:.4f}')\n",
    "\n",
    "        # Learning rate scheduling\n",
    "        scheduler.step(val_accuracy)\n",
    "        \n",
    "        if val_loss <= best_val_loss:\n",
    "            best_val_loss = val_loss\n",
    "            epochs_no_improve = 0\n",
    "            # Save the best model\n",
    "            # return model\n",
    "            torch.save(model.state_dict(), f'{model_name}_model.pt')\n",
    "        else:\n",
    "            epochs_no_improve += 1\n",
    "            if epochs_no_improve >= patience:\n",
    "                print('Early stopping!')\n",
    "\n",
    "                break\n",
    "\n",
    "    plt.figure(figsize=(10, 5))\n",
    "    plt.plot(range(1, len(train_losses) + 1), train_losses, label=\"Training Loss\")\n",
    "    plt.plot(range(1, len(val_losses) + 1), val_losses, label=\"Validation Loss\")\n",
    "    plt.xlabel(\"Epochs\")\n",
    "    plt.ylabel(\"Loss\")\n",
    "    plt.title(\"Training and Validation Loss\")\n",
    "    plt.xticks(range(1, len(train_losses) + 1))\n",
    "    plt.legend()\n",
    "    plt.show()\n",
    "\n",
    "    return model"
   ]
  },
  {
   "cell_type": "code",
   "execution_count": 23,
   "metadata": {},
   "outputs": [],
   "source": [
    "def test_model(model,device, test_loader):\n",
    "    model.eval()\n",
    "    correct = 0\n",
    "    total = 0\n",
    "    with torch.no_grad():\n",
    "        for sequences, labels in tqdm(test_loader):\n",
    "            sequences = sequences.to(device)\n",
    "            labels = labels.to(device)\n",
    "            outputs = model(sequences)\n",
    "            predicted = (outputs >= 0.5).long()\n",
    "            correct += (predicted == labels.long()).sum().item()\n",
    "            total += labels.size(0)\n",
    "    test_accuracy = correct / total\n",
    "    print(f'Accuracy Score on Test dataset: {test_accuracy:.4f}')"
   ]
  },
  {
   "cell_type": "code",
   "execution_count": 24,
   "metadata": {},
   "outputs": [],
   "source": [
    "# Create datasets for training, validation, and testing\n",
    "train_dataset = SentimentDataset(train_raw['text'], train_raw['label'], word2idx)\n",
    "val_dataset = SentimentDataset(validation_raw['text'], validation_raw['label'], word2idx)\n",
    "test_dataset = SentimentDataset(test_raw['text'], test_raw['label'], word2idx)\n",
    "\n",
    "# Create DataLoaders for training, validation, and testing\n",
    "batch_size = 128\n",
    "train_loader = DataLoader(train_dataset, batch_size=batch_size, shuffle=True, collate_fn=collate_fn)\n",
    "val_loader = DataLoader(val_dataset, batch_size=batch_size, shuffle=False, collate_fn=collate_fn)\n",
    "test_loader = DataLoader(test_dataset, batch_size=batch_size, shuffle=False, collate_fn=collate_fn)"
   ]
  },
  {
   "cell_type": "markdown",
   "metadata": {},
   "source": [
    "### Part 2b: Report the accuracy score on the test set, as well as the accuracy score on the validation set for each epoch during training."
   ]
  },
  {
   "cell_type": "code",
   "execution_count": 25,
   "metadata": {},
   "outputs": [
    {
     "name": "stderr",
     "output_type": "stream",
     "text": [
      "100%|██████████| 67/67 [00:02<00:00, 24.99it/s]\n",
      "100%|██████████| 9/9 [00:00<00:00, 42.57it/s]\n"
     ]
    },
    {
     "name": "stdout",
     "output_type": "stream",
     "text": [
      "Epoch [1/30], Training Loss: 0.6562, Validation Accuracy: 0.6904, Validation Loss: 0.5959, Best Val Loss: inf\n"
     ]
    },
    {
     "name": "stderr",
     "output_type": "stream",
     "text": [
      "100%|██████████| 67/67 [00:02<00:00, 30.85it/s]\n",
      "100%|██████████| 9/9 [00:00<00:00, 42.37it/s]\n"
     ]
    },
    {
     "name": "stdout",
     "output_type": "stream",
     "text": [
      "Epoch [2/30], Training Loss: 0.5527, Validation Accuracy: 0.7439, Validation Loss: 0.5277, Best Val Loss: 0.5959\n"
     ]
    },
    {
     "name": "stderr",
     "output_type": "stream",
     "text": [
      "100%|██████████| 67/67 [00:02<00:00, 30.33it/s]\n",
      "100%|██████████| 9/9 [00:00<00:00, 48.00it/s]\n"
     ]
    },
    {
     "name": "stdout",
     "output_type": "stream",
     "text": [
      "Epoch [3/30], Training Loss: 0.5217, Validation Accuracy: 0.7542, Validation Loss: 0.5192, Best Val Loss: 0.5277\n"
     ]
    },
    {
     "name": "stderr",
     "output_type": "stream",
     "text": [
      "100%|██████████| 67/67 [00:02<00:00, 29.96it/s]\n",
      "100%|██████████| 9/9 [00:00<00:00, 44.90it/s]\n"
     ]
    },
    {
     "name": "stdout",
     "output_type": "stream",
     "text": [
      "Epoch [4/30], Training Loss: 0.4994, Validation Accuracy: 0.7495, Validation Loss: 0.5077, Best Val Loss: 0.5192\n"
     ]
    },
    {
     "name": "stderr",
     "output_type": "stream",
     "text": [
      "100%|██████████| 67/67 [00:02<00:00, 28.27it/s]\n",
      "100%|██████████| 9/9 [00:00<00:00, 41.78it/s]\n"
     ]
    },
    {
     "name": "stdout",
     "output_type": "stream",
     "text": [
      "Epoch [5/30], Training Loss: 0.4774, Validation Accuracy: 0.7814, Validation Loss: 0.4974, Best Val Loss: 0.5077\n"
     ]
    },
    {
     "name": "stderr",
     "output_type": "stream",
     "text": [
      "100%|██████████| 67/67 [00:02<00:00, 26.72it/s]\n",
      "100%|██████████| 9/9 [00:00<00:00, 39.75it/s]\n"
     ]
    },
    {
     "name": "stdout",
     "output_type": "stream",
     "text": [
      "Epoch [6/30], Training Loss: 0.4664, Validation Accuracy: 0.7655, Validation Loss: 0.5560, Best Val Loss: 0.4974\n"
     ]
    },
    {
     "name": "stderr",
     "output_type": "stream",
     "text": [
      "100%|██████████| 67/67 [00:02<00:00, 24.79it/s]\n",
      "100%|██████████| 9/9 [00:00<00:00, 36.10it/s]\n"
     ]
    },
    {
     "name": "stdout",
     "output_type": "stream",
     "text": [
      "Epoch [7/30], Training Loss: 0.4484, Validation Accuracy: 0.7749, Validation Loss: 0.4778, Best Val Loss: 0.4974\n"
     ]
    },
    {
     "name": "stderr",
     "output_type": "stream",
     "text": [
      "100%|██████████| 67/67 [00:02<00:00, 26.62it/s]\n",
      "100%|██████████| 9/9 [00:00<00:00, 39.58it/s]\n"
     ]
    },
    {
     "name": "stdout",
     "output_type": "stream",
     "text": [
      "Epoch [8/30], Training Loss: 0.4361, Validation Accuracy: 0.7561, Validation Loss: 0.5022, Best Val Loss: 0.4778\n"
     ]
    },
    {
     "name": "stderr",
     "output_type": "stream",
     "text": [
      "100%|██████████| 67/67 [00:02<00:00, 25.90it/s]\n",
      "100%|██████████| 9/9 [00:00<00:00, 39.75it/s]\n"
     ]
    },
    {
     "name": "stdout",
     "output_type": "stream",
     "text": [
      "Epoch [9/30], Training Loss: 0.4159, Validation Accuracy: 0.7749, Validation Loss: 0.4709, Best Val Loss: 0.4778\n"
     ]
    },
    {
     "name": "stderr",
     "output_type": "stream",
     "text": [
      "100%|██████████| 67/67 [00:02<00:00, 27.25it/s]\n",
      "100%|██████████| 9/9 [00:00<00:00, 37.92it/s]\n"
     ]
    },
    {
     "name": "stdout",
     "output_type": "stream",
     "text": [
      "Epoch [10/30], Training Loss: 0.4024, Validation Accuracy: 0.7711, Validation Loss: 0.4864, Best Val Loss: 0.4709\n"
     ]
    },
    {
     "name": "stderr",
     "output_type": "stream",
     "text": [
      "100%|██████████| 67/67 [00:02<00:00, 27.32it/s]\n",
      "100%|██████████| 9/9 [00:00<00:00, 40.47it/s]\n"
     ]
    },
    {
     "name": "stdout",
     "output_type": "stream",
     "text": [
      "Epoch [11/30], Training Loss: 0.3943, Validation Accuracy: 0.7805, Validation Loss: 0.4806, Best Val Loss: 0.4709\n"
     ]
    },
    {
     "name": "stderr",
     "output_type": "stream",
     "text": [
      "100%|██████████| 67/67 [00:02<00:00, 27.17it/s]\n",
      "100%|██████████| 9/9 [00:00<00:00, 43.81it/s]\n"
     ]
    },
    {
     "name": "stdout",
     "output_type": "stream",
     "text": [
      "Epoch [12/30], Training Loss: 0.3745, Validation Accuracy: 0.7664, Validation Loss: 0.4737, Best Val Loss: 0.4709\n"
     ]
    },
    {
     "name": "stderr",
     "output_type": "stream",
     "text": [
      "100%|██████████| 67/67 [00:02<00:00, 27.13it/s]\n",
      "100%|██████████| 9/9 [00:00<00:00, 42.17it/s]\n"
     ]
    },
    {
     "name": "stdout",
     "output_type": "stream",
     "text": [
      "Epoch [13/30], Training Loss: 0.3641, Validation Accuracy: 0.7758, Validation Loss: 0.4792, Best Val Loss: 0.4709\n"
     ]
    },
    {
     "name": "stderr",
     "output_type": "stream",
     "text": [
      "100%|██████████| 67/67 [00:02<00:00, 29.04it/s]\n",
      "100%|██████████| 9/9 [00:00<00:00, 44.90it/s]\n"
     ]
    },
    {
     "name": "stdout",
     "output_type": "stream",
     "text": [
      "Epoch [14/30], Training Loss: 0.3551, Validation Accuracy: 0.7636, Validation Loss: 0.5098, Best Val Loss: 0.4709\n",
      "Early stopping!\n"
     ]
    },
    {
     "data": {
      "image/png": "[encoded data removed]",
      "text/plain": [
       "<Figure size 1000x500 with 1 Axes>"
      ]
     },
     "metadata": {},
     "output_type": "display_data"
    },
    {
     "data": {
      "text/plain": [
       "SentimentRNN(\n",
       "  (embedding): Embedding(18031, 100)\n",
       "  (lstm): LSTM(100, 256, num_layers=2, batch_first=True, dropout=0.5)\n",
       "  (fc1): Linear(in_features=256, out_features=128, bias=True)\n",
       "  (fc2): Linear(in_features=128, out_features=1, bias=True)\n",
       "  (dropout): Dropout(p=0.3, inplace=False)\n",
       "  (relu): ReLU()\n",
       ")"
      ]
     },
     "execution_count": 25,
     "metadata": {},
     "output_type": "execute_result"
    }
   ],
   "source": [
    "# Instantiate the model\n",
    "rnn_model = SentimentRNN(embedding_matrix)\n",
    "\n",
    "# Set device to GPU if available\n",
    "device = torch.device('cuda' if torch.cuda.is_available() else 'cpu')\n",
    "rnn_model.to(device)\n",
    "\n",
    "# Define loss function and optimizer\n",
    "criterion = nn.BCELoss()\n",
    "optimizer = torch.optim.Adam(rnn_model.parameters(), lr=0.001, weight_decay=1e-4)\n",
    "scheduler = torch.optim.lr_scheduler.ReduceLROnPlateau(optimizer, 'max', patience=2, factor=0.5, verbose=True)\n",
    "\n",
    "# Training loop with validation and early stopping\n",
    "num_epochs = 30\n",
    "patience = 5  # Early stopping patience\n",
    "\n",
    "train_model(rnn_model, 'rnn', num_epochs, optimizer, scheduler, criterion, patience, train_loader, val_loader, device)      "
   ]
  },
  {
   "cell_type": "code",
   "execution_count": 26,
   "metadata": {},
   "outputs": [
    {
     "name": "stderr",
     "output_type": "stream",
     "text": [
      "C:\\Users\\zheng\\AppData\\Local\\Temp\\ipykernel_49844\\2246774384.py:2: FutureWarning: You are using `torch.load` with `weights_only=False` (the current default value), which uses the default pickle module implicitly. It is possible to construct malicious pickle data which will execute arbitrary code during unpickling (See https://github.com/pytorch/pytorch/blob/main/SECURITY.md#untrusted-models for more details). In a future release, the default value for `weights_only` will be flipped to `True`. This limits the functions that could be executed during unpickling. Arbitrary objects will no longer be allowed to be loaded via this mode unless they are explicitly allowlisted by the user via `torch.serialization.add_safe_globals`. We recommend you start setting `weights_only=True` for any use case where you don't have full control of the loaded file. Please open an issue on GitHub for any issues related to this experimental feature.\n",
      "  rnn_model.load_state_dict(torch.load('rnn_model.pt'))\n",
      "100%|██████████| 9/9 [00:00<00:00, 40.83it/s]"
     ]
    },
    {
     "name": "stdout",
     "output_type": "stream",
     "text": [
      "Accuracy Score on Test dataset: 0.7702\n"
     ]
    },
    {
     "name": "stderr",
     "output_type": "stream",
     "text": [
      "\n"
     ]
    }
   ],
   "source": [
    "# Load the best model and evaluate on the test set\n",
    "rnn_model.load_state_dict(torch.load('rnn_model.pt'))\n",
    "test_model(rnn_model,device, test_loader)"
   ]
  },
  {
   "cell_type": "markdown",
   "metadata": {},
   "source": [
    "## Part 2c) Methods used in deriving the final sentence representation"
   ]
  },
  {
   "cell_type": "markdown",
   "metadata": {},
   "source": [
    "### Part 2c.1) Method 1: Max-Pooling"
   ]
  },
  {
   "cell_type": "code",
   "execution_count": 27,
   "metadata": {},
   "outputs": [],
   "source": [
    "class SentimentRNNWithMaxPooling(nn.Module):\n",
    "    def __init__(self, embedding_matrix):\n",
    "        super(SentimentRNNWithMaxPooling, self).__init__()\n",
    "        vocab_size, embedding_dim = embedding_matrix.shape\n",
    "        self.embedding = nn.Embedding.from_pretrained(torch.tensor(embedding_matrix, dtype=torch.float32), freeze=True)\n",
    "        self.lstm = nn.LSTM(embedding_dim, hidden_size=256, batch_first=True, bidirectional=False, num_layers=2, dropout=0.5)\n",
    "        self.fc1 = nn.Linear(256, 128)\n",
    "        self.fc2 = nn.Linear(128, 1)\n",
    "        self.dropout = nn.Dropout(0.5)\n",
    "        self.relu = nn.ReLU()\n",
    "\n",
    "    def forward(self, x):\n",
    "        embeds = self.embedding(x)\n",
    "        lstm_out, _ = self.lstm(embeds)\n",
    "\n",
    "        max_pool, _ = torch.max(lstm_out, dim = 1) #Considers the maximum output of all analyzed LSTM layers to determine the final result.\n",
    "\n",
    "        out = self.dropout(max_pool)\n",
    "        out = self.relu(self.fc1(out))\n",
    "        out = self.dropout(out)\n",
    "        out = torch.sigmoid(self.fc2(out))\n",
    "        return out.squeeze()"
   ]
  },
  {
   "cell_type": "code",
   "execution_count": 28,
   "metadata": {},
   "outputs": [
    {
     "name": "stderr",
     "output_type": "stream",
     "text": [
      "100%|██████████| 67/67 [00:02<00:00, 27.08it/s]\n",
      "100%|██████████| 9/9 [00:00<00:00, 37.29it/s]\n"
     ]
    },
    {
     "name": "stdout",
     "output_type": "stream",
     "text": [
      "Epoch [1/30], Training Loss: 0.6673, Validation Accuracy: 0.6698, Validation Loss: 0.6218, Best Val Loss: inf\n"
     ]
    },
    {
     "name": "stderr",
     "output_type": "stream",
     "text": [
      "100%|██████████| 67/67 [00:02<00:00, 28.29it/s]\n",
      "100%|██████████| 9/9 [00:00<00:00, 41.59it/s]\n"
     ]
    },
    {
     "name": "stdout",
     "output_type": "stream",
     "text": [
      "Epoch [2/30], Training Loss: 0.5741, Validation Accuracy: 0.7486, Validation Loss: 0.5530, Best Val Loss: 0.6218\n"
     ]
    },
    {
     "name": "stderr",
     "output_type": "stream",
     "text": [
      "100%|██████████| 67/67 [00:02<00:00, 28.87it/s]\n",
      "100%|██████████| 9/9 [00:00<00:00, 44.02it/s]\n"
     ]
    },
    {
     "name": "stdout",
     "output_type": "stream",
     "text": [
      "Epoch [3/30], Training Loss: 0.5261, Validation Accuracy: 0.7561, Validation Loss: 0.5210, Best Val Loss: 0.5530\n"
     ]
    },
    {
     "name": "stderr",
     "output_type": "stream",
     "text": [
      "100%|██████████| 67/67 [00:02<00:00, 28.16it/s]\n",
      "100%|██████████| 9/9 [00:00<00:00, 41.02it/s]\n"
     ]
    },
    {
     "name": "stdout",
     "output_type": "stream",
     "text": [
      "Epoch [4/30], Training Loss: 0.5073, Validation Accuracy: 0.7430, Validation Loss: 0.5175, Best Val Loss: 0.5210\n"
     ]
    },
    {
     "name": "stderr",
     "output_type": "stream",
     "text": [
      "100%|██████████| 67/67 [00:02<00:00, 28.38it/s]\n",
      "100%|██████████| 9/9 [00:00<00:00, 41.78it/s]\n"
     ]
    },
    {
     "name": "stdout",
     "output_type": "stream",
     "text": [
      "Epoch [5/30], Training Loss: 0.4817, Validation Accuracy: 0.7552, Validation Loss: 0.4925, Best Val Loss: 0.5175\n"
     ]
    },
    {
     "name": "stderr",
     "output_type": "stream",
     "text": [
      "100%|██████████| 67/67 [00:02<00:00, 28.16it/s]\n",
      "100%|██████████| 9/9 [00:00<00:00, 45.12it/s]\n"
     ]
    },
    {
     "name": "stdout",
     "output_type": "stream",
     "text": [
      "Epoch [6/30], Training Loss: 0.4673, Validation Accuracy: 0.7598, Validation Loss: 0.4977, Best Val Loss: 0.4925\n"
     ]
    },
    {
     "name": "stderr",
     "output_type": "stream",
     "text": [
      "100%|██████████| 67/67 [00:02<00:00, 28.73it/s]\n",
      "100%|██████████| 9/9 [00:00<00:00, 45.58it/s]\n"
     ]
    },
    {
     "name": "stdout",
     "output_type": "stream",
     "text": [
      "Epoch [7/30], Training Loss: 0.4613, Validation Accuracy: 0.7664, Validation Loss: 0.4987, Best Val Loss: 0.4925\n"
     ]
    },
    {
     "name": "stderr",
     "output_type": "stream",
     "text": [
      "100%|██████████| 67/67 [00:02<00:00, 28.88it/s]\n",
      "100%|██████████| 9/9 [00:00<00:00, 40.47it/s]\n"
     ]
    },
    {
     "name": "stdout",
     "output_type": "stream",
     "text": [
      "Epoch [8/30], Training Loss: 0.4385, Validation Accuracy: 0.7505, Validation Loss: 0.4914, Best Val Loss: 0.4925\n"
     ]
    },
    {
     "name": "stderr",
     "output_type": "stream",
     "text": [
      "100%|██████████| 67/67 [00:02<00:00, 29.20it/s]\n",
      "100%|██████████| 9/9 [00:00<00:00, 44.67it/s]\n"
     ]
    },
    {
     "name": "stdout",
     "output_type": "stream",
     "text": [
      "Epoch [9/30], Training Loss: 0.4371, Validation Accuracy: 0.7655, Validation Loss: 0.5026, Best Val Loss: 0.4914\n"
     ]
    },
    {
     "name": "stderr",
     "output_type": "stream",
     "text": [
      "100%|██████████| 67/67 [00:02<00:00, 28.05it/s]\n",
      "100%|██████████| 9/9 [00:00<00:00, 43.39it/s]\n"
     ]
    },
    {
     "name": "stdout",
     "output_type": "stream",
     "text": [
      "Epoch [10/30], Training Loss: 0.4163, Validation Accuracy: 0.7645, Validation Loss: 0.5247, Best Val Loss: 0.4914\n"
     ]
    },
    {
     "name": "stderr",
     "output_type": "stream",
     "text": [
      "100%|██████████| 67/67 [00:02<00:00, 28.20it/s]\n",
      "100%|██████████| 9/9 [00:00<00:00, 46.76it/s]\n"
     ]
    },
    {
     "name": "stdout",
     "output_type": "stream",
     "text": [
      "Epoch [11/30], Training Loss: 0.3916, Validation Accuracy: 0.7674, Validation Loss: 0.5129, Best Val Loss: 0.4914\n"
     ]
    },
    {
     "name": "stderr",
     "output_type": "stream",
     "text": [
      "100%|██████████| 67/67 [00:02<00:00, 29.40it/s]\n",
      "100%|██████████| 9/9 [00:00<00:00, 46.04it/s]\n"
     ]
    },
    {
     "name": "stdout",
     "output_type": "stream",
     "text": [
      "Epoch [12/30], Training Loss: 0.3729, Validation Accuracy: 0.7664, Validation Loss: 0.5070, Best Val Loss: 0.4914\n"
     ]
    },
    {
     "name": "stderr",
     "output_type": "stream",
     "text": [
      "100%|██████████| 67/67 [00:02<00:00, 28.83it/s]\n",
      "100%|██████████| 9/9 [00:00<00:00, 43.59it/s]\n"
     ]
    },
    {
     "name": "stdout",
     "output_type": "stream",
     "text": [
      "Epoch [13/30], Training Loss: 0.3616, Validation Accuracy: 0.7561, Validation Loss: 0.5689, Best Val Loss: 0.4914\n",
      "Early stopping!\n"
     ]
    },
    {
     "data": {
      "image/png": "[encoded data removed]",
      "text/plain": [
       "<Figure size 1000x500 with 1 Axes>"
      ]
     },
     "metadata": {},
     "output_type": "display_data"
    },
    {
     "data": {
      "text/plain": [
       "SentimentRNNWithMaxPooling(\n",
       "  (embedding): Embedding(18031, 100)\n",
       "  (lstm): LSTM(100, 256, num_layers=2, batch_first=True, dropout=0.5)\n",
       "  (fc1): Linear(in_features=256, out_features=128, bias=True)\n",
       "  (fc2): Linear(in_features=128, out_features=1, bias=True)\n",
       "  (dropout): Dropout(p=0.5, inplace=False)\n",
       "  (relu): ReLU()\n",
       ")"
      ]
     },
     "execution_count": 28,
     "metadata": {},
     "output_type": "execute_result"
    }
   ],
   "source": [
    "# Instantiate the model\n",
    "rnn_model = SentimentRNNWithMaxPooling(embedding_matrix)\n",
    "\n",
    "# Set device to GPU if available\n",
    "device = torch.device('cuda' if torch.cuda.is_available() else 'cpu')\n",
    "rnn_model.to(device)\n",
    "\n",
    "# Define loss function and optimizer\n",
    "criterion = nn.BCELoss()\n",
    "optimizer = torch.optim.Adam(rnn_model.parameters(), lr=0.001, weight_decay=1e-4)\n",
    "scheduler = torch.optim.lr_scheduler.ReduceLROnPlateau(optimizer, 'max', patience=2, factor=0.5, verbose=True)\n",
    "\n",
    "# Training loop with validation and early stopping\n",
    "num_epochs = 30\n",
    "patience = 5  # Early stopping patience\n",
    "\n",
    "train_model(rnn_model, 'maxpooling', num_epochs, optimizer, scheduler, criterion, patience, train_loader, val_loader, device)      "
   ]
  },
  {
   "cell_type": "code",
   "execution_count": 29,
   "metadata": {},
   "outputs": [
    {
     "name": "stderr",
     "output_type": "stream",
     "text": [
      "C:\\Users\\zheng\\AppData\\Local\\Temp\\ipykernel_49844\\4287298740.py:2: FutureWarning: You are using `torch.load` with `weights_only=False` (the current default value), which uses the default pickle module implicitly. It is possible to construct malicious pickle data which will execute arbitrary code during unpickling (See https://github.com/pytorch/pytorch/blob/main/SECURITY.md#untrusted-models for more details). In a future release, the default value for `weights_only` will be flipped to `True`. This limits the functions that could be executed during unpickling. Arbitrary objects will no longer be allowed to be loaded via this mode unless they are explicitly allowlisted by the user via `torch.serialization.add_safe_globals`. We recommend you start setting `weights_only=True` for any use case where you don't have full control of the loaded file. Please open an issue on GitHub for any issues related to this experimental feature.\n",
      "  rnn_model.load_state_dict(torch.load('maxpooling_model.pt'))\n",
      "100%|██████████| 9/9 [00:00<00:00, 40.11it/s]"
     ]
    },
    {
     "name": "stdout",
     "output_type": "stream",
     "text": [
      "Accuracy Score on Test dataset: 0.7739\n"
     ]
    },
    {
     "name": "stderr",
     "output_type": "stream",
     "text": [
      "\n"
     ]
    }
   ],
   "source": [
    "# Load the best model and evaluate on the test set\n",
    "rnn_model.load_state_dict(torch.load('maxpooling_model.pt'))\n",
    "test_model(rnn_model,device, test_loader)"
   ]
  },
  {
   "cell_type": "markdown",
   "metadata": {},
   "source": [
    "### Part 2c.2) Method 2: Mean-Pooling"
   ]
  },
  {
   "cell_type": "code",
   "execution_count": 30,
   "metadata": {},
   "outputs": [],
   "source": [
    "class SentimentRNNWithAvgPooling(nn.Module):\n",
    "    def __init__(self, embedding_matrix):\n",
    "        super(SentimentRNNWithAvgPooling, self).__init__()\n",
    "        vocab_size, embedding_dim = embedding_matrix.shape\n",
    "        self.embedding = nn.Embedding.from_pretrained(torch.tensor(embedding_matrix, dtype=torch.float32), freeze=True)\n",
    "        self.lstm = nn.LSTM(embedding_dim, hidden_size=256, batch_first=True, bidirectional=False, num_layers=2, dropout=0.5)\n",
    "        self.fc1 = nn.Linear(256, 128)\n",
    "        self.fc2 = nn.Linear(128, 1)\n",
    "        self.dropout = nn.Dropout(0.5)\n",
    "        self.relu = nn.ReLU()\n",
    "\n",
    "    def forward(self, x):\n",
    "        embeds = self.embedding(x)\n",
    "        lstm_out, _ = self.lstm(embeds)\n",
    "\n",
    "        mean_pool= lstm_out.mean(dim = 1) #Considers the mean output of all analyzed LSTM layers to determine the final result.\n",
    "\n",
    "        out = self.dropout(mean_pool)\n",
    "        out = self.relu(self.fc1(out))\n",
    "        out = self.dropout(out)\n",
    "        out = torch.sigmoid(self.fc2(out))\n",
    "        return out.squeeze()"
   ]
  },
  {
   "cell_type": "code",
   "execution_count": 31,
   "metadata": {},
   "outputs": [
    {
     "name": "stderr",
     "output_type": "stream",
     "text": [
      "100%|██████████| 67/67 [00:02<00:00, 27.65it/s]\n",
      "100%|██████████| 9/9 [00:00<00:00, 46.52it/s]\n"
     ]
    },
    {
     "name": "stdout",
     "output_type": "stream",
     "text": [
      "Epoch [1/30], Training Loss: 0.6615, Validation Accuracy: 0.6857, Validation Loss: 0.6921, Best Val Loss: inf\n"
     ]
    },
    {
     "name": "stderr",
     "output_type": "stream",
     "text": [
      "100%|██████████| 67/67 [00:02<00:00, 26.97it/s]\n",
      "100%|██████████| 9/9 [00:00<00:00, 46.76it/s]\n"
     ]
    },
    {
     "name": "stdout",
     "output_type": "stream",
     "text": [
      "Epoch [2/30], Training Loss: 0.5759, Validation Accuracy: 0.7205, Validation Loss: 0.5454, Best Val Loss: 0.6921\n"
     ]
    },
    {
     "name": "stderr",
     "output_type": "stream",
     "text": [
      "100%|██████████| 67/67 [00:02<00:00, 28.86it/s]\n",
      "100%|██████████| 9/9 [00:00<00:00, 44.90it/s]\n"
     ]
    },
    {
     "name": "stdout",
     "output_type": "stream",
     "text": [
      "Epoch [3/30], Training Loss: 0.5450, Validation Accuracy: 0.7298, Validation Loss: 0.5438, Best Val Loss: 0.5454\n"
     ]
    },
    {
     "name": "stderr",
     "output_type": "stream",
     "text": [
      "100%|██████████| 67/67 [00:02<00:00, 29.54it/s]\n",
      "100%|██████████| 9/9 [00:00<00:00, 39.58it/s]\n"
     ]
    },
    {
     "name": "stdout",
     "output_type": "stream",
     "text": [
      "Epoch [4/30], Training Loss: 0.5204, Validation Accuracy: 0.7289, Validation Loss: 0.5212, Best Val Loss: 0.5438\n"
     ]
    },
    {
     "name": "stderr",
     "output_type": "stream",
     "text": [
      "100%|██████████| 67/67 [00:02<00:00, 28.07it/s]\n",
      "100%|██████████| 9/9 [00:00<00:00, 40.83it/s]\n"
     ]
    },
    {
     "name": "stdout",
     "output_type": "stream",
     "text": [
      "Epoch [5/30], Training Loss: 0.5122, Validation Accuracy: 0.7383, Validation Loss: 0.5221, Best Val Loss: 0.5212\n"
     ]
    },
    {
     "name": "stderr",
     "output_type": "stream",
     "text": [
      "100%|██████████| 67/67 [00:02<00:00, 29.86it/s]\n",
      "100%|██████████| 9/9 [00:00<00:00, 44.68it/s]\n"
     ]
    },
    {
     "name": "stdout",
     "output_type": "stream",
     "text": [
      "Epoch [6/30], Training Loss: 0.4959, Validation Accuracy: 0.7364, Validation Loss: 0.5135, Best Val Loss: 0.5212\n"
     ]
    },
    {
     "name": "stderr",
     "output_type": "stream",
     "text": [
      "100%|██████████| 67/67 [00:02<00:00, 30.25it/s]\n",
      "100%|██████████| 9/9 [00:00<00:00, 45.58it/s]\n"
     ]
    },
    {
     "name": "stdout",
     "output_type": "stream",
     "text": [
      "Epoch [7/30], Training Loss: 0.4766, Validation Accuracy: 0.7467, Validation Loss: 0.5024, Best Val Loss: 0.5135\n"
     ]
    },
    {
     "name": "stderr",
     "output_type": "stream",
     "text": [
      "100%|██████████| 67/67 [00:02<00:00, 29.31it/s]\n",
      "100%|██████████| 9/9 [00:00<00:00, 43.39it/s]\n"
     ]
    },
    {
     "name": "stdout",
     "output_type": "stream",
     "text": [
      "Epoch [8/30], Training Loss: 0.4718, Validation Accuracy: 0.7523, Validation Loss: 0.5244, Best Val Loss: 0.5024\n"
     ]
    },
    {
     "name": "stderr",
     "output_type": "stream",
     "text": [
      "100%|██████████| 67/67 [00:02<00:00, 28.31it/s]\n",
      "100%|██████████| 9/9 [00:00<00:00, 44.45it/s]\n"
     ]
    },
    {
     "name": "stdout",
     "output_type": "stream",
     "text": [
      "Epoch [9/30], Training Loss: 0.4569, Validation Accuracy: 0.7392, Validation Loss: 0.5791, Best Val Loss: 0.5024\n"
     ]
    },
    {
     "name": "stderr",
     "output_type": "stream",
     "text": [
      "100%|██████████| 67/67 [00:02<00:00, 29.06it/s]\n",
      "100%|██████████| 9/9 [00:00<00:00, 45.58it/s]\n"
     ]
    },
    {
     "name": "stdout",
     "output_type": "stream",
     "text": [
      "Epoch [10/30], Training Loss: 0.4461, Validation Accuracy: 0.7683, Validation Loss: 0.5088, Best Val Loss: 0.5024\n"
     ]
    },
    {
     "name": "stderr",
     "output_type": "stream",
     "text": [
      "100%|██████████| 67/67 [00:02<00:00, 30.48it/s]\n",
      "100%|██████████| 9/9 [00:00<00:00, 44.45it/s]\n"
     ]
    },
    {
     "name": "stdout",
     "output_type": "stream",
     "text": [
      "Epoch [11/30], Training Loss: 0.4444, Validation Accuracy: 0.7580, Validation Loss: 0.4818, Best Val Loss: 0.5024\n"
     ]
    },
    {
     "name": "stderr",
     "output_type": "stream",
     "text": [
      "100%|██████████| 67/67 [00:02<00:00, 29.82it/s]\n",
      "100%|██████████| 9/9 [00:00<00:00, 48.26it/s]\n"
     ]
    },
    {
     "name": "stdout",
     "output_type": "stream",
     "text": [
      "Epoch [12/30], Training Loss: 0.4335, Validation Accuracy: 0.7514, Validation Loss: 0.5258, Best Val Loss: 0.4818\n"
     ]
    },
    {
     "name": "stderr",
     "output_type": "stream",
     "text": [
      "100%|██████████| 67/67 [00:02<00:00, 28.72it/s]\n",
      "100%|██████████| 9/9 [00:00<00:00, 42.57it/s]\n"
     ]
    },
    {
     "name": "stdout",
     "output_type": "stream",
     "text": [
      "Epoch [13/30], Training Loss: 0.4293, Validation Accuracy: 0.7692, Validation Loss: 0.4817, Best Val Loss: 0.4818\n"
     ]
    },
    {
     "name": "stderr",
     "output_type": "stream",
     "text": [
      "100%|██████████| 67/67 [00:02<00:00, 28.94it/s]\n",
      "100%|██████████| 9/9 [00:00<00:00, 41.02it/s]\n"
     ]
    },
    {
     "name": "stdout",
     "output_type": "stream",
     "text": [
      "Epoch [14/30], Training Loss: 0.4158, Validation Accuracy: 0.7627, Validation Loss: 0.4716, Best Val Loss: 0.4817\n"
     ]
    },
    {
     "name": "stderr",
     "output_type": "stream",
     "text": [
      "100%|██████████| 67/67 [00:02<00:00, 29.25it/s]\n",
      "100%|██████████| 9/9 [00:00<00:00, 41.59it/s]\n"
     ]
    },
    {
     "name": "stdout",
     "output_type": "stream",
     "text": [
      "Epoch [15/30], Training Loss: 0.4037, Validation Accuracy: 0.7739, Validation Loss: 0.4760, Best Val Loss: 0.4716\n"
     ]
    },
    {
     "name": "stderr",
     "output_type": "stream",
     "text": [
      "100%|██████████| 67/67 [00:02<00:00, 29.20it/s]\n",
      "100%|██████████| 9/9 [00:00<00:00, 45.12it/s]\n"
     ]
    },
    {
     "name": "stdout",
     "output_type": "stream",
     "text": [
      "Epoch [16/30], Training Loss: 0.3895, Validation Accuracy: 0.7617, Validation Loss: 0.4976, Best Val Loss: 0.4716\n"
     ]
    },
    {
     "name": "stderr",
     "output_type": "stream",
     "text": [
      "100%|██████████| 67/67 [00:02<00:00, 29.45it/s]\n",
      "100%|██████████| 9/9 [00:00<00:00, 41.97it/s]\n"
     ]
    },
    {
     "name": "stdout",
     "output_type": "stream",
     "text": [
      "Epoch [17/30], Training Loss: 0.3901, Validation Accuracy: 0.7758, Validation Loss: 0.5297, Best Val Loss: 0.4716\n"
     ]
    },
    {
     "name": "stderr",
     "output_type": "stream",
     "text": [
      "100%|██████████| 67/67 [00:02<00:00, 29.31it/s]\n",
      "100%|██████████| 9/9 [00:00<00:00, 43.80it/s]\n"
     ]
    },
    {
     "name": "stdout",
     "output_type": "stream",
     "text": [
      "Epoch [18/30], Training Loss: 0.3907, Validation Accuracy: 0.7777, Validation Loss: 0.5420, Best Val Loss: 0.4716\n"
     ]
    },
    {
     "name": "stderr",
     "output_type": "stream",
     "text": [
      "100%|██████████| 67/67 [00:02<00:00, 29.31it/s]\n",
      "100%|██████████| 9/9 [00:00<00:00, 44.90it/s]\n"
     ]
    },
    {
     "name": "stdout",
     "output_type": "stream",
     "text": [
      "Epoch [19/30], Training Loss: 0.3717, Validation Accuracy: 0.7805, Validation Loss: 0.4934, Best Val Loss: 0.4716\n",
      "Early stopping!\n"
     ]
    },
    {
     "data": {
      "image/png": "[encoded data removed]",
      "text/plain": [
       "<Figure size 1000x500 with 1 Axes>"
      ]
     },
     "metadata": {},
     "output_type": "display_data"
    },
    {
     "data": {
      "text/plain": [
       "SentimentRNNWithAvgPooling(\n",
       "  (embedding): Embedding(18031, 100)\n",
       "  (lstm): LSTM(100, 256, num_layers=2, batch_first=True, dropout=0.5)\n",
       "  (fc1): Linear(in_features=256, out_features=128, bias=True)\n",
       "  (fc2): Linear(in_features=128, out_features=1, bias=True)\n",
       "  (dropout): Dropout(p=0.5, inplace=False)\n",
       "  (relu): ReLU()\n",
       ")"
      ]
     },
     "execution_count": 31,
     "metadata": {},
     "output_type": "execute_result"
    }
   ],
   "source": [
    "# Instantiate the model\n",
    "rnn_model = SentimentRNNWithAvgPooling(embedding_matrix)\n",
    "\n",
    "# Set device to GPU if available\n",
    "device = torch.device('cuda' if torch.cuda.is_available() else 'cpu')\n",
    "rnn_model.to(device)\n",
    "\n",
    "# Define loss function and optimizer\n",
    "criterion = nn.BCELoss()\n",
    "optimizer = torch.optim.Adam(rnn_model.parameters(), lr=0.001, weight_decay=1e-4)\n",
    "scheduler = torch.optim.lr_scheduler.ReduceLROnPlateau(optimizer, 'max', patience=2, factor=0.5, verbose=True)\n",
    "\n",
    "# Training loop with validation and early stopping\n",
    "num_epochs = 30\n",
    "patience = 5  # Early stopping patience\n",
    "\n",
    "train_model(rnn_model, 'meanpooling', num_epochs, optimizer, scheduler, criterion, patience, train_loader, val_loader, device)      "
   ]
  },
  {
   "cell_type": "code",
   "execution_count": 32,
   "metadata": {},
   "outputs": [
    {
     "name": "stderr",
     "output_type": "stream",
     "text": [
      "C:\\Users\\zheng\\AppData\\Local\\Temp\\ipykernel_49844\\2809441753.py:2: FutureWarning: You are using `torch.load` with `weights_only=False` (the current default value), which uses the default pickle module implicitly. It is possible to construct malicious pickle data which will execute arbitrary code during unpickling (See https://github.com/pytorch/pytorch/blob/main/SECURITY.md#untrusted-models for more details). In a future release, the default value for `weights_only` will be flipped to `True`. This limits the functions that could be executed during unpickling. Arbitrary objects will no longer be allowed to be loaded via this mode unless they are explicitly allowlisted by the user via `torch.serialization.add_safe_globals`. We recommend you start setting `weights_only=True` for any use case where you don't have full control of the loaded file. Please open an issue on GitHub for any issues related to this experimental feature.\n",
      "  rnn_model.load_state_dict(torch.load('meanpooling_model.pt'))\n",
      "100%|██████████| 9/9 [00:00<00:00, 31.01it/s]"
     ]
    },
    {
     "name": "stdout",
     "output_type": "stream",
     "text": [
      "Accuracy Score on Test dataset: 0.7674\n"
     ]
    },
    {
     "name": "stderr",
     "output_type": "stream",
     "text": [
      "\n"
     ]
    }
   ],
   "source": [
    "# Load the best model and evaluate on the test set\n",
    "rnn_model.load_state_dict(torch.load('meanpooling_model.pt'))\n",
    "test_model(rnn_model,device, test_loader)"
   ]
  },
  {
   "cell_type": "markdown",
   "metadata": {},
   "source": [
    "### Part 2c.3) Method 3: Simple Attention Mechanism"
   ]
  },
  {
   "cell_type": "code",
   "execution_count": 33,
   "metadata": {},
   "outputs": [],
   "source": [
    "class SimpleAttention(nn.Module):\n",
    "  def __init__(self, hidden_size):\n",
    "      super(SimpleAttention, self).__init__()\n",
    "      self.weight = nn.Parameter(torch.Tensor(hidden_size, hidden_size))\n",
    "      self.bias = nn.Parameter(torch.Tensor(hidden_size))\n",
    "\n",
    "  def forward(self, hidden_states):\n",
    "      # hidden_states: [batch_size, seq_len, hidden_size]\n",
    "      batch_size, seq_len, hidden_size = hidden_states.size()\n",
    "\n",
    "      # Calculate attention weights\n",
    "      weights = torch.bmm(hidden_states, self.weight.unsqueeze(0).repeat(batch_size, 1, 1))\n",
    "      weights = torch.tanh(weights + self.bias.unsqueeze(0).unsqueeze(1).repeat(batch_size, seq_len, 1))\n",
    "      weights = torch.softmax(weights, dim=1)  # Normalize weights\n",
    "\n",
    "      # Weight the hidden states\n",
    "      weighted_hidden_states = hidden_states * weights\n",
    "\n",
    "      # Aggregate the weighted hidden states\n",
    "      context_vector = torch.sum(weighted_hidden_states, dim=1)  # Sum across time steps\n",
    "\n",
    "      return context_vector\n",
    "\n",
    "\n",
    "# Define the RNN model using pre-trained embeddings\n",
    "class SentimentRNNWithSimpleAttention(nn.Module):\n",
    "    def __init__(self, embedding_matrix):\n",
    "        super(SentimentRNNWithSimpleAttention, self).__init__()\n",
    "        vocab_size, embedding_dim = embedding_matrix.shape\n",
    "        self.embedding = nn.Embedding.from_pretrained(torch.tensor(embedding_matrix, dtype=torch.float32), freeze=True)\n",
    "        self.lstm = nn.LSTM(embedding_dim, hidden_size=256, batch_first=True, bidirectional=False, num_layers=2, dropout=0.5)\n",
    "        self.fc1 = nn.Linear(256, 128)\n",
    "        self.fc2 = nn.Linear(128, 1)\n",
    "        self.dropout = nn.Dropout(0.5)\n",
    "        self.relu = nn.ReLU()\n",
    "        self.attention = SimpleAttention(hidden_size=256)\n",
    "\n",
    "    def forward(self, x):\n",
    "        embeds = self.embedding(x)\n",
    "        lstm_out, (h_n, c_n) = self.lstm(embeds)\n",
    "\n",
    "        # Apply Attention Mechanism\n",
    "        context_vector = self.attention(lstm_out)\n",
    "\n",
    "        context_vector = self.dropout(context_vector)\n",
    "        context_vector = self.relu(self.fc1(context_vector))\n",
    "        context_vector = self.dropout(context_vector)\n",
    "        context_vector = torch.sigmoid(self.fc2(context_vector))\n",
    "        return context_vector.squeeze()"
   ]
  },
  {
   "cell_type": "code",
   "execution_count": 34,
   "metadata": {},
   "outputs": [
    {
     "name": "stderr",
     "output_type": "stream",
     "text": [
      "100%|██████████| 67/67 [00:02<00:00, 26.44it/s]\n",
      "100%|██████████| 9/9 [00:00<00:00, 40.83it/s]\n"
     ]
    },
    {
     "name": "stdout",
     "output_type": "stream",
     "text": [
      "Epoch [1/30], Training Loss: 0.6834, Validation Accuracy: 0.5281, Validation Loss: 0.6821, Best Val Loss: inf\n"
     ]
    },
    {
     "name": "stderr",
     "output_type": "stream",
     "text": [
      "100%|██████████| 67/67 [00:02<00:00, 25.75it/s]\n",
      "100%|██████████| 9/9 [00:00<00:00, 41.59it/s]\n"
     ]
    },
    {
     "name": "stdout",
     "output_type": "stream",
     "text": [
      "Epoch [2/30], Training Loss: 0.5998, Validation Accuracy: 0.7092, Validation Loss: 0.5662, Best Val Loss: 0.6821\n"
     ]
    },
    {
     "name": "stderr",
     "output_type": "stream",
     "text": [
      "100%|██████████| 67/67 [00:02<00:00, 29.65it/s]\n",
      "100%|██████████| 9/9 [00:00<00:00, 44.67it/s]\n"
     ]
    },
    {
     "name": "stdout",
     "output_type": "stream",
     "text": [
      "Epoch [3/30], Training Loss: 0.5460, Validation Accuracy: 0.7195, Validation Loss: 0.5385, Best Val Loss: 0.5662\n"
     ]
    },
    {
     "name": "stderr",
     "output_type": "stream",
     "text": [
      "100%|██████████| 67/67 [00:02<00:00, 29.18it/s]\n",
      "100%|██████████| 9/9 [00:00<00:00, 39.41it/s]\n"
     ]
    },
    {
     "name": "stdout",
     "output_type": "stream",
     "text": [
      "Epoch [4/30], Training Loss: 0.5165, Validation Accuracy: 0.7383, Validation Loss: 0.5359, Best Val Loss: 0.5385\n"
     ]
    },
    {
     "name": "stderr",
     "output_type": "stream",
     "text": [
      "100%|██████████| 67/67 [00:02<00:00, 28.21it/s]\n",
      "100%|██████████| 9/9 [00:00<00:00, 44.45it/s]\n"
     ]
    },
    {
     "name": "stdout",
     "output_type": "stream",
     "text": [
      "Epoch [5/30], Training Loss: 0.4990, Validation Accuracy: 0.7120, Validation Loss: 0.5541, Best Val Loss: 0.5359\n"
     ]
    },
    {
     "name": "stderr",
     "output_type": "stream",
     "text": [
      "100%|██████████| 67/67 [00:02<00:00, 29.13it/s]\n",
      "100%|██████████| 9/9 [00:00<00:00, 45.13it/s]\n"
     ]
    },
    {
     "name": "stdout",
     "output_type": "stream",
     "text": [
      "Epoch [6/30], Training Loss: 0.4892, Validation Accuracy: 0.7336, Validation Loss: 0.5597, Best Val Loss: 0.5359\n"
     ]
    },
    {
     "name": "stderr",
     "output_type": "stream",
     "text": [
      "100%|██████████| 67/67 [00:02<00:00, 28.44it/s]\n",
      "100%|██████████| 9/9 [00:00<00:00, 42.37it/s]\n"
     ]
    },
    {
     "name": "stdout",
     "output_type": "stream",
     "text": [
      "Epoch [7/30], Training Loss: 0.4759, Validation Accuracy: 0.7580, Validation Loss: 0.4970, Best Val Loss: 0.5359\n"
     ]
    },
    {
     "name": "stderr",
     "output_type": "stream",
     "text": [
      "100%|██████████| 67/67 [00:02<00:00, 29.13it/s]\n",
      "100%|██████████| 9/9 [00:00<00:00, 46.76it/s]\n"
     ]
    },
    {
     "name": "stdout",
     "output_type": "stream",
     "text": [
      "Epoch [8/30], Training Loss: 0.4620, Validation Accuracy: 0.7505, Validation Loss: 0.4837, Best Val Loss: 0.4970\n"
     ]
    },
    {
     "name": "stderr",
     "output_type": "stream",
     "text": [
      "100%|██████████| 67/67 [00:02<00:00, 29.34it/s]\n",
      "100%|██████████| 9/9 [00:00<00:00, 47.25it/s]\n"
     ]
    },
    {
     "name": "stdout",
     "output_type": "stream",
     "text": [
      "Epoch [9/30], Training Loss: 0.4446, Validation Accuracy: 0.7495, Validation Loss: 0.5022, Best Val Loss: 0.4837\n"
     ]
    },
    {
     "name": "stderr",
     "output_type": "stream",
     "text": [
      "100%|██████████| 67/67 [00:02<00:00, 27.62it/s]\n",
      "100%|██████████| 9/9 [00:00<00:00, 44.90it/s]\n"
     ]
    },
    {
     "name": "stdout",
     "output_type": "stream",
     "text": [
      "Epoch [10/30], Training Loss: 0.4447, Validation Accuracy: 0.7683, Validation Loss: 0.4758, Best Val Loss: 0.4837\n"
     ]
    },
    {
     "name": "stderr",
     "output_type": "stream",
     "text": [
      "100%|██████████| 67/67 [00:02<00:00, 27.40it/s]\n",
      "100%|██████████| 9/9 [00:00<00:00, 39.93it/s]\n"
     ]
    },
    {
     "name": "stdout",
     "output_type": "stream",
     "text": [
      "Epoch [11/30], Training Loss: 0.4413, Validation Accuracy: 0.7608, Validation Loss: 0.5981, Best Val Loss: 0.4758\n"
     ]
    },
    {
     "name": "stderr",
     "output_type": "stream",
     "text": [
      "100%|██████████| 67/67 [00:02<00:00, 28.29it/s]\n",
      "100%|██████████| 9/9 [00:00<00:00, 41.58it/s]\n"
     ]
    },
    {
     "name": "stdout",
     "output_type": "stream",
     "text": [
      "Epoch [12/30], Training Loss: 0.4366, Validation Accuracy: 0.7777, Validation Loss: 0.5097, Best Val Loss: 0.4758\n"
     ]
    },
    {
     "name": "stderr",
     "output_type": "stream",
     "text": [
      "100%|██████████| 67/67 [00:02<00:00, 28.09it/s]\n",
      "100%|██████████| 9/9 [00:00<00:00, 40.25it/s]\n"
     ]
    },
    {
     "name": "stdout",
     "output_type": "stream",
     "text": [
      "Epoch [13/30], Training Loss: 0.4117, Validation Accuracy: 0.7730, Validation Loss: 0.4707, Best Val Loss: 0.4758\n"
     ]
    },
    {
     "name": "stderr",
     "output_type": "stream",
     "text": [
      "100%|██████████| 67/67 [00:02<00:00, 28.49it/s]\n",
      "100%|██████████| 9/9 [00:00<00:00, 43.17it/s]\n"
     ]
    },
    {
     "name": "stdout",
     "output_type": "stream",
     "text": [
      "Epoch [14/30], Training Loss: 0.3978, Validation Accuracy: 0.7833, Validation Loss: 0.4764, Best Val Loss: 0.4707\n"
     ]
    },
    {
     "name": "stderr",
     "output_type": "stream",
     "text": [
      "100%|██████████| 67/67 [00:02<00:00, 28.43it/s]\n",
      "100%|██████████| 9/9 [00:00<00:00, 41.78it/s]\n"
     ]
    },
    {
     "name": "stdout",
     "output_type": "stream",
     "text": [
      "Epoch [15/30], Training Loss: 0.3861, Validation Accuracy: 0.7777, Validation Loss: 0.5278, Best Val Loss: 0.4707\n"
     ]
    },
    {
     "name": "stderr",
     "output_type": "stream",
     "text": [
      "100%|██████████| 67/67 [00:02<00:00, 29.10it/s]\n",
      "100%|██████████| 9/9 [00:00<00:00, 32.46it/s]\n"
     ]
    },
    {
     "name": "stdout",
     "output_type": "stream",
     "text": [
      "Epoch [16/30], Training Loss: 0.3888, Validation Accuracy: 0.7786, Validation Loss: 0.4767, Best Val Loss: 0.4707\n"
     ]
    },
    {
     "name": "stderr",
     "output_type": "stream",
     "text": [
      "100%|██████████| 67/67 [00:02<00:00, 28.95it/s]\n",
      "100%|██████████| 9/9 [00:00<00:00, 38.73it/s]\n"
     ]
    },
    {
     "name": "stdout",
     "output_type": "stream",
     "text": [
      "Epoch [17/30], Training Loss: 0.3675, Validation Accuracy: 0.7711, Validation Loss: 0.4883, Best Val Loss: 0.4707\n"
     ]
    },
    {
     "name": "stderr",
     "output_type": "stream",
     "text": [
      "100%|██████████| 67/67 [00:02<00:00, 28.94it/s]\n",
      "100%|██████████| 9/9 [00:00<00:00, 42.57it/s]\n"
     ]
    },
    {
     "name": "stdout",
     "output_type": "stream",
     "text": [
      "Epoch [18/30], Training Loss: 0.3432, Validation Accuracy: 0.7720, Validation Loss: 0.5236, Best Val Loss: 0.4707\n",
      "Early stopping!\n"
     ]
    },
    {
     "data": {
      "image/png": "[encoded data removed]",
      "text/plain": [
       "<Figure size 1000x500 with 1 Axes>"
      ]
     },
     "metadata": {},
     "output_type": "display_data"
    },
    {
     "data": {
      "text/plain": [
       "SentimentRNNWithSimpleAttention(\n",
       "  (embedding): Embedding(18031, 100)\n",
       "  (lstm): LSTM(100, 256, num_layers=2, batch_first=True, dropout=0.5)\n",
       "  (fc1): Linear(in_features=256, out_features=128, bias=True)\n",
       "  (fc2): Linear(in_features=128, out_features=1, bias=True)\n",
       "  (dropout): Dropout(p=0.5, inplace=False)\n",
       "  (relu): ReLU()\n",
       "  (attention): SimpleAttention()\n",
       ")"
      ]
     },
     "execution_count": 34,
     "metadata": {},
     "output_type": "execute_result"
    }
   ],
   "source": [
    "# Instantiate the model\n",
    "rnn_model = SentimentRNNWithSimpleAttention(embedding_matrix)\n",
    "\n",
    "# Set device to GPU if available\n",
    "device = torch.device('cuda' if torch.cuda.is_available() else 'cpu')\n",
    "rnn_model.to(device)\n",
    "\n",
    "# Define loss function and optimizer\n",
    "criterion = nn.BCELoss()\n",
    "optimizer = torch.optim.Adam(rnn_model.parameters(), lr=0.001, weight_decay=1e-4)\n",
    "scheduler = torch.optim.lr_scheduler.ReduceLROnPlateau(optimizer, 'max', patience=2, factor=0.5, verbose=True)\n",
    "\n",
    "# Training loop with validation and early stopping\n",
    "num_epochs = 30\n",
    "patience = 5  # Early stopping patience\n",
    "\n",
    "train_model(rnn_model, 'simpleattention', num_epochs, optimizer, scheduler, criterion, patience, train_loader, val_loader, device)      "
   ]
  },
  {
   "cell_type": "code",
   "execution_count": 35,
   "metadata": {},
   "outputs": [
    {
     "name": "stderr",
     "output_type": "stream",
     "text": [
      "C:\\Users\\zheng\\AppData\\Local\\Temp\\ipykernel_49844\\1379173986.py:2: FutureWarning: You are using `torch.load` with `weights_only=False` (the current default value), which uses the default pickle module implicitly. It is possible to construct malicious pickle data which will execute arbitrary code during unpickling (See https://github.com/pytorch/pytorch/blob/main/SECURITY.md#untrusted-models for more details). In a future release, the default value for `weights_only` will be flipped to `True`. This limits the functions that could be executed during unpickling. Arbitrary objects will no longer be allowed to be loaded via this mode unless they are explicitly allowlisted by the user via `torch.serialization.add_safe_globals`. We recommend you start setting `weights_only=True` for any use case where you don't have full control of the loaded file. Please open an issue on GitHub for any issues related to this experimental feature.\n",
      "  rnn_model.load_state_dict(torch.load('simpleattention_model.pt'))\n",
      "100%|██████████| 9/9 [00:00<00:00, 40.65it/s]"
     ]
    },
    {
     "name": "stdout",
     "output_type": "stream",
     "text": [
      "Accuracy Score on Test dataset: 0.7786\n"
     ]
    },
    {
     "name": "stderr",
     "output_type": "stream",
     "text": [
      "\n"
     ]
    }
   ],
   "source": [
    "# Load the best model and evaluate on the test set\n",
    "rnn_model.load_state_dict(torch.load('simpleattention_model.pt'))\n",
    "test_model(rnn_model,device, test_loader)"
   ]
  },
  {
   "cell_type": "markdown",
   "metadata": {},
   "source": [
    "### Part 2c.4) Method 4: Self-Attention Mechanism"
   ]
  },
  {
   "cell_type": "code",
   "execution_count": 36,
   "metadata": {},
   "outputs": [],
   "source": [
    "class SelfAttention(nn.Module):\n",
    "  def __init__(self, hidden_size):\n",
    "      super(SelfAttention, self).__init__()\n",
    "      self.query = nn.Linear(hidden_size, hidden_size)  # Linear layer for query\n",
    "      self.key = nn.Linear(hidden_size, hidden_size)    # Linear layer for key\n",
    "      self.value = nn.Linear(hidden_size, hidden_size)  # Linear layer for value\n",
    "\n",
    "  def forward(self, hidden_states):\n",
    "      # hidden_states: [batch_size, seq_len, hidden_size]\n",
    "      batch_size, seq_len, hidden_size = hidden_states.size()\n",
    "\n",
    "      # Calculate vectors\n",
    "      Q = self.query(hidden_states)\n",
    "      K = self.key(hidden_states)\n",
    "      V = self.value(hidden_states)\n",
    "\n",
    "      # Calculate attention weights\n",
    "      attention_weights = torch.bmm(Q, K.transpose(1, 2)) / (hidden_size ** 0.5)\n",
    "      attention_weights = torch.softmax(attention_weights, dim=-1)\n",
    "\n",
    "      # Weight the value vectors by attention weights\n",
    "      weighted_values = torch.bmm(attention_weights, V)\n",
    "\n",
    "      return weighted_values\n",
    "\n",
    "class SimpleAttention(nn.Module):\n",
    "  def __init__(self, hidden_size):\n",
    "      super(SimpleAttention, self).__init__()\n",
    "      self.weight = nn.Parameter(torch.Tensor(hidden_size, hidden_size))\n",
    "      self.bias = nn.Parameter(torch.Tensor(hidden_size))\n",
    "\n",
    "  def forward(self, hidden_states):\n",
    "      # hidden_states: [batch_size, seq_len, hidden_size]\n",
    "      batch_size, seq_len, hidden_size = hidden_states.size()\n",
    "\n",
    "      # Calculate attention weights\n",
    "      weights = torch.bmm(hidden_states, self.weight.unsqueeze(0).repeat(batch_size, 1, 1))\n",
    "      weights = torch.tanh(weights + self.bias.unsqueeze(0).unsqueeze(1).repeat(batch_size, seq_len, 1))\n",
    "      weights = torch.softmax(weights, dim=1)  # Normalize weights\n",
    "\n",
    "      # Weight the hidden states\n",
    "      weighted_hidden_states = hidden_states * weights\n",
    "\n",
    "      # Aggregate the weighted hidden states\n",
    "      context_vector = torch.sum(weighted_hidden_states, dim=1)  # Sum across time steps\n",
    "\n",
    "      return context_vector\n",
    "\n",
    "\n",
    "# Define the RNN model using pre-trained embeddings\n",
    "class SentimentRNNWithSelfAttention(nn.Module):\n",
    "    def __init__(self, embedding_matrix):\n",
    "        super(SentimentRNNWithSelfAttention, self).__init__()\n",
    "        vocab_size, embedding_dim = embedding_matrix.shape\n",
    "        self.embedding = nn.Embedding.from_pretrained(torch.tensor(embedding_matrix, dtype=torch.float32), freeze=True)\n",
    "        self.lstm = nn.LSTM(embedding_dim, hidden_size=256, batch_first=True, bidirectional=False, num_layers=2, dropout=0.5)\n",
    "        self.fc1 = nn.Linear(256, 128)\n",
    "        self.fc2 = nn.Linear(128, 1)\n",
    "        self.dropout = nn.Dropout(0.5)\n",
    "        self.relu = nn.ReLU()\n",
    "        self.self_attention = SelfAttention(hidden_size=256)\n",
    "        self.simple_attention = SimpleAttention(hidden_size=256)\n",
    "\n",
    "    def forward(self, x):\n",
    "        embeds = self.embedding(x)\n",
    "        lstm_out, (h_n, c_n) = self.lstm(embeds)\n",
    "\n",
    "        # Apply self-attention\n",
    "        self_attention_out = self.self_attention(lstm_out)\n",
    "\n",
    "        # Apply Simple attention\n",
    "        context_vector = self.simple_attention(self_attention_out)\n",
    "\n",
    "        context_vector = self.dropout(context_vector)\n",
    "        context_vector = self.relu(self.fc1(context_vector))\n",
    "        context_vector = self.dropout(context_vector)\n",
    "        context_vector = torch.sigmoid(self.fc2(context_vector))\n",
    "        return context_vector.squeeze()"
   ]
  },
  {
   "cell_type": "code",
   "execution_count": 37,
   "metadata": {},
   "outputs": [
    {
     "name": "stderr",
     "output_type": "stream",
     "text": [
      "100%|██████████| 67/67 [00:02<00:00, 25.98it/s]\n",
      "100%|██████████| 9/9 [00:00<00:00, 44.45it/s]\n"
     ]
    },
    {
     "name": "stdout",
     "output_type": "stream",
     "text": [
      "Epoch [1/30], Training Loss: 0.6684, Validation Accuracy: 0.6857, Validation Loss: 0.6281, Best Val Loss: inf\n"
     ]
    },
    {
     "name": "stderr",
     "output_type": "stream",
     "text": [
      "100%|██████████| 67/67 [00:02<00:00, 27.51it/s]\n",
      "100%|██████████| 9/9 [00:00<00:00, 39.24it/s]\n"
     ]
    },
    {
     "name": "stdout",
     "output_type": "stream",
     "text": [
      "Epoch [2/30], Training Loss: 0.5849, Validation Accuracy: 0.6876, Validation Loss: 0.5800, Best Val Loss: 0.6281\n"
     ]
    },
    {
     "name": "stderr",
     "output_type": "stream",
     "text": [
      "100%|██████████| 67/67 [00:02<00:00, 28.10it/s]\n",
      "100%|██████████| 9/9 [00:00<00:00, 42.57it/s]\n"
     ]
    },
    {
     "name": "stdout",
     "output_type": "stream",
     "text": [
      "Epoch [3/30], Training Loss: 0.5440, Validation Accuracy: 0.7092, Validation Loss: 0.5648, Best Val Loss: 0.5800\n"
     ]
    },
    {
     "name": "stderr",
     "output_type": "stream",
     "text": [
      "100%|██████████| 67/67 [00:02<00:00, 27.26it/s]\n",
      "100%|██████████| 9/9 [00:00<00:00, 42.97it/s]\n"
     ]
    },
    {
     "name": "stdout",
     "output_type": "stream",
     "text": [
      "Epoch [4/30], Training Loss: 0.5200, Validation Accuracy: 0.7364, Validation Loss: 0.5250, Best Val Loss: 0.5648\n"
     ]
    },
    {
     "name": "stderr",
     "output_type": "stream",
     "text": [
      "100%|██████████| 67/67 [00:02<00:00, 28.05it/s]\n",
      "100%|██████████| 9/9 [00:00<00:00, 35.81it/s]\n"
     ]
    },
    {
     "name": "stdout",
     "output_type": "stream",
     "text": [
      "Epoch [5/30], Training Loss: 0.5054, Validation Accuracy: 0.7092, Validation Loss: 0.5804, Best Val Loss: 0.5250\n"
     ]
    },
    {
     "name": "stderr",
     "output_type": "stream",
     "text": [
      "100%|██████████| 67/67 [00:02<00:00, 27.75it/s]\n",
      "100%|██████████| 9/9 [00:00<00:00, 37.44it/s]\n"
     ]
    },
    {
     "name": "stdout",
     "output_type": "stream",
     "text": [
      "Epoch [6/30], Training Loss: 0.4894, Validation Accuracy: 0.7495, Validation Loss: 0.5057, Best Val Loss: 0.5250\n"
     ]
    },
    {
     "name": "stderr",
     "output_type": "stream",
     "text": [
      "100%|██████████| 67/67 [00:02<00:00, 27.54it/s]\n",
      "100%|██████████| 9/9 [00:00<00:00, 43.17it/s]\n"
     ]
    },
    {
     "name": "stdout",
     "output_type": "stream",
     "text": [
      "Epoch [7/30], Training Loss: 0.4737, Validation Accuracy: 0.7598, Validation Loss: 0.4982, Best Val Loss: 0.5057\n"
     ]
    },
    {
     "name": "stderr",
     "output_type": "stream",
     "text": [
      "100%|██████████| 67/67 [00:02<00:00, 27.23it/s]\n",
      "100%|██████████| 9/9 [00:00<00:00, 40.83it/s]\n"
     ]
    },
    {
     "name": "stdout",
     "output_type": "stream",
     "text": [
      "Epoch [8/30], Training Loss: 0.4705, Validation Accuracy: 0.7617, Validation Loss: 0.5152, Best Val Loss: 0.4982\n"
     ]
    },
    {
     "name": "stderr",
     "output_type": "stream",
     "text": [
      "100%|██████████| 67/67 [00:02<00:00, 27.07it/s]\n",
      "100%|██████████| 9/9 [00:00<00:00, 37.92it/s]\n"
     ]
    },
    {
     "name": "stdout",
     "output_type": "stream",
     "text": [
      "Epoch [9/30], Training Loss: 0.4564, Validation Accuracy: 0.7655, Validation Loss: 0.4997, Best Val Loss: 0.4982\n"
     ]
    },
    {
     "name": "stderr",
     "output_type": "stream",
     "text": [
      "100%|██████████| 67/67 [00:02<00:00, 27.58it/s]\n",
      "100%|██████████| 9/9 [00:00<00:00, 43.38it/s]\n"
     ]
    },
    {
     "name": "stdout",
     "output_type": "stream",
     "text": [
      "Epoch [10/30], Training Loss: 0.4588, Validation Accuracy: 0.7720, Validation Loss: 0.4763, Best Val Loss: 0.4982\n"
     ]
    },
    {
     "name": "stderr",
     "output_type": "stream",
     "text": [
      "100%|██████████| 67/67 [00:02<00:00, 27.00it/s]\n",
      "100%|██████████| 9/9 [00:00<00:00, 38.90it/s]\n"
     ]
    },
    {
     "name": "stdout",
     "output_type": "stream",
     "text": [
      "Epoch [11/30], Training Loss: 0.4413, Validation Accuracy: 0.7477, Validation Loss: 0.5350, Best Val Loss: 0.4763\n"
     ]
    },
    {
     "name": "stderr",
     "output_type": "stream",
     "text": [
      "100%|██████████| 67/67 [00:02<00:00, 27.53it/s]\n",
      "100%|██████████| 9/9 [00:00<00:00, 41.02it/s]\n"
     ]
    },
    {
     "name": "stdout",
     "output_type": "stream",
     "text": [
      "Epoch [12/30], Training Loss: 0.4302, Validation Accuracy: 0.7739, Validation Loss: 0.5041, Best Val Loss: 0.4763\n"
     ]
    },
    {
     "name": "stderr",
     "output_type": "stream",
     "text": [
      "100%|██████████| 67/67 [00:02<00:00, 27.20it/s]\n",
      "100%|██████████| 9/9 [00:00<00:00, 39.58it/s]\n"
     ]
    },
    {
     "name": "stdout",
     "output_type": "stream",
     "text": [
      "Epoch [13/30], Training Loss: 0.4280, Validation Accuracy: 0.7739, Validation Loss: 0.4765, Best Val Loss: 0.4763\n"
     ]
    },
    {
     "name": "stderr",
     "output_type": "stream",
     "text": [
      "100%|██████████| 67/67 [00:02<00:00, 27.89it/s]\n",
      "100%|██████████| 9/9 [00:00<00:00, 42.77it/s]\n"
     ]
    },
    {
     "name": "stdout",
     "output_type": "stream",
     "text": [
      "Epoch [14/30], Training Loss: 0.4201, Validation Accuracy: 0.7852, Validation Loss: 0.4673, Best Val Loss: 0.4763\n"
     ]
    },
    {
     "name": "stderr",
     "output_type": "stream",
     "text": [
      "100%|██████████| 67/67 [00:02<00:00, 28.28it/s]\n",
      "100%|██████████| 9/9 [00:00<00:00, 43.81it/s]\n"
     ]
    },
    {
     "name": "stdout",
     "output_type": "stream",
     "text": [
      "Epoch [15/30], Training Loss: 0.4090, Validation Accuracy: 0.7683, Validation Loss: 0.4652, Best Val Loss: 0.4673\n"
     ]
    },
    {
     "name": "stderr",
     "output_type": "stream",
     "text": [
      "100%|██████████| 67/67 [00:02<00:00, 27.74it/s]\n",
      "100%|██████████| 9/9 [00:00<00:00, 39.41it/s]\n"
     ]
    },
    {
     "name": "stdout",
     "output_type": "stream",
     "text": [
      "Epoch [16/30], Training Loss: 0.3977, Validation Accuracy: 0.7908, Validation Loss: 0.4668, Best Val Loss: 0.4652\n"
     ]
    },
    {
     "name": "stderr",
     "output_type": "stream",
     "text": [
      "100%|██████████| 67/67 [00:02<00:00, 28.27it/s]\n",
      "100%|██████████| 9/9 [00:00<00:00, 43.18it/s]\n"
     ]
    },
    {
     "name": "stdout",
     "output_type": "stream",
     "text": [
      "Epoch [17/30], Training Loss: 0.3885, Validation Accuracy: 0.7767, Validation Loss: 0.5041, Best Val Loss: 0.4652\n"
     ]
    },
    {
     "name": "stderr",
     "output_type": "stream",
     "text": [
      "100%|██████████| 67/67 [00:02<00:00, 28.34it/s]\n",
      "100%|██████████| 9/9 [00:00<00:00, 41.59it/s]\n"
     ]
    },
    {
     "name": "stdout",
     "output_type": "stream",
     "text": [
      "Epoch [18/30], Training Loss: 0.3746, Validation Accuracy: 0.7917, Validation Loss: 0.4569, Best Val Loss: 0.4652\n"
     ]
    },
    {
     "name": "stderr",
     "output_type": "stream",
     "text": [
      "100%|██████████| 67/67 [00:02<00:00, 25.79it/s]\n",
      "100%|██████████| 9/9 [00:00<00:00, 41.02it/s]\n"
     ]
    },
    {
     "name": "stdout",
     "output_type": "stream",
     "text": [
      "Epoch [19/30], Training Loss: 0.3743, Validation Accuracy: 0.7795, Validation Loss: 0.4983, Best Val Loss: 0.4569\n"
     ]
    },
    {
     "name": "stderr",
     "output_type": "stream",
     "text": [
      "100%|██████████| 67/67 [00:02<00:00, 27.28it/s]\n",
      "100%|██████████| 9/9 [00:00<00:00, 40.65it/s]\n"
     ]
    },
    {
     "name": "stdout",
     "output_type": "stream",
     "text": [
      "Epoch [20/30], Training Loss: 0.3610, Validation Accuracy: 0.7805, Validation Loss: 0.4729, Best Val Loss: 0.4569\n"
     ]
    },
    {
     "name": "stderr",
     "output_type": "stream",
     "text": [
      "100%|██████████| 67/67 [00:02<00:00, 27.48it/s]\n",
      "100%|██████████| 9/9 [00:00<00:00, 44.24it/s]\n"
     ]
    },
    {
     "name": "stdout",
     "output_type": "stream",
     "text": [
      "Epoch [21/30], Training Loss: 0.3433, Validation Accuracy: 0.7692, Validation Loss: 0.5343, Best Val Loss: 0.4569\n"
     ]
    },
    {
     "name": "stderr",
     "output_type": "stream",
     "text": [
      "100%|██████████| 67/67 [00:02<00:00, 27.89it/s]\n",
      "100%|██████████| 9/9 [00:00<00:00, 37.14it/s]\n"
     ]
    },
    {
     "name": "stdout",
     "output_type": "stream",
     "text": [
      "Epoch [22/30], Training Loss: 0.3063, Validation Accuracy: 0.7917, Validation Loss: 0.5070, Best Val Loss: 0.4569\n"
     ]
    },
    {
     "name": "stderr",
     "output_type": "stream",
     "text": [
      "100%|██████████| 67/67 [00:02<00:00, 27.24it/s]\n",
      "100%|██████████| 9/9 [00:00<00:00, 39.41it/s]\n"
     ]
    },
    {
     "name": "stdout",
     "output_type": "stream",
     "text": [
      "Epoch [23/30], Training Loss: 0.2911, Validation Accuracy: 0.7739, Validation Loss: 0.5336, Best Val Loss: 0.4569\n",
      "Early stopping!\n"
     ]
    },
    {
     "data": {
      "image/png": "[encoded data removed]",
      "text/plain": [
       "<Figure size 1000x500 with 1 Axes>"
      ]
     },
     "metadata": {},
     "output_type": "display_data"
    },
    {
     "data": {
      "text/plain": [
       "SentimentRNNWithSelfAttention(\n",
       "  (embedding): Embedding(18031, 100)\n",
       "  (lstm): LSTM(100, 256, num_layers=2, batch_first=True, dropout=0.5)\n",
       "  (fc1): Linear(in_features=256, out_features=128, bias=True)\n",
       "  (fc2): Linear(in_features=128, out_features=1, bias=True)\n",
       "  (dropout): Dropout(p=0.5, inplace=False)\n",
       "  (relu): ReLU()\n",
       "  (self_attention): SelfAttention(\n",
       "    (query): Linear(in_features=256, out_features=256, bias=True)\n",
       "    (key): Linear(in_features=256, out_features=256, bias=True)\n",
       "    (value): Linear(in_features=256, out_features=256, bias=True)\n",
       "  )\n",
       "  (simple_attention): SimpleAttention()\n",
       ")"
      ]
     },
     "execution_count": 37,
     "metadata": {},
     "output_type": "execute_result"
    }
   ],
   "source": [
    "# Instantiate the model\n",
    "rnn_model = SentimentRNNWithSelfAttention(embedding_matrix)\n",
    "\n",
    "# Set device to GPU if available\n",
    "device = torch.device('cuda' if torch.cuda.is_available() else 'cpu')\n",
    "rnn_model.to(device)\n",
    "\n",
    "# Define loss function and optimizer\n",
    "criterion = nn.BCELoss()\n",
    "optimizer = torch.optim.Adam(rnn_model.parameters(), lr=0.001, weight_decay=1e-4)\n",
    "scheduler = torch.optim.lr_scheduler.ReduceLROnPlateau(optimizer, 'max', patience=2, factor=0.5, verbose=True)\n",
    "\n",
    "# Training loop with validation and early stopping\n",
    "num_epochs = 30\n",
    "patience = 5  # Early stopping patience\n",
    "\n",
    "train_model(rnn_model, 'selfattention', num_epochs, optimizer, scheduler, criterion, patience, train_loader, val_loader, device)      "
   ]
  },
  {
   "cell_type": "code",
   "execution_count": 38,
   "metadata": {},
   "outputs": [
    {
     "name": "stderr",
     "output_type": "stream",
     "text": [
      "C:\\Users\\zheng\\AppData\\Local\\Temp\\ipykernel_49844\\650248929.py:2: FutureWarning: You are using `torch.load` with `weights_only=False` (the current default value), which uses the default pickle module implicitly. It is possible to construct malicious pickle data which will execute arbitrary code during unpickling (See https://github.com/pytorch/pytorch/blob/main/SECURITY.md#untrusted-models for more details). In a future release, the default value for `weights_only` will be flipped to `True`. This limits the functions that could be executed during unpickling. Arbitrary objects will no longer be allowed to be loaded via this mode unless they are explicitly allowlisted by the user via `torch.serialization.add_safe_globals`. We recommend you start setting `weights_only=True` for any use case where you don't have full control of the loaded file. Please open an issue on GitHub for any issues related to this experimental feature.\n",
      "  rnn_model.load_state_dict(torch.load('selfattention_model.pt'))\n",
      "100%|██████████| 9/9 [00:00<00:00, 32.81it/s]"
     ]
    },
    {
     "name": "stdout",
     "output_type": "stream",
     "text": [
      "Accuracy Score on Test dataset: 0.7842\n"
     ]
    },
    {
     "name": "stderr",
     "output_type": "stream",
     "text": [
      "\n"
     ]
    }
   ],
   "source": [
    "# Load the best model and evaluate on the test set\n",
    "rnn_model.load_state_dict(torch.load('selfattention_model.pt'))\n",
    "test_model(rnn_model,device, test_loader)"
   ]
  },
  {
   "cell_type": "markdown",
   "metadata": {},
   "source": [
    "# Part 3 Enhancement"
   ]
  },
  {
   "cell_type": "markdown",
   "metadata": {},
   "source": [
    "## Part 3.1 Word Embeddings Updated"
   ]
  },
  {
   "cell_type": "code",
   "execution_count": 39,
   "metadata": {},
   "outputs": [],
   "source": [
    "# Load the dataset\n",
    "dataset = load_dataset(\"rotten_tomatoes\")\n",
    "train_raw = dataset['train']\n",
    "validation_raw = dataset['validation']\n",
    "test_raw = dataset['test']\n",
    "\n",
    "# Build the vocabulary from training data\n",
    "vocabulary = set()\n",
    "for text in train_raw['text']:\n",
    "    tokens = word_tokenize(text.lower())\n",
    "    vocabulary.update(tokens)\n",
    "\n",
    "# Add special tokens\n",
    "vocabulary.add('<unk>')\n",
    "vocabulary.add('<pad>')\n",
    "\n",
    "# Create mappings between words and indices\n",
    "word2idx = {word: idx for idx, word in enumerate(vocabulary)}\n",
    "idx2word = {idx: word for word, idx in word2idx.items()}\n",
    "\n",
    "# Initialize the embedding matrix\n",
    "embedding_dim = 100  # Dimensionality of GloVe embeddings\n",
    "vocab_size = len(word2idx)\n",
    "embedding_matrix = np.zeros((vocab_size, embedding_dim))\n",
    "\n",
    "# Load GloVe embeddings (ensure 'glove.6B.100d.txt' is in your working directory)\n",
    "glove_path = 'glove.6B.100d.txt'  # Update the path if necessary\n",
    "with open(glove_path, 'r', encoding='utf8') as f:\n",
    "    for line in f:\n",
    "        values = line.strip().split()\n",
    "        if len(values) == embedding_dim + 1:\n",
    "            word = values[0]\n",
    "            vector = np.asarray(values[1:], dtype='float32')\n",
    "            if word in word2idx:\n",
    "                idx = word2idx[word]\n",
    "                embedding_matrix[idx] = vector\n",
    "\n",
    "# Set the embedding for '<pad>' token to zeros\n",
    "pad_idx = word2idx['<pad>']\n",
    "embedding_matrix[pad_idx] = np.zeros(embedding_dim)"
   ]
  },
  {
   "cell_type": "code",
   "execution_count": 40,
   "metadata": {},
   "outputs": [],
   "source": [
    "# Define the RNN model using pre-trained embeddings\n",
    "class SentimentRNNUpdatedEmbeddings(nn.Module):\n",
    "    def __init__(self, embedding_matrix):\n",
    "        super(SentimentRNNUpdatedEmbeddings, self).__init__()\n",
    "        vocab_size, embedding_dim = embedding_matrix.shape\n",
    "        self.embedding = nn.Embedding.from_pretrained(torch.tensor(embedding_matrix, dtype=torch.float32), freeze= False)\n",
    "        self.lstm = nn.LSTM(embedding_dim, hidden_size=256, batch_first=True, bidirectional=False, num_layers=2, dropout=0.5)\n",
    "        self.fc1 = nn.Linear(256, 128)\n",
    "        self.fc2 = nn.Linear(128, 1)\n",
    "        self.dropout = nn.Dropout(0.3)\n",
    "        self.relu = nn.ReLU()\n",
    "    \n",
    "    def forward(self, x):\n",
    "        embeds = self.embedding(x)\n",
    "        lstm_out, (h_n, c_n) = self.lstm(embeds)\n",
    "\n",
    "        out, _ = torch.max(lstm_out, dim=1)\n",
    "        # Concatenate the final hidden states from both directions\n",
    "        # out = torch.cat((h_n[-2,:,:], h_n[-1,:,:]), dim=1)\n",
    "        \n",
    "        out = self.dropout(out)\n",
    "        out = self.relu(self.fc1(out))\n",
    "        out = self.dropout(out)\n",
    "        out = torch.sigmoid(self.fc2(out))\n",
    "        return out.squeeze()"
   ]
  },
  {
   "cell_type": "code",
   "execution_count": 41,
   "metadata": {},
   "outputs": [
    {
     "name": "stderr",
     "output_type": "stream",
     "text": [
      "100%|██████████| 67/67 [00:02<00:00, 27.71it/s]\n",
      "100%|██████████| 9/9 [00:00<00:00, 44.67it/s]\n"
     ]
    },
    {
     "name": "stdout",
     "output_type": "stream",
     "text": [
      "Epoch [1/30], Training Loss: 0.6661, Validation Accuracy: 0.6735, Validation Loss: 0.6270, Best Val Loss: inf\n"
     ]
    },
    {
     "name": "stderr",
     "output_type": "stream",
     "text": [
      "100%|██████████| 67/67 [00:02<00:00, 28.77it/s]\n",
      "100%|██████████| 9/9 [00:00<00:00, 41.59it/s]\n"
     ]
    },
    {
     "name": "stdout",
     "output_type": "stream",
     "text": [
      "Epoch [2/30], Training Loss: 0.5466, Validation Accuracy: 0.7298, Validation Loss: 0.5282, Best Val Loss: 0.6270\n"
     ]
    },
    {
     "name": "stderr",
     "output_type": "stream",
     "text": [
      "100%|██████████| 67/67 [00:02<00:00, 27.33it/s]\n",
      "100%|██████████| 9/9 [00:00<00:00, 41.39it/s]\n"
     ]
    },
    {
     "name": "stdout",
     "output_type": "stream",
     "text": [
      "Epoch [3/30], Training Loss: 0.4712, Validation Accuracy: 0.7664, Validation Loss: 0.4881, Best Val Loss: 0.5282\n"
     ]
    },
    {
     "name": "stderr",
     "output_type": "stream",
     "text": [
      "100%|██████████| 67/67 [00:02<00:00, 26.80it/s]\n",
      "100%|██████████| 9/9 [00:00<00:00, 43.81it/s]\n"
     ]
    },
    {
     "name": "stdout",
     "output_type": "stream",
     "text": [
      "Epoch [4/30], Training Loss: 0.3700, Validation Accuracy: 0.7655, Validation Loss: 0.4775, Best Val Loss: 0.4881\n"
     ]
    },
    {
     "name": "stderr",
     "output_type": "stream",
     "text": [
      "100%|██████████| 67/67 [00:02<00:00, 28.05it/s]\n",
      "100%|██████████| 9/9 [00:00<00:00, 46.04it/s]\n"
     ]
    },
    {
     "name": "stdout",
     "output_type": "stream",
     "text": [
      "Epoch [5/30], Training Loss: 0.2863, Validation Accuracy: 0.7674, Validation Loss: 0.5048, Best Val Loss: 0.4775\n"
     ]
    },
    {
     "name": "stderr",
     "output_type": "stream",
     "text": [
      "100%|██████████| 67/67 [00:02<00:00, 27.45it/s]\n",
      "100%|██████████| 9/9 [00:00<00:00, 43.18it/s]\n"
     ]
    },
    {
     "name": "stdout",
     "output_type": "stream",
     "text": [
      "Epoch [6/30], Training Loss: 0.2196, Validation Accuracy: 0.7730, Validation Loss: 0.5257, Best Val Loss: 0.4775\n"
     ]
    },
    {
     "name": "stderr",
     "output_type": "stream",
     "text": [
      "100%|██████████| 67/67 [00:02<00:00, 28.47it/s]\n",
      "100%|██████████| 9/9 [00:00<00:00, 45.58it/s]\n"
     ]
    },
    {
     "name": "stdout",
     "output_type": "stream",
     "text": [
      "Epoch [7/30], Training Loss: 0.1638, Validation Accuracy: 0.7777, Validation Loss: 0.5762, Best Val Loss: 0.4775\n"
     ]
    },
    {
     "name": "stderr",
     "output_type": "stream",
     "text": [
      "100%|██████████| 67/67 [00:02<00:00, 27.51it/s]\n",
      "100%|██████████| 9/9 [00:00<00:00, 44.89it/s]\n"
     ]
    },
    {
     "name": "stdout",
     "output_type": "stream",
     "text": [
      "Epoch [8/30], Training Loss: 0.1138, Validation Accuracy: 0.7542, Validation Loss: 0.7301, Best Val Loss: 0.4775\n"
     ]
    },
    {
     "name": "stderr",
     "output_type": "stream",
     "text": [
      "100%|██████████| 67/67 [00:02<00:00, 27.99it/s]\n",
      "100%|██████████| 9/9 [00:00<00:00, 43.81it/s]\n"
     ]
    },
    {
     "name": "stdout",
     "output_type": "stream",
     "text": [
      "Epoch [9/30], Training Loss: 0.0779, Validation Accuracy: 0.7664, Validation Loss: 0.9045, Best Val Loss: 0.4775\n",
      "Early stopping!\n"
     ]
    },
    {
     "data": {
      "image/png": "[encoded data removed]",
      "text/plain": [
       "<Figure size 1000x500 with 1 Axes>"
      ]
     },
     "metadata": {},
     "output_type": "display_data"
    },
    {
     "data": {
      "text/plain": [
       "SentimentRNNUpdatedEmbeddings(\n",
       "  (embedding): Embedding(18031, 100)\n",
       "  (lstm): LSTM(100, 256, num_layers=2, batch_first=True, dropout=0.5)\n",
       "  (fc1): Linear(in_features=256, out_features=128, bias=True)\n",
       "  (fc2): Linear(in_features=128, out_features=1, bias=True)\n",
       "  (dropout): Dropout(p=0.3, inplace=False)\n",
       "  (relu): ReLU()\n",
       ")"
      ]
     },
     "execution_count": 41,
     "metadata": {},
     "output_type": "execute_result"
    }
   ],
   "source": [
    "# Instantiate the model\n",
    "sentimentRNNUpdatedEmbeddings = SentimentRNNUpdatedEmbeddings(embedding_matrix)\n",
    "\n",
    "# Set device to GPU if available\n",
    "device = torch.device('cuda' if torch.cuda.is_available() else 'cpu')\n",
    "sentimentRNNUpdatedEmbeddings.to(device)\n",
    "\n",
    "# Define loss function and optimizer\n",
    "criterion = nn.BCELoss()\n",
    "optimizer = torch.optim.Adam(sentimentRNNUpdatedEmbeddings.parameters(), lr=0.001, weight_decay=1e-4)\n",
    "scheduler = torch.optim.lr_scheduler.ReduceLROnPlateau(optimizer, 'max', patience=2, factor=0.5, verbose=True)\n",
    "\n",
    "# Training loop with validation and early stopping\n",
    "num_epochs = 30\n",
    "patience = 5  # Early stopping patience\n",
    "\n",
    "train_model(sentimentRNNUpdatedEmbeddings,'rnn', num_epochs, optimizer, scheduler, criterion, patience, train_loader, val_loader, device)"
   ]
  },
  {
   "cell_type": "code",
   "execution_count": 42,
   "metadata": {},
   "outputs": [
    {
     "name": "stderr",
     "output_type": "stream",
     "text": [
      "C:\\Users\\zheng\\AppData\\Local\\Temp\\ipykernel_49844\\85543697.py:2: FutureWarning: You are using `torch.load` with `weights_only=False` (the current default value), which uses the default pickle module implicitly. It is possible to construct malicious pickle data which will execute arbitrary code during unpickling (See https://github.com/pytorch/pytorch/blob/main/SECURITY.md#untrusted-models for more details). In a future release, the default value for `weights_only` will be flipped to `True`. This limits the functions that could be executed during unpickling. Arbitrary objects will no longer be allowed to be loaded via this mode unless they are explicitly allowlisted by the user via `torch.serialization.add_safe_globals`. We recommend you start setting `weights_only=True` for any use case where you don't have full control of the loaded file. Please open an issue on GitHub for any issues related to this experimental feature.\n",
      "  sentimentRNNUpdatedEmbeddings.load_state_dict(torch.load('rnn_model.pt'))\n",
      "100%|██████████| 9/9 [00:00<00:00, 40.83it/s]"
     ]
    },
    {
     "name": "stdout",
     "output_type": "stream",
     "text": [
      "Accuracy Score on Test dataset: 0.7927\n"
     ]
    },
    {
     "name": "stderr",
     "output_type": "stream",
     "text": [
      "\n"
     ]
    }
   ],
   "source": [
    "# Load the best model and evaluate on the test set\n",
    "sentimentRNNUpdatedEmbeddings.load_state_dict(torch.load('rnn_model.pt'))\n",
    "test_model(sentimentRNNUpdatedEmbeddings,device, test_loader)"
   ]
  },
  {
   "cell_type": "markdown",
   "metadata": {},
   "source": [
    "## Part 3.2 OOV Strategy 1: Random Embeddings "
   ]
  },
  {
   "cell_type": "code",
   "execution_count": 43,
   "metadata": {},
   "outputs": [],
   "source": [
    "# Load the dataset\n",
    "dataset = load_dataset(\"rotten_tomatoes\")\n",
    "train_raw = dataset['train']\n",
    "validation_raw = dataset['validation']\n",
    "test_raw = dataset['test']\n",
    "\n",
    "# Build the vocabulary from training data\n",
    "vocabulary = set()\n",
    "for text in train_raw['text']:\n",
    "    tokens = word_tokenize(text.lower())\n",
    "    vocabulary.update(tokens)\n",
    "\n",
    "# Add special tokens\n",
    "vocabulary.add('<unk>')\n",
    "vocabulary.add('<pad>')\n",
    "\n",
    "# Create mappings between words and indices\n",
    "word2idx = {word: idx for idx, word in enumerate(vocabulary)}\n",
    "idx2word = {idx: word for word, idx in word2idx.items()}\n",
    "\n",
    "# Initialize the embedding matrix\n",
    "embedding_dim = 100  # Dimensionality of GloVe embeddings\n",
    "vocab_size = len(word2idx)\n",
    "embedding_matrix = np.random.uniform(-0.05, 0.05, (vocab_size, embedding_dim))\n",
    "\n",
    "# Load GloVe embeddings (ensure 'glove.6B.100d.txt' is in your working directory)\n",
    "glove_path = 'glove.6B.100d.txt'  # Update the path if necessary\n",
    "with open(glove_path, 'r', encoding='utf8') as f:\n",
    "    for line in f:\n",
    "        values = line.strip().split()\n",
    "        if len(values) == embedding_dim + 1:\n",
    "            word = values[0]\n",
    "            vector = np.asarray(values[1:], dtype='float32')\n",
    "            if word in word2idx:\n",
    "                idx = word2idx[word]\n",
    "                embedding_matrix[idx] = vector\n",
    "\n",
    "# Set the embedding for '<pad>' token to zeros\n",
    "pad_idx = word2idx['<pad>']\n",
    "embedding_matrix[pad_idx] = np.zeros(embedding_dim)"
   ]
  },
  {
   "cell_type": "code",
   "execution_count": 44,
   "metadata": {},
   "outputs": [
    {
     "name": "stderr",
     "output_type": "stream",
     "text": [
      "100%|██████████| 67/67 [00:02<00:00, 28.57it/s]\n",
      "100%|██████████| 9/9 [00:00<00:00, 38.40it/s]\n"
     ]
    },
    {
     "name": "stdout",
     "output_type": "stream",
     "text": [
      "Epoch [1/30], Training Loss: 0.6582, Validation Accuracy: 0.6660, Validation Loss: 0.6038, Best Val Loss: inf\n"
     ]
    },
    {
     "name": "stderr",
     "output_type": "stream",
     "text": [
      "100%|██████████| 67/67 [00:02<00:00, 28.91it/s]\n",
      "100%|██████████| 9/9 [00:00<00:00, 42.17it/s]\n"
     ]
    },
    {
     "name": "stdout",
     "output_type": "stream",
     "text": [
      "Epoch [2/30], Training Loss: 0.5378, Validation Accuracy: 0.7448, Validation Loss: 0.5228, Best Val Loss: 0.6038\n"
     ]
    },
    {
     "name": "stderr",
     "output_type": "stream",
     "text": [
      "100%|██████████| 67/67 [00:02<00:00, 27.48it/s]\n",
      "100%|██████████| 9/9 [00:00<00:00, 44.67it/s]\n"
     ]
    },
    {
     "name": "stdout",
     "output_type": "stream",
     "text": [
      "Epoch [3/30], Training Loss: 0.4244, Validation Accuracy: 0.7692, Validation Loss: 0.4825, Best Val Loss: 0.5228\n"
     ]
    },
    {
     "name": "stderr",
     "output_type": "stream",
     "text": [
      "100%|██████████| 67/67 [00:02<00:00, 27.70it/s]\n",
      "100%|██████████| 9/9 [00:00<00:00, 44.67it/s]\n"
     ]
    },
    {
     "name": "stdout",
     "output_type": "stream",
     "text": [
      "Epoch [4/30], Training Loss: 0.3492, Validation Accuracy: 0.7824, Validation Loss: 0.4734, Best Val Loss: 0.4825\n"
     ]
    },
    {
     "name": "stderr",
     "output_type": "stream",
     "text": [
      "100%|██████████| 67/67 [00:02<00:00, 27.69it/s]\n",
      "100%|██████████| 9/9 [00:00<00:00, 44.67it/s]\n"
     ]
    },
    {
     "name": "stdout",
     "output_type": "stream",
     "text": [
      "Epoch [5/30], Training Loss: 0.2716, Validation Accuracy: 0.7514, Validation Loss: 0.5161, Best Val Loss: 0.4734\n"
     ]
    },
    {
     "name": "stderr",
     "output_type": "stream",
     "text": [
      "100%|██████████| 67/67 [00:02<00:00, 27.82it/s]\n",
      "100%|██████████| 9/9 [00:00<00:00, 45.13it/s]\n"
     ]
    },
    {
     "name": "stdout",
     "output_type": "stream",
     "text": [
      "Epoch [6/30], Training Loss: 0.2094, Validation Accuracy: 0.7674, Validation Loss: 0.5624, Best Val Loss: 0.4734\n"
     ]
    },
    {
     "name": "stderr",
     "output_type": "stream",
     "text": [
      "100%|██████████| 67/67 [00:02<00:00, 28.69it/s]\n",
      "100%|██████████| 9/9 [00:00<00:00, 45.35it/s]\n"
     ]
    },
    {
     "name": "stdout",
     "output_type": "stream",
     "text": [
      "Epoch [7/30], Training Loss: 0.1485, Validation Accuracy: 0.7692, Validation Loss: 0.6156, Best Val Loss: 0.4734\n"
     ]
    },
    {
     "name": "stderr",
     "output_type": "stream",
     "text": [
      "100%|██████████| 67/67 [00:02<00:00, 27.49it/s]\n",
      "100%|██████████| 9/9 [00:00<00:00, 45.57it/s]\n"
     ]
    },
    {
     "name": "stdout",
     "output_type": "stream",
     "text": [
      "Epoch [8/30], Training Loss: 0.0876, Validation Accuracy: 0.7824, Validation Loss: 0.7447, Best Val Loss: 0.4734\n"
     ]
    },
    {
     "name": "stderr",
     "output_type": "stream",
     "text": [
      "100%|██████████| 67/67 [00:02<00:00, 27.77it/s]\n",
      "100%|██████████| 9/9 [00:00<00:00, 45.25it/s]\n"
     ]
    },
    {
     "name": "stdout",
     "output_type": "stream",
     "text": [
      "Epoch [9/30], Training Loss: 0.0606, Validation Accuracy: 0.7711, Validation Loss: 1.0141, Best Val Loss: 0.4734\n",
      "Early stopping!\n"
     ]
    },
    {
     "data": {
      "image/png": "[encoded data removed]",
      "text/plain": [
       "<Figure size 1000x500 with 1 Axes>"
      ]
     },
     "metadata": {},
     "output_type": "display_data"
    },
    {
     "data": {
      "text/plain": [
       "SentimentRNNUpdatedEmbeddings(\n",
       "  (embedding): Embedding(18031, 100)\n",
       "  (lstm): LSTM(100, 256, num_layers=2, batch_first=True, dropout=0.5)\n",
       "  (fc1): Linear(in_features=256, out_features=128, bias=True)\n",
       "  (fc2): Linear(in_features=128, out_features=1, bias=True)\n",
       "  (dropout): Dropout(p=0.3, inplace=False)\n",
       "  (relu): ReLU()\n",
       ")"
      ]
     },
     "execution_count": 44,
     "metadata": {},
     "output_type": "execute_result"
    }
   ],
   "source": [
    "# Instantiate the model\n",
    "sentimentRNNUpdatedEmbeddings = SentimentRNNUpdatedEmbeddings(embedding_matrix)\n",
    "\n",
    "# Set device to GPU if available\n",
    "device = torch.device('cuda' if torch.cuda.is_available() else 'cpu')\n",
    "sentimentRNNUpdatedEmbeddings.to(device)\n",
    "\n",
    "# Define loss function and optimizer\n",
    "criterion = nn.BCELoss()\n",
    "optimizer = torch.optim.Adam(sentimentRNNUpdatedEmbeddings.parameters(), lr=0.001, weight_decay=1e-4)\n",
    "scheduler = torch.optim.lr_scheduler.ReduceLROnPlateau(optimizer, 'max', patience=2, factor=0.5, verbose=True)\n",
    "\n",
    "# Training loop with validation and early stopping\n",
    "num_epochs = 30\n",
    "patience = 5  # Early stopping patience\n",
    "\n",
    "train_model(sentimentRNNUpdatedEmbeddings,'rnn', num_epochs, optimizer, scheduler, criterion, patience, train_loader, val_loader, device)"
   ]
  },
  {
   "cell_type": "code",
   "execution_count": 45,
   "metadata": {},
   "outputs": [
    {
     "name": "stderr",
     "output_type": "stream",
     "text": [
      "C:\\Users\\zheng\\AppData\\Local\\Temp\\ipykernel_49844\\85543697.py:2: FutureWarning: You are using `torch.load` with `weights_only=False` (the current default value), which uses the default pickle module implicitly. It is possible to construct malicious pickle data which will execute arbitrary code during unpickling (See https://github.com/pytorch/pytorch/blob/main/SECURITY.md#untrusted-models for more details). In a future release, the default value for `weights_only` will be flipped to `True`. This limits the functions that could be executed during unpickling. Arbitrary objects will no longer be allowed to be loaded via this mode unless they are explicitly allowlisted by the user via `torch.serialization.add_safe_globals`. We recommend you start setting `weights_only=True` for any use case where you don't have full control of the loaded file. Please open an issue on GitHub for any issues related to this experimental feature.\n",
      "  sentimentRNNUpdatedEmbeddings.load_state_dict(torch.load('rnn_model.pt'))\n",
      "100%|██████████| 9/9 [00:00<00:00, 41.40it/s]"
     ]
    },
    {
     "name": "stdout",
     "output_type": "stream",
     "text": [
      "Accuracy Score on Test dataset: 0.8077\n"
     ]
    },
    {
     "name": "stderr",
     "output_type": "stream",
     "text": [
      "\n"
     ]
    }
   ],
   "source": [
    "# Load the best model and evaluate on the test set\n",
    "sentimentRNNUpdatedEmbeddings.load_state_dict(torch.load('rnn_model.pt'))\n",
    "test_model(sentimentRNNUpdatedEmbeddings,device, test_loader)"
   ]
  },
  {
   "cell_type": "code",
   "execution_count": null,
   "metadata": {},
   "outputs": [],
   "source": []
  },
  {
   "cell_type": "markdown",
   "metadata": {},
   "source": [
    "## Part 3.2 OOV Strategy 2: Byte-pair Encoding"
   ]
  },
  {
   "cell_type": "code",
   "execution_count": 46,
   "metadata": {},
   "outputs": [
    {
     "name": "stdout",
     "output_type": "stream",
     "text": [
      "Tokenized sample from training set: ['the', 'Ġrock', 'Ġis', 'Ġdestined', 'Ġto', 'Ġbe', 'Ġthe', 'Ġ21', 'st', 'Ġcentury', \"'s\", 'Ġnew', 'Ġ\"', 'Ġconan', 'Ġ\"', 'Ġand', 'Ġthat', 'Ġhe', \"'s\", 'Ġgoing', 'Ġto', 'Ġmake', 'Ġa', 'Ġsplash', 'Ġeven', 'Ġgreater', 'Ġthan', 'Ġarnold', 'Ġschwarzenegger', 'Ġ,', 'Ġjean', '-', 'cl', 'aud', 'Ġvan', 'Ġdamme', 'Ġor', 'Ġsteven', 'Ġse', 'gal', 'Ġ.']\n"
     ]
    }
   ],
   "source": [
    "# Load the Rotten Tomatoes dataset\n",
    "dataset = load_dataset(\"rotten_tomatoes\")\n",
    "train_raw = dataset['train']\n",
    "validation_raw = dataset['validation']\n",
    "test_raw = dataset['test']\n",
    "\n",
    "# Prepare the text data for BPE training\n",
    "train_texts = [entry['text'] for entry in train_raw]\n",
    "\n",
    "# Step 3: Initialize and Train the BPE Tokenizer\n",
    "# Define a ByteLevelBPETokenizer instance\n",
    "tokenizer = ByteLevelBPETokenizer()\n",
    "\n",
    "# Train the tokenizer on the training texts\n",
    "tokenizer.train_from_iterator(train_texts, vocab_size=30000, min_frequency=2)\n",
    "\n",
    "# Save the trained tokenizer (optional)\n",
    "tokenizer.save_model(\".\", \"bpe_tokenizer\")\n",
    "\n",
    "# Step 4: Apply the Trained BPE Tokenizer to Your Datasets\n",
    "# Tokenize a sample from the training set\n",
    "train_tokenized = [tokenizer.encode(text).tokens for text in train_texts]\n",
    "\n",
    "# Similarly tokenize the validation and test sets\n",
    "validation_texts = [entry['text'] for entry in validation_raw]\n",
    "validation_tokenized = [tokenizer.encode(text).tokens for text in validation_texts]\n",
    "\n",
    "test_texts = [entry['text'] for entry in test_raw]\n",
    "test_tokenized = [tokenizer.encode(text).tokens for text in test_texts]\n",
    "\n",
    "# Print a sample tokenized text\n",
    "print(\"Tokenized sample from training set:\", train_tokenized[0])"
   ]
  },
  {
   "cell_type": "code",
   "execution_count": 47,
   "metadata": {},
   "outputs": [],
   "source": [
    "def load_glove_embeddings(filepath):\n",
    "    embeddings_index = {}\n",
    "    with open(filepath, 'r', encoding='utf-8') as file:\n",
    "        for line in file:\n",
    "            values = line.split()\n",
    "            word = values[0]\n",
    "            coefs = np.asarray(values[1:], dtype='float32')\n",
    "            embeddings_index[word] = coefs\n",
    "    return embeddings_index\n",
    "\n",
    "def get_subword_embedding(subwords, glove_embeddings, embedding_dim=100):\n",
    "    vectors = []\n",
    "    for subword in subwords:\n",
    "        if subword in glove_embeddings:\n",
    "            vectors.append(glove_embeddings[subword])\n",
    "    if not vectors:\n",
    "        # Handle the case where no subwords have embeddings\n",
    "        return np.random.uniform(-0.05, 0.05, (embedding_dim,))\n",
    "    # Average or sum the vectors\n",
    "    return np.mean(vectors, axis=0)  # For averaging\n",
    "    # return np.sum(vectors, axis=0)   # For summation"
   ]
  },
  {
   "cell_type": "code",
   "execution_count": 48,
   "metadata": {},
   "outputs": [],
   "source": [
    "# Load the dataset\n",
    "dataset = load_dataset(\"rotten_tomatoes\")\n",
    "train_raw = dataset['train']\n",
    "validation_raw = dataset['validation']\n",
    "test_raw = dataset['test']\n",
    "\n",
    "# Build the vocabulary from training data\n",
    "vocabulary = set()\n",
    "for text in train_raw['text']:\n",
    "    tokens = word_tokenize(text.lower())\n",
    "    vocabulary.update(tokens)\n",
    "\n",
    "# Add special tokens\n",
    "vocabulary.add('<unk>')\n",
    "vocabulary.add('<pad>')\n",
    "\n",
    "# Create mappings between words and indices\n",
    "word2idx = {word: idx for idx, word in enumerate(vocabulary)}\n",
    "idx2word = {idx: word for word, idx in word2idx.items()}\n",
    "\n",
    "# Initialize the embedding matrix\n",
    "embedding_dim = 100  # Dimensionality of GloVe embeddings\n",
    "vocab_size = len(word2idx)\n",
    "embedding_matrix = np.random.uniform(-0.05, 0.05, (vocab_size, embedding_dim))\n",
    "\n",
    "glove_embeddings = load_glove_embeddings('glove.6B.100d.txt')\n",
    "tokenizer = ByteLevelBPETokenizer.from_file(\"bpe_tokenizer-vocab.json\", \"bpe_tokenizer-merges.txt\")\n",
    "\n",
    "for word in word2idx:\n",
    "    idx = word2idx[word]\n",
    "    if word in glove_embeddings:\n",
    "        vector = glove_embeddings[word]\n",
    "        embedding_matrix[idx] = vector\n",
    "\n",
    "    else:\n",
    "        subwords = tokenizer.encode(word).tokens\n",
    "        # print(subwords)\n",
    "        vector = get_subword_embedding(subwords=subwords, glove_embeddings=glove_embeddings)\n",
    "        embedding_matrix[idx] = vector\n",
    "\n",
    "\n",
    "# Set the embedding for '<pad>' token to zeros\n",
    "pad_idx = word2idx['<pad>']\n",
    "embedding_matrix[pad_idx] = np.zeros(embedding_dim)"
   ]
  },
  {
   "cell_type": "code",
   "execution_count": 49,
   "metadata": {},
   "outputs": [
    {
     "name": "stderr",
     "output_type": "stream",
     "text": [
      "100%|██████████| 67/67 [00:02<00:00, 26.60it/s]\n",
      "100%|██████████| 9/9 [00:00<00:00, 48.26it/s]\n"
     ]
    },
    {
     "name": "stdout",
     "output_type": "stream",
     "text": [
      "Epoch [1/30], Training Loss: 0.6621, Validation Accuracy: 0.6932, Validation Loss: 0.6082, Best Val Loss: inf\n"
     ]
    },
    {
     "name": "stderr",
     "output_type": "stream",
     "text": [
      "100%|██████████| 67/67 [00:02<00:00, 28.74it/s]\n",
      "100%|██████████| 9/9 [00:00<00:00, 48.00it/s]\n"
     ]
    },
    {
     "name": "stdout",
     "output_type": "stream",
     "text": [
      "Epoch [2/30], Training Loss: 0.5320, Validation Accuracy: 0.7430, Validation Loss: 0.5140, Best Val Loss: 0.6082\n"
     ]
    },
    {
     "name": "stderr",
     "output_type": "stream",
     "text": [
      "100%|██████████| 67/67 [00:02<00:00, 28.60it/s]\n",
      "100%|██████████| 9/9 [00:00<00:00, 44.45it/s]\n"
     ]
    },
    {
     "name": "stdout",
     "output_type": "stream",
     "text": [
      "Epoch [3/30], Training Loss: 0.4385, Validation Accuracy: 0.7495, Validation Loss: 0.5023, Best Val Loss: 0.5140\n"
     ]
    },
    {
     "name": "stderr",
     "output_type": "stream",
     "text": [
      "100%|██████████| 67/67 [00:02<00:00, 29.03it/s]\n",
      "100%|██████████| 9/9 [00:00<00:00, 47.75it/s]\n"
     ]
    },
    {
     "name": "stdout",
     "output_type": "stream",
     "text": [
      "Epoch [4/30], Training Loss: 0.3642, Validation Accuracy: 0.7758, Validation Loss: 0.5242, Best Val Loss: 0.5023\n"
     ]
    },
    {
     "name": "stderr",
     "output_type": "stream",
     "text": [
      "100%|██████████| 67/67 [00:02<00:00, 29.51it/s]\n",
      "100%|██████████| 9/9 [00:00<00:00, 49.04it/s]\n"
     ]
    },
    {
     "name": "stdout",
     "output_type": "stream",
     "text": [
      "Epoch [5/30], Training Loss: 0.2826, Validation Accuracy: 0.7927, Validation Loss: 0.5093, Best Val Loss: 0.5023\n"
     ]
    },
    {
     "name": "stderr",
     "output_type": "stream",
     "text": [
      "100%|██████████| 67/67 [00:02<00:00, 29.12it/s]\n",
      "100%|██████████| 9/9 [00:00<00:00, 48.52it/s]\n"
     ]
    },
    {
     "name": "stdout",
     "output_type": "stream",
     "text": [
      "Epoch [6/30], Training Loss: 0.2238, Validation Accuracy: 0.7899, Validation Loss: 0.5652, Best Val Loss: 0.5023\n"
     ]
    },
    {
     "name": "stderr",
     "output_type": "stream",
     "text": [
      "100%|██████████| 67/67 [00:02<00:00, 28.64it/s]\n",
      "100%|██████████| 9/9 [00:00<00:00, 47.00it/s]\n"
     ]
    },
    {
     "name": "stdout",
     "output_type": "stream",
     "text": [
      "Epoch [7/30], Training Loss: 0.1679, Validation Accuracy: 0.7758, Validation Loss: 0.7315, Best Val Loss: 0.5023\n"
     ]
    },
    {
     "name": "stderr",
     "output_type": "stream",
     "text": [
      "100%|██████████| 67/67 [00:02<00:00, 29.18it/s]\n",
      "100%|██████████| 9/9 [00:00<00:00, 48.52it/s]"
     ]
    },
    {
     "name": "stdout",
     "output_type": "stream",
     "text": [
      "Epoch [8/30], Training Loss: 0.1241, Validation Accuracy: 0.7730, Validation Loss: 0.7196, Best Val Loss: 0.5023\n",
      "Early stopping!\n"
     ]
    },
    {
     "name": "stderr",
     "output_type": "stream",
     "text": [
      "\n"
     ]
    },
    {
     "data": {
      "image/png": "[encoded data removed]",
      "text/plain": [
       "<Figure size 1000x500 with 1 Axes>"
      ]
     },
     "metadata": {},
     "output_type": "display_data"
    },
    {
     "data": {
      "text/plain": [
       "SentimentRNNUpdatedEmbeddings(\n",
       "  (embedding): Embedding(18031, 100)\n",
       "  (lstm): LSTM(100, 256, num_layers=2, batch_first=True, dropout=0.5)\n",
       "  (fc1): Linear(in_features=256, out_features=128, bias=True)\n",
       "  (fc2): Linear(in_features=128, out_features=1, bias=True)\n",
       "  (dropout): Dropout(p=0.3, inplace=False)\n",
       "  (relu): ReLU()\n",
       ")"
      ]
     },
     "execution_count": 49,
     "metadata": {},
     "output_type": "execute_result"
    }
   ],
   "source": [
    "# Instantiate the model\n",
    "sentimentRNNUpdatedEmbeddings = SentimentRNNUpdatedEmbeddings(embedding_matrix)\n",
    "\n",
    "# Set device to GPU if available\n",
    "device = torch.device('cuda' if torch.cuda.is_available() else 'cpu')\n",
    "sentimentRNNUpdatedEmbeddings.to(device)\n",
    "\n",
    "# Define loss function and optimizer\n",
    "criterion = nn.BCELoss()\n",
    "optimizer = torch.optim.Adam(sentimentRNNUpdatedEmbeddings.parameters(), lr=0.001, weight_decay=1e-4)\n",
    "scheduler = torch.optim.lr_scheduler.ReduceLROnPlateau(optimizer, 'max', patience=2, factor=0.5, verbose=True)\n",
    "\n",
    "# Training loop with validation and early stopping\n",
    "num_epochs = 30\n",
    "patience = 5  # Early stopping patience\n",
    "\n",
    "train_model(sentimentRNNUpdatedEmbeddings,'rnn', num_epochs, optimizer, scheduler, criterion, patience, train_loader, val_loader, device)"
   ]
  },
  {
   "cell_type": "code",
   "execution_count": 50,
   "metadata": {},
   "outputs": [
    {
     "name": "stderr",
     "output_type": "stream",
     "text": [
      "C:\\Users\\zheng\\AppData\\Local\\Temp\\ipykernel_49844\\85543697.py:2: FutureWarning: You are using `torch.load` with `weights_only=False` (the current default value), which uses the default pickle module implicitly. It is possible to construct malicious pickle data which will execute arbitrary code during unpickling (See https://github.com/pytorch/pytorch/blob/main/SECURITY.md#untrusted-models for more details). In a future release, the default value for `weights_only` will be flipped to `True`. This limits the functions that could be executed during unpickling. Arbitrary objects will no longer be allowed to be loaded via this mode unless they are explicitly allowlisted by the user via `torch.serialization.add_safe_globals`. We recommend you start setting `weights_only=True` for any use case where you don't have full control of the loaded file. Please open an issue on GitHub for any issues related to this experimental feature.\n",
      "  sentimentRNNUpdatedEmbeddings.load_state_dict(torch.load('rnn_model.pt'))\n",
      "100%|██████████| 9/9 [00:00<00:00, 34.44it/s]"
     ]
    },
    {
     "name": "stdout",
     "output_type": "stream",
     "text": [
      "Accuracy Score on Test dataset: 0.7645\n"
     ]
    },
    {
     "name": "stderr",
     "output_type": "stream",
     "text": [
      "\n"
     ]
    }
   ],
   "source": [
    "# Load the best model and evaluate on the test set\n",
    "sentimentRNNUpdatedEmbeddings.load_state_dict(torch.load('rnn_model.pt'))\n",
    "test_model(sentimentRNNUpdatedEmbeddings,device, test_loader)"
   ]
  },
  {
   "cell_type": "markdown",
   "metadata": {},
   "source": [
    "## Part 3.2 OOV Strategy 3: Backoff and Interpolation"
   ]
  },
  {
   "cell_type": "code",
   "execution_count": 51,
   "metadata": {},
   "outputs": [
    {
     "name": "stdout",
     "output_type": "stream",
     "text": [
      "The size of the vocabulary is: 18029\n",
      "Embedding matrix shape: (18031, 100)\n"
     ]
    }
   ],
   "source": [
    "dataset = load_dataset(\"rotten_tomatoes\")\n",
    "train_dataset = dataset['train']\n",
    "vocabulary = set()\n",
    "\n",
    "for text in train_dataset['text']:\n",
    "    tokens = word_tokenize(text.lower())\n",
    "    vocabulary.update(tokens)\n",
    "\n",
    "# Print the size of the vocabulary\n",
    "print(\"The size of the vocabulary is:\", len(vocabulary))\n",
    "\n",
    "glove_vocab = set()\n",
    "glove_embeddings = {}\n",
    "embedding_dim = 100\n",
    "with open('glove.6B.100d.txt', 'r', encoding='utf8') as f:\n",
    "    for line in f:\n",
    "        values = line.split()\n",
    "        word = values[0]\n",
    "        glove_vocab.add(word)\n",
    "        glove_embeddings[word] = np.asarray(values[1:], dtype='float32')\n",
    "\n",
    "# Identify OOV words\n",
    "oov_words = vocabulary - glove_vocab\n",
    "\n",
    "vocabulary.add('<unk>')\n",
    "vocabulary.add('<pad>')\n",
    "\n",
    "# Create mappings between words and indices\n",
    "word2idx = {word: idx for idx, word in enumerate(vocabulary)}\n",
    "idx2word = {idx: word for idx, word in enumerate(vocabulary)}\n",
    "\n",
    "# Initialize the embedding matrix for known words\n",
    "embedding_matrix = np.zeros((len(vocabulary), embedding_dim))\n",
    "for word in glove_vocab:\n",
    "    if word in word2idx:  # Check if the word is in word2idx\n",
    "        idx = word2idx[word]\n",
    "        embedding_matrix[idx] = glove_embeddings[word]\n",
    "\n",
    "        \n",
    "embedding_matrix = np.zeros((len(vocabulary), embedding_dim))\n",
    "for word in glove_vocab:\n",
    "    if word in word2idx:  # Check if the word is in word2idx\n",
    "        idx = word2idx[word]\n",
    "        embedding_matrix[idx] = glove_embeddings[word]\n",
    "\n",
    "        \n",
    "# Create n-grams from training data\n",
    "def create_ngrams(texts, n):\n",
    "    ngram_counts = defaultdict(int)\n",
    "    for entry in texts:  # Adjusted to iterate over each entry (dictionary)\n",
    "        text = entry['text']  # Access the text with the appropriate key\n",
    "        tokens = word_tokenize(text.lower())\n",
    "        ngrams = zip(*[tokens[i:] for i in range(n)])  # Create n-grams\n",
    "        for ngram in ngrams:\n",
    "            ngram_counts[' '.join(ngram)] += 1\n",
    "    return ngram_counts\n",
    "\n",
    "# Create bigrams and trigrams\n",
    "bigram_counts = create_ngrams(train_dataset, 2)  # Use train_raw directly\n",
    "trigram_counts = create_ngrams(train_dataset, 3)  # Use train_raw directly\n",
    "\n",
    "# Backoff and interpolation parameters\n",
    "lambda1 = 0.8  # weight for unigrams\n",
    "lambda2 = 0.15  # weight for bigrams\n",
    "lambda3 = 0.05  # weight for trigrams\n",
    "\n",
    "# Define a function for backoff and interpolation handling OOV words\n",
    "def get_ngram_embedding(word, embedding_matrix, word2idx, bigram_counts, trigram_counts):\n",
    "    if word in word2idx:\n",
    "        return embedding_matrix[word2idx[word]]\n",
    "    else:\n",
    "        # Initialize embeddings for interpolation\n",
    "        unigram_embedding = np.zeros(embedding_matrix.shape[1])\n",
    "        bigram_embedding = np.zeros(embedding_matrix.shape[1])\n",
    "        trigram_embedding = np.zeros(embedding_matrix.shape[1])\n",
    "        \n",
    "        # Check trigram context\n",
    "        trigram_context = [ngram for ngram in trigram_counts if word in ngram.split()]\n",
    "        if trigram_context:\n",
    "            context_ngram = trigram_context[0].split()\n",
    "            trigram_embedding = np.mean([embedding_matrix[word2idx[w]] for w in context_ngram if w in word2idx], axis=0)\n",
    "\n",
    "        # Check bigram context\n",
    "        bigram_context = [ngram for ngram in bigram_counts if word in ngram.split()]\n",
    "        if bigram_context:\n",
    "            context_ngram = bigram_context[0].split()\n",
    "            bigram_embedding = np.mean([embedding_matrix[word2idx[w]] for w in context_ngram if w in word2idx], axis=0)\n",
    "\n",
    "        # Calculate unigram embedding (mean of known embeddings, if available)\n",
    "        known_words = [w for w in word2idx if w in vocabulary]\n",
    "        if known_words:\n",
    "            unigram_embedding = np.mean([embedding_matrix[word2idx[w]] for w in known_words if word2idx[w] < len(embedding_matrix)], axis=0)\n",
    "\n",
    "        # Apply interpolation\n",
    "        final_embedding = (lambda1 * unigram_embedding) + (lambda2 * bigram_embedding) + (lambda3 * trigram_embedding)\n",
    "        return final_embedding\n",
    "\n",
    "# Handle OOV words using n-gram embeddings\n",
    "for oov_word in oov_words:\n",
    "    if oov_word in word2idx:  # Ensure the OOV word exists in word2idx\n",
    "        idx = word2idx[oov_word]\n",
    "        embedding_matrix[idx] = get_ngram_embedding(oov_word, embedding_matrix, word2idx, bigram_counts, trigram_counts)\n",
    "\n",
    "pad_idx = word2idx['<pad>']\n",
    "embedding_matrix[pad_idx] = np.zeros(embedding_dim)\n",
    "\n",
    "# Now, the embedding_matrix contains GloVe embeddings for known words and n-gram based embeddings for OOV words\n",
    "print(\"Embedding matrix shape:\", embedding_matrix.shape)"
   ]
  },
  {
   "cell_type": "code",
   "execution_count": 52,
   "metadata": {},
   "outputs": [
    {
     "name": "stderr",
     "output_type": "stream",
     "text": [
      "100%|██████████| 67/67 [00:02<00:00, 26.40it/s]\n",
      "100%|██████████| 9/9 [00:00<00:00, 40.65it/s]\n"
     ]
    },
    {
     "name": "stdout",
     "output_type": "stream",
     "text": [
      "Epoch [1/30], Training Loss: 0.6685, Validation Accuracy: 0.6660, Validation Loss: 0.6339, Best Val Loss: inf\n"
     ]
    },
    {
     "name": "stderr",
     "output_type": "stream",
     "text": [
      "100%|██████████| 67/67 [00:02<00:00, 28.71it/s]\n",
      "100%|██████████| 9/9 [00:00<00:00, 47.00it/s]\n"
     ]
    },
    {
     "name": "stdout",
     "output_type": "stream",
     "text": [
      "Epoch [2/30], Training Loss: 0.5509, Validation Accuracy: 0.7411, Validation Loss: 0.5134, Best Val Loss: 0.6339\n"
     ]
    },
    {
     "name": "stderr",
     "output_type": "stream",
     "text": [
      "100%|██████████| 67/67 [00:02<00:00, 28.58it/s]\n",
      "100%|██████████| 9/9 [00:00<00:00, 45.35it/s]\n"
     ]
    },
    {
     "name": "stdout",
     "output_type": "stream",
     "text": [
      "Epoch [3/30], Training Loss: 0.4598, Validation Accuracy: 0.7674, Validation Loss: 0.5129, Best Val Loss: 0.5134\n"
     ]
    },
    {
     "name": "stderr",
     "output_type": "stream",
     "text": [
      "100%|██████████| 67/67 [00:02<00:00, 27.66it/s]\n",
      "100%|██████████| 9/9 [00:00<00:00, 49.31it/s]\n"
     ]
    },
    {
     "name": "stdout",
     "output_type": "stream",
     "text": [
      "Epoch [4/30], Training Loss: 0.3715, Validation Accuracy: 0.7795, Validation Loss: 0.4983, Best Val Loss: 0.5129\n"
     ]
    },
    {
     "name": "stderr",
     "output_type": "stream",
     "text": [
      "100%|██████████| 67/67 [00:02<00:00, 29.08it/s]\n",
      "100%|██████████| 9/9 [00:00<00:00, 48.79it/s]\n"
     ]
    },
    {
     "name": "stdout",
     "output_type": "stream",
     "text": [
      "Epoch [5/30], Training Loss: 0.2987, Validation Accuracy: 0.7655, Validation Loss: 0.6024, Best Val Loss: 0.4983\n"
     ]
    },
    {
     "name": "stderr",
     "output_type": "stream",
     "text": [
      "100%|██████████| 67/67 [00:02<00:00, 29.36it/s]\n",
      "100%|██████████| 9/9 [00:00<00:00, 47.00it/s]\n"
     ]
    },
    {
     "name": "stdout",
     "output_type": "stream",
     "text": [
      "Epoch [6/30], Training Loss: 0.2241, Validation Accuracy: 0.7814, Validation Loss: 0.5509, Best Val Loss: 0.4983\n"
     ]
    },
    {
     "name": "stderr",
     "output_type": "stream",
     "text": [
      "100%|██████████| 67/67 [00:02<00:00, 27.87it/s]\n",
      "100%|██████████| 9/9 [00:00<00:00, 46.52it/s]\n"
     ]
    },
    {
     "name": "stdout",
     "output_type": "stream",
     "text": [
      "Epoch [7/30], Training Loss: 0.1631, Validation Accuracy: 0.7833, Validation Loss: 0.5935, Best Val Loss: 0.4983\n"
     ]
    },
    {
     "name": "stderr",
     "output_type": "stream",
     "text": [
      "100%|██████████| 67/67 [00:02<00:00, 29.05it/s]\n",
      "100%|██████████| 9/9 [00:00<00:00, 45.38it/s]\n"
     ]
    },
    {
     "name": "stdout",
     "output_type": "stream",
     "text": [
      "Epoch [8/30], Training Loss: 0.1210, Validation Accuracy: 0.7645, Validation Loss: 0.7313, Best Val Loss: 0.4983\n"
     ]
    },
    {
     "name": "stderr",
     "output_type": "stream",
     "text": [
      "100%|██████████| 67/67 [00:02<00:00, 28.53it/s]\n",
      "100%|██████████| 9/9 [00:00<00:00, 46.76it/s]\n"
     ]
    },
    {
     "name": "stdout",
     "output_type": "stream",
     "text": [
      "Epoch [9/30], Training Loss: 0.0842, Validation Accuracy: 0.7552, Validation Loss: 0.9012, Best Val Loss: 0.4983\n",
      "Early stopping!\n"
     ]
    },
    {
     "data": {
      "image/png": "[encoded data removed]",
      "text/plain": [
       "<Figure size 1000x500 with 1 Axes>"
      ]
     },
     "metadata": {},
     "output_type": "display_data"
    },
    {
     "data": {
      "text/plain": [
       "SentimentRNNUpdatedEmbeddings(\n",
       "  (embedding): Embedding(18031, 100)\n",
       "  (lstm): LSTM(100, 256, num_layers=2, batch_first=True, dropout=0.5)\n",
       "  (fc1): Linear(in_features=256, out_features=128, bias=True)\n",
       "  (fc2): Linear(in_features=128, out_features=1, bias=True)\n",
       "  (dropout): Dropout(p=0.3, inplace=False)\n",
       "  (relu): ReLU()\n",
       ")"
      ]
     },
     "execution_count": 52,
     "metadata": {},
     "output_type": "execute_result"
    }
   ],
   "source": [
    "# Instantiate the model\n",
    "sentimentRNNUpdatedEmbeddings = SentimentRNNUpdatedEmbeddings(embedding_matrix)\n",
    "\n",
    "# Set device to GPU if available\n",
    "device = torch.device('cuda' if torch.cuda.is_available() else 'cpu')\n",
    "sentimentRNNUpdatedEmbeddings.to(device)\n",
    "\n",
    "# Define loss function and optimizer\n",
    "criterion = nn.BCELoss()\n",
    "optimizer = torch.optim.Adam(sentimentRNNUpdatedEmbeddings.parameters(), lr=0.001, weight_decay=1e-4)\n",
    "scheduler = torch.optim.lr_scheduler.ReduceLROnPlateau(optimizer, 'max', patience=2, factor=0.5, verbose=True)\n",
    "\n",
    "# Training loop with validation and early stopping\n",
    "num_epochs = 30\n",
    "patience = 5  # Early stopping patience\n",
    "\n",
    "train_model(sentimentRNNUpdatedEmbeddings,'rnn', num_epochs, optimizer, scheduler, criterion, patience, train_loader, val_loader, device)"
   ]
  },
  {
   "cell_type": "code",
   "execution_count": 53,
   "metadata": {},
   "outputs": [
    {
     "name": "stderr",
     "output_type": "stream",
     "text": [
      "C:\\Users\\zheng\\AppData\\Local\\Temp\\ipykernel_49844\\85543697.py:2: FutureWarning: You are using `torch.load` with `weights_only=False` (the current default value), which uses the default pickle module implicitly. It is possible to construct malicious pickle data which will execute arbitrary code during unpickling (See https://github.com/pytorch/pytorch/blob/main/SECURITY.md#untrusted-models for more details). In a future release, the default value for `weights_only` will be flipped to `True`. This limits the functions that could be executed during unpickling. Arbitrary objects will no longer be allowed to be loaded via this mode unless they are explicitly allowlisted by the user via `torch.serialization.add_safe_globals`. We recommend you start setting `weights_only=True` for any use case where you don't have full control of the loaded file. Please open an issue on GitHub for any issues related to this experimental feature.\n",
      "  sentimentRNNUpdatedEmbeddings.load_state_dict(torch.load('rnn_model.pt'))\n",
      "100%|██████████| 9/9 [00:00<00:00, 45.58it/s]"
     ]
    },
    {
     "name": "stdout",
     "output_type": "stream",
     "text": [
      "Accuracy Score on Test dataset: 0.7927\n"
     ]
    },
    {
     "name": "stderr",
     "output_type": "stream",
     "text": [
      "\n"
     ]
    }
   ],
   "source": [
    "# Load the best model and evaluate on the test set\n",
    "sentimentRNNUpdatedEmbeddings.load_state_dict(torch.load('rnn_model.pt'))\n",
    "test_model(sentimentRNNUpdatedEmbeddings,device, test_loader)"
   ]
  },
  {
   "cell_type": "markdown",
   "metadata": {},
   "source": [
    "## Part 3.3 biLSTM model and a biGRU model"
   ]
  },
  {
   "cell_type": "markdown",
   "metadata": {},
   "source": [
    "## Part 3.3.1 biLSTM Model"
   ]
  },
  {
   "cell_type": "code",
   "execution_count": 54,
   "metadata": {},
   "outputs": [],
   "source": [
    "class SentimentLSTM(nn.Module):\n",
    "    def __init__(self, embedding_matrix):\n",
    "        super(SentimentLSTM, self).__init__()\n",
    "        vocab_size, embedding_dim = embedding_matrix.shape\n",
    "        self.embedding = nn.Embedding.from_pretrained(torch.tensor(embedding_matrix, dtype=torch.float32), freeze= False)\n",
    "        self.lstm = nn.LSTM(embedding_dim, hidden_size=256, batch_first=True, bidirectional=True, num_layers=2, dropout=0.5)\n",
    "        self.fc1 = nn.Linear(512, 128)\n",
    "        self.fc2 = nn.Linear(128, 1)\n",
    "        self.dropout = nn.Dropout(0.3)\n",
    "        self.relu = nn.ReLU()\n",
    "    \n",
    "    def forward(self, x):\n",
    "        embeds = self.embedding(x)\n",
    "        lstm_out, (h_n, c_n) = self.lstm(embeds)\n",
    "\n",
    "        out, _ = torch.max(lstm_out, dim=1)\n",
    "        # Concatenate the final hidden states from both directions\n",
    "        # out = torch.cat((h_n[-2,:,:], h_n[-1,:,:]), dim=1)\n",
    "        \n",
    "        out = self.dropout(out)\n",
    "        out = self.relu(self.fc1(out))\n",
    "        out = self.dropout(out)\n",
    "        out = torch.sigmoid(self.fc2(out))\n",
    "        return out.squeeze()"
   ]
  },
  {
   "cell_type": "code",
   "execution_count": 55,
   "metadata": {},
   "outputs": [],
   "source": [
    "# Load the dataset\n",
    "dataset = load_dataset(\"rotten_tomatoes\")\n",
    "train_raw = dataset['train']\n",
    "validation_raw = dataset['validation']\n",
    "test_raw = dataset['test']\n",
    "\n",
    "# Build the vocabulary from training data\n",
    "vocabulary = set()\n",
    "for text in train_raw['text']:\n",
    "    tokens = word_tokenize(text.lower())\n",
    "    vocabulary.update(tokens)\n",
    "\n",
    "# Add special tokens\n",
    "vocabulary.add('<unk>')\n",
    "vocabulary.add('<pad>')\n",
    "\n",
    "# Create mappings between words and indices\n",
    "word2idx = {word: idx for idx, word in enumerate(vocabulary)}\n",
    "idx2word = {idx: word for word, idx in word2idx.items()}\n",
    "\n",
    "# Initialize the embedding matrix\n",
    "embedding_dim = 100  # Dimensionality of GloVe embeddings\n",
    "vocab_size = len(word2idx)\n",
    "embedding_matrix = np.random.uniform(-0.05, 0.05, (vocab_size, embedding_dim))\n",
    "\n",
    "# Load GloVe embeddings (ensure 'glove.6B.100d.txt' is in your working directory)\n",
    "glove_path = 'glove.6B.100d.txt'  # Update the path if necessary\n",
    "with open(glove_path, 'r', encoding='utf8') as f:\n",
    "    for line in f:\n",
    "        values = line.strip().split()\n",
    "        if len(values) == embedding_dim + 1:\n",
    "            word = values[0]\n",
    "            vector = np.asarray(values[1:], dtype='float32')\n",
    "            if word in word2idx:\n",
    "                idx = word2idx[word]\n",
    "                embedding_matrix[idx] = vector\n",
    "\n",
    "# Set the embedding for '<pad>' token to zeros\n",
    "pad_idx = word2idx['<pad>']\n",
    "embedding_matrix[pad_idx] = np.zeros(embedding_dim)"
   ]
  },
  {
   "cell_type": "code",
   "execution_count": 56,
   "metadata": {},
   "outputs": [
    {
     "name": "stderr",
     "output_type": "stream",
     "text": [
      "100%|██████████| 67/67 [00:03<00:00, 20.92it/s]\n",
      "100%|██████████| 9/9 [00:00<00:00, 41.21it/s]\n"
     ]
    },
    {
     "name": "stdout",
     "output_type": "stream",
     "text": [
      "Epoch [1/30], Training Loss: 0.6387, Validation Accuracy: 0.7176, Validation Loss: 0.6062, Best Val Loss: inf\n"
     ]
    },
    {
     "name": "stderr",
     "output_type": "stream",
     "text": [
      "100%|██████████| 67/67 [00:02<00:00, 22.71it/s]\n",
      "100%|██████████| 9/9 [00:00<00:00, 41.78it/s]\n"
     ]
    },
    {
     "name": "stdout",
     "output_type": "stream",
     "text": [
      "Epoch [2/30], Training Loss: 0.5010, Validation Accuracy: 0.7467, Validation Loss: 0.4979, Best Val Loss: 0.6062\n"
     ]
    },
    {
     "name": "stderr",
     "output_type": "stream",
     "text": [
      "100%|██████████| 67/67 [00:02<00:00, 23.07it/s]\n",
      "100%|██████████| 9/9 [00:00<00:00, 41.59it/s]\n"
     ]
    },
    {
     "name": "stdout",
     "output_type": "stream",
     "text": [
      "Epoch [3/30], Training Loss: 0.4094, Validation Accuracy: 0.7786, Validation Loss: 0.4754, Best Val Loss: 0.4979\n"
     ]
    },
    {
     "name": "stderr",
     "output_type": "stream",
     "text": [
      "100%|██████████| 67/67 [00:02<00:00, 23.33it/s]\n",
      "100%|██████████| 9/9 [00:00<00:00, 42.37it/s]\n"
     ]
    },
    {
     "name": "stdout",
     "output_type": "stream",
     "text": [
      "Epoch [4/30], Training Loss: 0.3290, Validation Accuracy: 0.7805, Validation Loss: 0.4637, Best Val Loss: 0.4754\n"
     ]
    },
    {
     "name": "stderr",
     "output_type": "stream",
     "text": [
      "100%|██████████| 67/67 [00:02<00:00, 23.36it/s]\n",
      "100%|██████████| 9/9 [00:00<00:00, 41.59it/s]\n"
     ]
    },
    {
     "name": "stdout",
     "output_type": "stream",
     "text": [
      "Epoch [5/30], Training Loss: 0.2581, Validation Accuracy: 0.7786, Validation Loss: 0.4776, Best Val Loss: 0.4637\n"
     ]
    },
    {
     "name": "stderr",
     "output_type": "stream",
     "text": [
      "100%|██████████| 67/67 [00:02<00:00, 23.65it/s]\n",
      "100%|██████████| 9/9 [00:00<00:00, 38.08it/s]\n"
     ]
    },
    {
     "name": "stdout",
     "output_type": "stream",
     "text": [
      "Epoch [6/30], Training Loss: 0.1903, Validation Accuracy: 0.7861, Validation Loss: 0.5519, Best Val Loss: 0.4637\n"
     ]
    },
    {
     "name": "stderr",
     "output_type": "stream",
     "text": [
      "100%|██████████| 67/67 [00:02<00:00, 22.69it/s]\n",
      "100%|██████████| 9/9 [00:00<00:00, 41.01it/s]\n"
     ]
    },
    {
     "name": "stdout",
     "output_type": "stream",
     "text": [
      "Epoch [7/30], Training Loss: 0.1412, Validation Accuracy: 0.7908, Validation Loss: 0.5864, Best Val Loss: 0.4637\n"
     ]
    },
    {
     "name": "stderr",
     "output_type": "stream",
     "text": [
      "100%|██████████| 67/67 [00:02<00:00, 23.21it/s]\n",
      "100%|██████████| 9/9 [00:00<00:00, 43.18it/s]\n"
     ]
    },
    {
     "name": "stdout",
     "output_type": "stream",
     "text": [
      "Epoch [8/30], Training Loss: 0.0947, Validation Accuracy: 0.7664, Validation Loss: 0.8523, Best Val Loss: 0.4637\n"
     ]
    },
    {
     "name": "stderr",
     "output_type": "stream",
     "text": [
      "100%|██████████| 67/67 [00:03<00:00, 21.54it/s]\n",
      "100%|██████████| 9/9 [00:00<00:00, 40.47it/s]\n"
     ]
    },
    {
     "name": "stdout",
     "output_type": "stream",
     "text": [
      "Epoch [9/30], Training Loss: 0.0573, Validation Accuracy: 0.7674, Validation Loss: 0.8585, Best Val Loss: 0.4637\n",
      "Early stopping!\n"
     ]
    },
    {
     "data": {
      "image/png": "[encoded data removed]",
      "text/plain": [
       "<Figure size 1000x500 with 1 Axes>"
      ]
     },
     "metadata": {},
     "output_type": "display_data"
    },
    {
     "data": {
      "text/plain": [
       "SentimentLSTM(\n",
       "  (embedding): Embedding(18031, 100)\n",
       "  (lstm): LSTM(100, 256, num_layers=2, batch_first=True, dropout=0.5, bidirectional=True)\n",
       "  (fc1): Linear(in_features=512, out_features=128, bias=True)\n",
       "  (fc2): Linear(in_features=128, out_features=1, bias=True)\n",
       "  (dropout): Dropout(p=0.3, inplace=False)\n",
       "  (relu): ReLU()\n",
       ")"
      ]
     },
     "execution_count": 56,
     "metadata": {},
     "output_type": "execute_result"
    }
   ],
   "source": [
    "# Instantiate the model\n",
    "biLSTM = SentimentLSTM(embedding_matrix)\n",
    "\n",
    "# Set device to GPU if available\n",
    "device = torch.device('cuda' if torch.cuda.is_available() else 'cpu')\n",
    "biLSTM.to(device)\n",
    "\n",
    "# Define loss function and optimizer\n",
    "criterion = nn.BCELoss()\n",
    "optimizer = torch.optim.Adam(biLSTM.parameters(), lr=0.001, weight_decay=1e-4)\n",
    "scheduler = torch.optim.lr_scheduler.ReduceLROnPlateau(optimizer, 'max', patience=2, factor=0.5, verbose=True)\n",
    "\n",
    "# Training loop with validation and early stopping\n",
    "num_epochs = 30\n",
    "patience = 5  # Early stopping patience\n",
    "\n",
    "train_model(biLSTM,'bilstm', num_epochs, optimizer, scheduler, criterion, patience, train_loader, val_loader, device)"
   ]
  },
  {
   "cell_type": "code",
   "execution_count": 57,
   "metadata": {},
   "outputs": [
    {
     "name": "stderr",
     "output_type": "stream",
     "text": [
      "C:\\Users\\zheng\\AppData\\Local\\Temp\\ipykernel_49844\\3829958270.py:2: FutureWarning: You are using `torch.load` with `weights_only=False` (the current default value), which uses the default pickle module implicitly. It is possible to construct malicious pickle data which will execute arbitrary code during unpickling (See https://github.com/pytorch/pytorch/blob/main/SECURITY.md#untrusted-models for more details). In a future release, the default value for `weights_only` will be flipped to `True`. This limits the functions that could be executed during unpickling. Arbitrary objects will no longer be allowed to be loaded via this mode unless they are explicitly allowlisted by the user via `torch.serialization.add_safe_globals`. We recommend you start setting `weights_only=True` for any use case where you don't have full control of the loaded file. Please open an issue on GitHub for any issues related to this experimental feature.\n",
      "  biLSTM.load_state_dict(torch.load('bilstm_model.pt'))\n",
      "100%|██████████| 9/9 [00:00<00:00, 32.23it/s]"
     ]
    },
    {
     "name": "stdout",
     "output_type": "stream",
     "text": [
      "Accuracy Score on Test dataset: 0.8011\n"
     ]
    },
    {
     "name": "stderr",
     "output_type": "stream",
     "text": [
      "\n"
     ]
    }
   ],
   "source": [
    "# Load the best model and evaluate on the test set\n",
    "biLSTM.load_state_dict(torch.load('bilstm_model.pt'))\n",
    "test_model(biLSTM,device, test_loader)"
   ]
  },
  {
   "cell_type": "markdown",
   "metadata": {},
   "source": [
    "## Part 3.3.2 biGRU Model"
   ]
  },
  {
   "cell_type": "code",
   "execution_count": 58,
   "metadata": {},
   "outputs": [],
   "source": [
    "class SentimentBiGRU(nn.Module):\n",
    "    def __init__(self, embedding_matrix):\n",
    "        super(SentimentBiGRU, self).__init__()\n",
    "        vocab_size, embedding_dim = embedding_matrix.shape\n",
    "        self.embedding = nn.Embedding.from_pretrained(torch.tensor(embedding_matrix, dtype=torch.float32), freeze=False)\n",
    "        self.gru = nn.GRU(embedding_dim, hidden_size=256, batch_first=True, bidirectional=True, num_layers=2, dropout=0.5)\n",
    "        self.fc1 = nn.Linear(512, 128)\n",
    "        self.fc2 = nn.Linear(128, 1)\n",
    "        self.dropout = nn.Dropout(0.3)\n",
    "        self.relu = nn.ReLU()\n",
    "    \n",
    "    def forward(self, x):\n",
    "        embeds = self.embedding(x)\n",
    "        gru_out, h_n = self.gru(embeds)\n",
    "        \n",
    "        # Concatenate the final hidden states from both directions\n",
    "        out = torch.cat((h_n[-2,:,:], h_n[-1,:,:]), dim=1)\n",
    "        \n",
    "        out = self.dropout(out)\n",
    "        out = self.relu(self.fc1(out))\n",
    "        out = self.dropout(out)\n",
    "        out = torch.sigmoid(self.fc2(out))\n",
    "        return out.squeeze()"
   ]
  },
  {
   "cell_type": "code",
   "execution_count": 59,
   "metadata": {},
   "outputs": [],
   "source": [
    "# Load the dataset\n",
    "dataset = load_dataset(\"rotten_tomatoes\")\n",
    "train_raw = dataset['train']\n",
    "validation_raw = dataset['validation']\n",
    "test_raw = dataset['test']\n",
    "\n",
    "# Build the vocabulary from training data\n",
    "vocabulary = set()\n",
    "for text in train_raw['text']:\n",
    "    tokens = word_tokenize(text.lower())\n",
    "    vocabulary.update(tokens)\n",
    "\n",
    "# Add special tokens\n",
    "vocabulary.add('<unk>')\n",
    "vocabulary.add('<pad>')\n",
    "\n",
    "# Create mappings between words and indices\n",
    "word2idx = {word: idx for idx, word in enumerate(vocabulary)}\n",
    "idx2word = {idx: word for word, idx in word2idx.items()}\n",
    "\n",
    "# Initialize the embedding matrix\n",
    "embedding_dim = 100  # Dimensionality of GloVe embeddings\n",
    "vocab_size = len(word2idx)\n",
    "embedding_matrix = np.random.uniform(-0.05, 0.05, (vocab_size, embedding_dim))\n",
    "\n",
    "# Load GloVe embeddings (ensure 'glove.6B.100d.txt' is in your working directory)\n",
    "glove_path = 'glove.6B.100d.txt'  # Update the path if necessary\n",
    "with open(glove_path, 'r', encoding='utf8') as f:\n",
    "    for line in f:\n",
    "        values = line.strip().split()\n",
    "        if len(values) == embedding_dim + 1:\n",
    "            word = values[0]\n",
    "            vector = np.asarray(values[1:], dtype='float32')\n",
    "            if word in word2idx:\n",
    "                idx = word2idx[word]\n",
    "                embedding_matrix[idx] = vector\n",
    "\n",
    "# Set the embedding for '<pad>' token to zeros\n",
    "pad_idx = word2idx['<pad>']\n",
    "embedding_matrix[pad_idx] = np.zeros(embedding_dim)"
   ]
  },
  {
   "cell_type": "code",
   "execution_count": 60,
   "metadata": {},
   "outputs": [
    {
     "name": "stderr",
     "output_type": "stream",
     "text": [
      "100%|██████████| 67/67 [00:03<00:00, 21.08it/s]\n",
      "100%|██████████| 9/9 [00:00<00:00, 42.58it/s]\n"
     ]
    },
    {
     "name": "stdout",
     "output_type": "stream",
     "text": [
      "Epoch [1/30], Training Loss: 0.6365, Validation Accuracy: 0.6998, Validation Loss: 0.6009, Best Val Loss: inf\n"
     ]
    },
    {
     "name": "stderr",
     "output_type": "stream",
     "text": [
      "100%|██████████| 67/67 [00:02<00:00, 22.56it/s]\n",
      "100%|██████████| 9/9 [00:00<00:00, 39.93it/s]\n"
     ]
    },
    {
     "name": "stdout",
     "output_type": "stream",
     "text": [
      "Epoch [2/30], Training Loss: 0.5363, Validation Accuracy: 0.7392, Validation Loss: 0.5230, Best Val Loss: 0.6009\n"
     ]
    },
    {
     "name": "stderr",
     "output_type": "stream",
     "text": [
      "100%|██████████| 67/67 [00:02<00:00, 23.23it/s]\n",
      "100%|██████████| 9/9 [00:00<00:00, 35.25it/s]\n"
     ]
    },
    {
     "name": "stdout",
     "output_type": "stream",
     "text": [
      "Epoch [3/30], Training Loss: 0.4197, Validation Accuracy: 0.7692, Validation Loss: 0.4879, Best Val Loss: 0.5230\n"
     ]
    },
    {
     "name": "stderr",
     "output_type": "stream",
     "text": [
      "100%|██████████| 67/67 [00:03<00:00, 20.19it/s]\n",
      "100%|██████████| 9/9 [00:00<00:00, 35.95it/s]\n"
     ]
    },
    {
     "name": "stdout",
     "output_type": "stream",
     "text": [
      "Epoch [4/30], Training Loss: 0.3318, Validation Accuracy: 0.7608, Validation Loss: 0.5434, Best Val Loss: 0.4879\n"
     ]
    },
    {
     "name": "stderr",
     "output_type": "stream",
     "text": [
      "100%|██████████| 67/67 [00:02<00:00, 22.45it/s]\n",
      "100%|██████████| 9/9 [00:00<00:00, 37.14it/s]\n"
     ]
    },
    {
     "name": "stdout",
     "output_type": "stream",
     "text": [
      "Epoch [5/30], Training Loss: 0.2373, Validation Accuracy: 0.7758, Validation Loss: 0.5227, Best Val Loss: 0.4879\n"
     ]
    },
    {
     "name": "stderr",
     "output_type": "stream",
     "text": [
      "100%|██████████| 67/67 [00:02<00:00, 22.94it/s]\n",
      "100%|██████████| 9/9 [00:00<00:00, 38.56it/s]\n"
     ]
    },
    {
     "name": "stdout",
     "output_type": "stream",
     "text": [
      "Epoch [6/30], Training Loss: 0.1660, Validation Accuracy: 0.7514, Validation Loss: 0.6445, Best Val Loss: 0.4879\n"
     ]
    },
    {
     "name": "stderr",
     "output_type": "stream",
     "text": [
      "100%|██████████| 67/67 [00:02<00:00, 23.04it/s]\n",
      "100%|██████████| 9/9 [00:00<00:00, 40.11it/s]\n"
     ]
    },
    {
     "name": "stdout",
     "output_type": "stream",
     "text": [
      "Epoch [7/30], Training Loss: 0.1198, Validation Accuracy: 0.7702, Validation Loss: 0.7574, Best Val Loss: 0.4879\n"
     ]
    },
    {
     "name": "stderr",
     "output_type": "stream",
     "text": [
      "100%|██████████| 67/67 [00:03<00:00, 22.08it/s]\n",
      "100%|██████████| 9/9 [00:00<00:00, 35.39it/s]\n"
     ]
    },
    {
     "name": "stdout",
     "output_type": "stream",
     "text": [
      "Epoch [8/30], Training Loss: 0.0820, Validation Accuracy: 0.7739, Validation Loss: 0.8200, Best Val Loss: 0.4879\n",
      "Early stopping!\n"
     ]
    },
    {
     "data": {
      "image/png": "[encoded data removed]",
      "text/plain": [
       "<Figure size 1000x500 with 1 Axes>"
      ]
     },
     "metadata": {},
     "output_type": "display_data"
    },
    {
     "data": {
      "text/plain": [
       "SentimentBiGRU(\n",
       "  (embedding): Embedding(18031, 100)\n",
       "  (gru): GRU(100, 256, num_layers=2, batch_first=True, dropout=0.5, bidirectional=True)\n",
       "  (fc1): Linear(in_features=512, out_features=128, bias=True)\n",
       "  (fc2): Linear(in_features=128, out_features=1, bias=True)\n",
       "  (dropout): Dropout(p=0.3, inplace=False)\n",
       "  (relu): ReLU()\n",
       ")"
      ]
     },
     "execution_count": 60,
     "metadata": {},
     "output_type": "execute_result"
    }
   ],
   "source": [
    "# Instantiate the model\n",
    "biGRU_model = SentimentBiGRU(embedding_matrix)\n",
    "\n",
    "# Set device to GPU if available\n",
    "device = torch.device('cuda' if torch.cuda.is_available() else 'cpu')\n",
    "biGRU_model.to(device)\n",
    "\n",
    "# Define loss function and optimizer\n",
    "criterion = nn.BCELoss()\n",
    "optimizer = torch.optim.Adam(biGRU_model.parameters(), lr=0.001, weight_decay=1e-4)\n",
    "scheduler = torch.optim.lr_scheduler.ReduceLROnPlateau(optimizer, 'max', patience=2, factor=0.5, verbose=True)\n",
    "\n",
    "# Training loop with validation and early stopping\n",
    "num_epochs = 30\n",
    "patience = 5  # Early stopping patience\n",
    "\n",
    "train_model(biGRU_model,'bigru', num_epochs, optimizer, scheduler, criterion, patience, train_loader, val_loader, device)"
   ]
  },
  {
   "cell_type": "code",
   "execution_count": 61,
   "metadata": {},
   "outputs": [
    {
     "name": "stderr",
     "output_type": "stream",
     "text": [
      "C:\\Users\\zheng\\AppData\\Local\\Temp\\ipykernel_49844\\992514502.py:2: FutureWarning: You are using `torch.load` with `weights_only=False` (the current default value), which uses the default pickle module implicitly. It is possible to construct malicious pickle data which will execute arbitrary code during unpickling (See https://github.com/pytorch/pytorch/blob/main/SECURITY.md#untrusted-models for more details). In a future release, the default value for `weights_only` will be flipped to `True`. This limits the functions that could be executed during unpickling. Arbitrary objects will no longer be allowed to be loaded via this mode unless they are explicitly allowlisted by the user via `torch.serialization.add_safe_globals`. We recommend you start setting `weights_only=True` for any use case where you don't have full control of the loaded file. Please open an issue on GitHub for any issues related to this experimental feature.\n",
      "  biGRU_model.load_state_dict(torch.load('bigru_model.pt'))\n",
      "100%|██████████| 9/9 [00:00<00:00, 29.49it/s]"
     ]
    },
    {
     "name": "stdout",
     "output_type": "stream",
     "text": [
      "Accuracy Score on Test dataset: 0.7880\n"
     ]
    },
    {
     "name": "stderr",
     "output_type": "stream",
     "text": [
      "\n"
     ]
    }
   ],
   "source": [
    "# Load the best model and evaluate on the test set\n",
    "biGRU_model.load_state_dict(torch.load('bigru_model.pt'))\n",
    "test_model(biGRU_model,device, test_loader)"
   ]
  },
  {
   "cell_type": "code",
   "execution_count": null,
   "metadata": {},
   "outputs": [],
   "source": []
  },
  {
   "cell_type": "markdown",
   "metadata": {},
   "source": [
    "## Part 3.4 Convolutional Neural Network"
   ]
  },
  {
   "cell_type": "code",
   "execution_count": 62,
   "metadata": {},
   "outputs": [],
   "source": [
    "class SentimentCNN(nn.Module):\n",
    "    def __init__(self, embedding_matrix):\n",
    "        super(SentimentCNN, self).__init__()\n",
    "        vocab_size, embedding_dim = embedding_matrix.shape\n",
    "        self.embedding = nn.Embedding.from_pretrained(torch.tensor(embedding_matrix, dtype=torch.float32), freeze=False)\n",
    "        \n",
    "        # 1D Convolution layers to capture local features\n",
    "        self.conv1 = nn.Conv1d(in_channels=embedding_dim, out_channels=256, kernel_size=3, padding=1)\n",
    "        self.conv2 = nn.Conv1d(in_channels=256, out_channels=128, kernel_size=3, padding=1)\n",
    "        \n",
    "        # Fully connected layers\n",
    "        self.fc1 = nn.Linear(128, 128)\n",
    "        self.fc2 = nn.Linear(128, 1)\n",
    "        \n",
    "        # Other layers\n",
    "        self.dropout = nn.Dropout(0.3)\n",
    "        self.relu = nn.ReLU()\n",
    "\n",
    "    def forward(self, x):\n",
    "        # Input: (batch_size, sequence_length)\n",
    "        embeds = self.embedding(x)  # (batch_size, sequence_length, embedding_dim)\n",
    "        \n",
    "        # Convolution expects input with shape (batch_size, embedding_dim, sequence_length)\n",
    "        embeds = embeds.permute(0, 2, 1)\n",
    "        \n",
    "        # Apply convolution layers and ReLU activation\n",
    "        conv_out = self.relu(self.conv1(embeds))  # (batch_size, 256, sequence_length)\n",
    "        conv_out = self.relu(self.conv2(conv_out))  # (batch_size, 128, sequence_length)\n",
    "        \n",
    "        # Global Max Pooling (to reduce the sequence length dimension)\n",
    "        pooled_out = torch.max(conv_out, dim=2)[0]  # (batch_size, 128)\n",
    "        \n",
    "        # Fully connected layers with dropout and ReLU\n",
    "        out = self.dropout(pooled_out)\n",
    "        out = self.relu(self.fc1(out))\n",
    "        out = self.dropout(out)\n",
    "        \n",
    "        # Sigmoid activation for binary classification\n",
    "        out = torch.sigmoid(self.fc2(out))\n",
    "        return out.squeeze()\n"
   ]
  },
  {
   "cell_type": "code",
   "execution_count": 63,
   "metadata": {},
   "outputs": [],
   "source": [
    "# Load the dataset\n",
    "dataset = load_dataset(\"rotten_tomatoes\")\n",
    "train_raw = dataset['train']\n",
    "validation_raw = dataset['validation']\n",
    "test_raw = dataset['test']\n",
    "\n",
    "# Build the vocabulary from training data\n",
    "vocabulary = set()\n",
    "for text in train_raw['text']:\n",
    "    tokens = word_tokenize(text.lower())\n",
    "    vocabulary.update(tokens)\n",
    "\n",
    "# Add special tokens\n",
    "vocabulary.add('<unk>')\n",
    "vocabulary.add('<pad>')\n",
    "\n",
    "# Create mappings between words and indices\n",
    "word2idx = {word: idx for idx, word in enumerate(vocabulary)}\n",
    "idx2word = {idx: word for word, idx in word2idx.items()}\n",
    "\n",
    "# Initialize the embedding matrix\n",
    "embedding_dim = 100  # Dimensionality of GloVe embeddings\n",
    "vocab_size = len(word2idx)\n",
    "embedding_matrix = np.random.uniform(-0.05, 0.05, (vocab_size, embedding_dim))\n",
    "\n",
    "# Load GloVe embeddings (ensure 'glove.6B.100d.txt' is in your working directory)\n",
    "glove_path = 'glove.6B.100d.txt'  # Update the path if necessary\n",
    "with open(glove_path, 'r', encoding='utf8') as f:\n",
    "    for line in f:\n",
    "        values = line.strip().split()\n",
    "        if len(values) == embedding_dim + 1:\n",
    "            word = values[0]\n",
    "            vector = np.asarray(values[1:], dtype='float32')\n",
    "            if word in word2idx:\n",
    "                idx = word2idx[word]\n",
    "                embedding_matrix[idx] = vector\n",
    "\n",
    "# Set the embedding for '<pad>' token to zeros\n",
    "pad_idx = word2idx['<pad>']\n",
    "embedding_matrix[pad_idx] = np.zeros(embedding_dim)"
   ]
  },
  {
   "cell_type": "code",
   "execution_count": 64,
   "metadata": {},
   "outputs": [
    {
     "name": "stderr",
     "output_type": "stream",
     "text": [
      "100%|██████████| 67/67 [00:02<00:00, 28.11it/s]\n",
      "100%|██████████| 9/9 [00:00<00:00, 54.04it/s]\n"
     ]
    },
    {
     "name": "stdout",
     "output_type": "stream",
     "text": [
      "Epoch [1/30], Training Loss: 0.6457, Validation Accuracy: 0.7111, Validation Loss: 0.5529, Best Val Loss: inf\n"
     ]
    },
    {
     "name": "stderr",
     "output_type": "stream",
     "text": [
      "100%|██████████| 67/67 [00:01<00:00, 39.88it/s]\n",
      "100%|██████████| 9/9 [00:00<00:00, 56.53it/s]\n"
     ]
    },
    {
     "name": "stdout",
     "output_type": "stream",
     "text": [
      "Epoch [2/30], Training Loss: 0.5028, Validation Accuracy: 0.7186, Validation Loss: 0.5900, Best Val Loss: 0.5529\n"
     ]
    },
    {
     "name": "stderr",
     "output_type": "stream",
     "text": [
      "100%|██████████| 67/67 [00:01<00:00, 37.44it/s]\n",
      "100%|██████████| 9/9 [00:00<00:00, 49.04it/s]\n"
     ]
    },
    {
     "name": "stdout",
     "output_type": "stream",
     "text": [
      "Epoch [3/30], Training Loss: 0.4147, Validation Accuracy: 0.7786, Validation Loss: 0.4868, Best Val Loss: 0.5529\n"
     ]
    },
    {
     "name": "stderr",
     "output_type": "stream",
     "text": [
      "100%|██████████| 67/67 [00:01<00:00, 36.68it/s]\n",
      "100%|██████████| 9/9 [00:00<00:00, 53.08it/s]\n"
     ]
    },
    {
     "name": "stdout",
     "output_type": "stream",
     "text": [
      "Epoch [4/30], Training Loss: 0.3206, Validation Accuracy: 0.7880, Validation Loss: 0.4967, Best Val Loss: 0.4868\n"
     ]
    },
    {
     "name": "stderr",
     "output_type": "stream",
     "text": [
      "100%|██████████| 67/67 [00:01<00:00, 35.69it/s]\n",
      "100%|██████████| 9/9 [00:00<00:00, 54.69it/s]\n"
     ]
    },
    {
     "name": "stdout",
     "output_type": "stream",
     "text": [
      "Epoch [5/30], Training Loss: 0.2260, Validation Accuracy: 0.7805, Validation Loss: 0.5714, Best Val Loss: 0.4868\n"
     ]
    },
    {
     "name": "stderr",
     "output_type": "stream",
     "text": [
      "100%|██████████| 67/67 [00:02<00:00, 33.34it/s]\n",
      "100%|██████████| 9/9 [00:00<00:00, 50.41it/s]\n"
     ]
    },
    {
     "name": "stdout",
     "output_type": "stream",
     "text": [
      "Epoch [6/30], Training Loss: 0.1396, Validation Accuracy: 0.7758, Validation Loss: 0.6673, Best Val Loss: 0.4868\n"
     ]
    },
    {
     "name": "stderr",
     "output_type": "stream",
     "text": [
      "100%|██████████| 67/67 [00:01<00:00, 34.30it/s]\n",
      "100%|██████████| 9/9 [00:00<00:00, 53.08it/s]\n"
     ]
    },
    {
     "name": "stdout",
     "output_type": "stream",
     "text": [
      "Epoch [7/30], Training Loss: 0.0772, Validation Accuracy: 0.7627, Validation Loss: 0.8731, Best Val Loss: 0.4868\n"
     ]
    },
    {
     "name": "stderr",
     "output_type": "stream",
     "text": [
      "100%|██████████| 67/67 [00:01<00:00, 33.95it/s]\n",
      "100%|██████████| 9/9 [00:00<00:00, 51.27it/s]\n"
     ]
    },
    {
     "name": "stdout",
     "output_type": "stream",
     "text": [
      "Epoch [8/30], Training Loss: 0.0419, Validation Accuracy: 0.7598, Validation Loss: 1.0270, Best Val Loss: 0.4868\n",
      "Early stopping!\n"
     ]
    },
    {
     "data": {
      "image/png": "[encoded data removed]",
      "text/plain": [
       "<Figure size 1000x500 with 1 Axes>"
      ]
     },
     "metadata": {},
     "output_type": "display_data"
    },
    {
     "data": {
      "text/plain": [
       "SentimentCNN(\n",
       "  (embedding): Embedding(18031, 100)\n",
       "  (conv1): Conv1d(100, 256, kernel_size=(3,), stride=(1,), padding=(1,))\n",
       "  (conv2): Conv1d(256, 128, kernel_size=(3,), stride=(1,), padding=(1,))\n",
       "  (fc1): Linear(in_features=128, out_features=128, bias=True)\n",
       "  (fc2): Linear(in_features=128, out_features=1, bias=True)\n",
       "  (dropout): Dropout(p=0.3, inplace=False)\n",
       "  (relu): ReLU()\n",
       ")"
      ]
     },
     "execution_count": 64,
     "metadata": {},
     "output_type": "execute_result"
    }
   ],
   "source": [
    "# Instantiate the model\n",
    "cnn_model = SentimentCNN(embedding_matrix)\n",
    "\n",
    "# Set device to GPU if available\n",
    "device = torch.device('cuda' if torch.cuda.is_available() else 'cpu')\n",
    "cnn_model.to(device)\n",
    "\n",
    "# Define loss function and optimizer\n",
    "criterion = nn.BCELoss()\n",
    "optimizer = torch.optim.Adam(cnn_model.parameters(), lr=0.001, weight_decay=1e-4)\n",
    "scheduler = torch.optim.lr_scheduler.ReduceLROnPlateau(optimizer, 'max', patience=2, factor=0.5, verbose=True)\n",
    "\n",
    "# Training loop with validation and early stopping\n",
    "num_epochs = 30\n",
    "patience = 5  # Early stopping patience\n",
    "\n",
    "train_model(cnn_model,'cnn', num_epochs, optimizer, scheduler, criterion, patience, train_loader, val_loader, device)"
   ]
  },
  {
   "cell_type": "code",
   "execution_count": 65,
   "metadata": {},
   "outputs": [
    {
     "name": "stderr",
     "output_type": "stream",
     "text": [
      "C:\\Users\\zheng\\AppData\\Local\\Temp\\ipykernel_49844\\3531505752.py:2: FutureWarning: You are using `torch.load` with `weights_only=False` (the current default value), which uses the default pickle module implicitly. It is possible to construct malicious pickle data which will execute arbitrary code during unpickling (See https://github.com/pytorch/pytorch/blob/main/SECURITY.md#untrusted-models for more details). In a future release, the default value for `weights_only` will be flipped to `True`. This limits the functions that could be executed during unpickling. Arbitrary objects will no longer be allowed to be loaded via this mode unless they are explicitly allowlisted by the user via `torch.serialization.add_safe_globals`. We recommend you start setting `weights_only=True` for any use case where you don't have full control of the loaded file. Please open an issue on GitHub for any issues related to this experimental feature.\n",
      "  cnn_model.load_state_dict(torch.load('cnn_model.pt'))\n",
      "100%|██████████| 9/9 [00:00<00:00, 45.58it/s]"
     ]
    },
    {
     "name": "stdout",
     "output_type": "stream",
     "text": [
      "Accuracy Score on Test dataset: 0.7917\n"
     ]
    },
    {
     "name": "stderr",
     "output_type": "stream",
     "text": [
      "\n"
     ]
    }
   ],
   "source": [
    "# Load the best model and evaluate on the test set\n",
    "cnn_model.load_state_dict(torch.load('cnn_model.pt'))\n",
    "test_model(cnn_model,device, test_loader)"
   ]
  },
  {
   "cell_type": "code",
   "execution_count": null,
   "metadata": {},
   "outputs": [],
   "source": []
  },
  {
   "cell_type": "markdown",
   "metadata": {},
   "source": [
    "#"
   ]
  },
  {
   "cell_type": "markdown",
   "metadata": {},
   "source": [
    "## Part 3.5 Improve Model"
   ]
  },
  {
   "cell_type": "markdown",
   "metadata": {},
   "source": [
    "### Part 3.5.1 Improvement Strategy 1: BERT"
   ]
  },
  {
   "cell_type": "code",
   "execution_count": 66,
   "metadata": {},
   "outputs": [
    {
     "name": "stderr",
     "output_type": "stream",
     "text": [
      "[nltk_data] Downloading package punkt to\n",
      "[nltk_data]     C:\\Users\\zheng\\AppData\\Roaming\\nltk_data...\n",
      "[nltk_data]   Package punkt is already up-to-date!\n"
     ]
    }
   ],
   "source": [
    "nltk.download('punkt')\n",
    "\n",
    "# Set random seeds for reproducibility\n",
    "def set_seed(seed=42):\n",
    "    random.seed(seed)\n",
    "    np.random.seed(seed)\n",
    "    torch.manual_seed(seed)\n",
    "    torch.cuda.manual_seed_all(seed)\n",
    "\n",
    "set_seed()"
   ]
  },
  {
   "cell_type": "code",
   "execution_count": 67,
   "metadata": {},
   "outputs": [
    {
     "name": "stdout",
     "output_type": "stream",
     "text": [
      "Using device: cuda\n"
     ]
    }
   ],
   "source": [
    "# Check device\n",
    "device = torch.device('cuda' if torch.cuda.is_available() else 'cpu')\n",
    "print(f'Using device: {device}')"
   ]
  },
  {
   "cell_type": "code",
   "execution_count": 68,
   "metadata": {},
   "outputs": [],
   "source": [
    "# Load the dataset\n",
    "dataset = load_dataset(\"rotten_tomatoes\")\n",
    "train_raw = dataset['train']\n",
    "validation_raw = dataset['validation']\n",
    "test_raw = dataset['test']"
   ]
  },
  {
   "cell_type": "code",
   "execution_count": 69,
   "metadata": {},
   "outputs": [],
   "source": [
    "# Initialize BERT tokenizer\n",
    "tokenizer = BertTokenizer.from_pretrained('bert-base-uncased')\n",
    "\n",
    "# Define maximum sequence length\n",
    "MAX_LEN = 128\n",
    "\n",
    "# Define the custom Dataset class for BERT\n",
    "class BERTSentimentDataset(Dataset):\n",
    "    def __init__(self, texts, labels, tokenizer, max_len):\n",
    "        self.texts = texts\n",
    "        self.labels = labels\n",
    "        self.tokenizer = tokenizer\n",
    "        self.max_len = max_len\n",
    "\n",
    "    def __len__(self):\n",
    "        return len(self.texts)\n",
    "\n",
    "    def __getitem__(self, idx):\n",
    "        text = str(self.texts[idx])\n",
    "        label = self.labels[idx]\n",
    "\n",
    "        encoding = self.tokenizer.encode_plus(\n",
    "            text,\n",
    "            add_special_tokens=True,\n",
    "            max_length=self.max_len,\n",
    "            padding='max_length',\n",
    "            truncation=True,\n",
    "            return_attention_mask=True,\n",
    "            return_tensors='pt',\n",
    "        )\n",
    "\n",
    "        input_ids = encoding['input_ids'].flatten()\n",
    "        attention_mask = encoding['attention_mask'].flatten()\n",
    "\n",
    "        return {\n",
    "            'input_ids': input_ids,\n",
    "            'attention_mask': attention_mask,\n",
    "            'labels': torch.tensor(label, dtype=torch.float)\n",
    "        }"
   ]
  },
  {
   "cell_type": "code",
   "execution_count": 70,
   "metadata": {},
   "outputs": [],
   "source": [
    "# Create datasets for training, validation, and testing\n",
    "train_dataset = BERTSentimentDataset(\n",
    "    texts=train_raw['text'],\n",
    "    labels=train_raw['label'],\n",
    "    tokenizer=tokenizer,\n",
    "    max_len=MAX_LEN\n",
    ")\n",
    "\n",
    "val_dataset = BERTSentimentDataset(\n",
    "    texts=validation_raw['text'],\n",
    "    labels=validation_raw['label'],\n",
    "    tokenizer=tokenizer,\n",
    "    max_len=MAX_LEN\n",
    ")\n",
    "\n",
    "test_dataset = BERTSentimentDataset(\n",
    "    texts=test_raw['text'],\n",
    "    labels=test_raw['label'],\n",
    "    tokenizer=tokenizer,\n",
    "    max_len=MAX_LEN\n",
    ")"
   ]
  },
  {
   "cell_type": "code",
   "execution_count": 71,
   "metadata": {},
   "outputs": [
    {
     "name": "stderr",
     "output_type": "stream",
     "text": [
      "Some weights of BertForSequenceClassification were not initialized from the model checkpoint at bert-base-uncased and are newly initialized: ['classifier.bias', 'classifier.weight']\n",
      "You should probably TRAIN this model on a down-stream task to be able to use it for predictions and inference.\n",
      "c:\\Users\\zheng\\anaconda3\\envs\\nlp2\\Lib\\site-packages\\transformers\\optimization.py:591: FutureWarning: This implementation of AdamW is deprecated and will be removed in a future version. Use the PyTorch implementation torch.optim.AdamW instead, or set `no_deprecation_warning=True` to disable this warning\n",
      "  warnings.warn(\n"
     ]
    }
   ],
   "source": [
    "# Define the DataLoaders\n",
    "batch_size = 32\n",
    "\n",
    "train_loader = DataLoader(train_dataset, batch_size=batch_size, shuffle=True)\n",
    "val_loader = DataLoader(val_dataset, batch_size=batch_size, shuffle=False)\n",
    "test_loader = DataLoader(test_dataset, batch_size=batch_size, shuffle=False)\n",
    "\n",
    "# Load pre-trained BERT model for sequence classification\n",
    "model = BertForSequenceClassification.from_pretrained(\n",
    "    'bert-base-uncased',\n",
    "    num_labels=1,  # Binary classification\n",
    "    output_attentions=False,\n",
    "    output_hidden_states=False\n",
    ")\n",
    "\n",
    "model.to(device)\n",
    "\n",
    "# Define optimizer with weight decay\n",
    "optimizer = AdamW(model.parameters(), lr=2e-5, eps=1e-8)\n",
    "\n",
    "# Total number of training steps\n",
    "total_steps = len(train_loader) * 10  # Assuming 10 epochs\n",
    "\n",
    "# Create the learning rate scheduler with warm-up\n",
    "scheduler = get_linear_schedule_with_warmup(\n",
    "    optimizer,\n",
    "    num_warmup_steps=0,\n",
    "    num_training_steps=total_steps\n",
    ")\n",
    "\n",
    "# Define loss function\n",
    "criterion = torch.nn.BCEWithLogitsLoss()"
   ]
  },
  {
   "cell_type": "code",
   "execution_count": 72,
   "metadata": {},
   "outputs": [],
   "source": [
    "# Function to calculate metrics\n",
    "def bert_evaluate(model, data_loader):\n",
    "    model.eval()\n",
    "    predictions = []\n",
    "    true_labels = []\n",
    "\n",
    "    with torch.no_grad():\n",
    "        for batch in data_loader:\n",
    "            input_ids = batch['input_ids'].to(device)\n",
    "            attention_mask = batch['attention_mask'].to(device)\n",
    "            labels = batch['labels'].to(device)\n",
    "\n",
    "            outputs = model(input_ids=input_ids, attention_mask=attention_mask)\n",
    "            logits = outputs.logits.squeeze()\n",
    "            preds = torch.sigmoid(logits)\n",
    "            predictions.extend(preds.cpu().numpy())\n",
    "            true_labels.extend(labels.cpu().numpy())\n",
    "\n",
    "    # Convert predictions to binary\n",
    "    binary_preds = [1 if p >= 0.5 else 0 for p in predictions]\n",
    "\n",
    "    acc = accuracy_score(true_labels, binary_preds)\n",
    "    f1 = f1_score(true_labels, binary_preds)\n",
    "\n",
    "    return acc, f1"
   ]
  },
  {
   "cell_type": "code",
   "execution_count": 73,
   "metadata": {},
   "outputs": [
    {
     "name": "stdout",
     "output_type": "stream",
     "text": [
      "Epoch 1/10\n",
      "Training Loss: 0.4092\n",
      "Validation Accuracy: 0.8527\n",
      "Validation F1 Score: 0.8542\n",
      "Validation F1 improved, saving model.\n",
      "Epoch 2/10\n",
      "Training Loss: 0.2156\n",
      "Validation Accuracy: 0.8537\n",
      "Validation F1 Score: 0.8582\n",
      "Validation F1 improved, saving model.\n",
      "Epoch 3/10\n",
      "Training Loss: 0.1167\n",
      "Validation Accuracy: 0.8687\n",
      "Validation F1 Score: 0.8699\n",
      "Validation F1 improved, saving model.\n",
      "Epoch 4/10\n",
      "Training Loss: 0.0673\n",
      "Validation Accuracy: 0.8602\n",
      "Validation F1 Score: 0.8637\n",
      "No improvement in validation F1 for 1 epoch(s).\n",
      "Epoch 5/10\n",
      "Training Loss: 0.0377\n",
      "Validation Accuracy: 0.8687\n",
      "Validation F1 Score: 0.8708\n",
      "Validation F1 improved, saving model.\n",
      "Epoch 6/10\n",
      "Training Loss: 0.0209\n",
      "Validation Accuracy: 0.8602\n",
      "Validation F1 Score: 0.8634\n",
      "No improvement in validation F1 for 1 epoch(s).\n",
      "Epoch 7/10\n",
      "Training Loss: 0.0094\n",
      "Validation Accuracy: 0.8687\n",
      "Validation F1 Score: 0.8672\n",
      "No improvement in validation F1 for 2 epoch(s).\n",
      "Epoch 8/10\n",
      "Training Loss: 0.0100\n",
      "Validation Accuracy: 0.8668\n",
      "Validation F1 Score: 0.8675\n",
      "No improvement in validation F1 for 3 epoch(s).\n",
      "Early stopping triggered!\n"
     ]
    },
    {
     "name": "stderr",
     "output_type": "stream",
     "text": [
      "C:\\Users\\zheng\\AppData\\Local\\Temp\\ipykernel_49844\\2881863280.py:57: FutureWarning: You are using `torch.load` with `weights_only=False` (the current default value), which uses the default pickle module implicitly. It is possible to construct malicious pickle data which will execute arbitrary code during unpickling (See https://github.com/pytorch/pytorch/blob/main/SECURITY.md#untrusted-models for more details). In a future release, the default value for `weights_only` will be flipped to `True`. This limits the functions that could be executed during unpickling. Arbitrary objects will no longer be allowed to be loaded via this mode unless they are explicitly allowlisted by the user via `torch.serialization.add_safe_globals`. We recommend you start setting `weights_only=True` for any use case where you don't have full control of the loaded file. Please open an issue on GitHub for any issues related to this experimental feature.\n",
      "  model.load_state_dict(torch.load(best_model_path))\n"
     ]
    },
    {
     "name": "stdout",
     "output_type": "stream",
     "text": [
      "\n",
      "Test Accuracy: 0.8443\n",
      "Test F1 Score: 0.8446\n"
     ]
    }
   ],
   "source": [
    "# Training loop with validation and early stopping\n",
    "num_epochs = 10\n",
    "patience = 3\n",
    "best_val_f1 = 0\n",
    "epochs_no_improve = 0\n",
    "best_model_path = 'best_bert_model.pt'\n",
    "\n",
    "for epoch in range(num_epochs):\n",
    "    model.train()\n",
    "    total_loss = 0\n",
    "\n",
    "    for batch in train_loader:\n",
    "        optimizer.zero_grad()\n",
    "\n",
    "        input_ids = batch['input_ids'].to(device)\n",
    "        attention_mask = batch['attention_mask'].to(device)\n",
    "        labels = batch['labels'].to(device)\n",
    "\n",
    "        outputs = model(input_ids=input_ids, attention_mask=attention_mask)\n",
    "        logits = outputs.logits.squeeze()\n",
    "\n",
    "        loss = criterion(logits, labels)\n",
    "        total_loss += loss.item()\n",
    "\n",
    "        loss.backward()\n",
    "\n",
    "        # Gradient clipping\n",
    "        torch.nn.utils.clip_grad_norm_(model.parameters(), max_norm=1.0)\n",
    "\n",
    "        optimizer.step()\n",
    "        scheduler.step()\n",
    "\n",
    "    avg_train_loss = total_loss / len(train_loader)\n",
    "\n",
    "    # Validation\n",
    "    val_accuracy, val_f1 = bert_evaluate(model, val_loader)\n",
    "\n",
    "    print(f'Epoch {epoch+1}/{num_epochs}')\n",
    "    print(f'Training Loss: {avg_train_loss:.4f}')\n",
    "    print(f'Validation Accuracy: {val_accuracy:.4f}')\n",
    "    print(f'Validation F1 Score: {val_f1:.4f}')\n",
    "\n",
    "    # Check for improvement\n",
    "    if val_f1 > best_val_f1:\n",
    "        best_val_f1 = val_f1\n",
    "        epochs_no_improve = 0\n",
    "        torch.save(model.state_dict(), best_model_path)\n",
    "        print('Validation F1 improved, saving model.')\n",
    "    else:\n",
    "        epochs_no_improve += 1\n",
    "        print(f'No improvement in validation F1 for {epochs_no_improve} epoch(s).')\n",
    "        if epochs_no_improve >= patience:\n",
    "            print('Early stopping triggered!')\n",
    "            break\n",
    "\n",
    "# Load the best model\n",
    "model.load_state_dict(torch.load(best_model_path))\n",
    "model.to(device)\n",
    "\n",
    "# Evaluate on test set\n",
    "test_accuracy, test_f1 = bert_evaluate(model, test_loader)\n",
    "print(f'\\nTest Accuracy: {test_accuracy:.4f}')\n",
    "print(f'Test F1 Score: {test_f1:.4f}')"
   ]
  },
  {
   "cell_type": "markdown",
   "metadata": {},
   "source": [
    "### Part 3.5.2 Improvement Strategy 2: Modified GloVe Embeddings with Sentiment Scores"
   ]
  },
  {
   "cell_type": "code",
   "execution_count": 74,
   "metadata": {},
   "outputs": [],
   "source": [
    "afinn = Afinn()\n",
    "\n",
    "# Function to fetch sentiment score\n",
    "def get_sentiment_score(word):\n",
    "    return afinn.score(word)"
   ]
  },
  {
   "cell_type": "code",
   "execution_count": 75,
   "metadata": {},
   "outputs": [
    {
     "name": "stderr",
     "output_type": "stream",
     "text": [
      "[nltk_data] Downloading package punkt to\n",
      "[nltk_data]     C:\\Users\\zheng\\AppData\\Roaming\\nltk_data...\n",
      "[nltk_data]   Package punkt is already up-to-date!\n"
     ]
    }
   ],
   "source": [
    "nltk.download('punkt')\n",
    "\n",
    "# Load the dataset\n",
    "dataset = load_dataset(\"rotten_tomatoes\")\n",
    "train_raw = dataset['train']\n",
    "validation_raw = dataset['validation']\n",
    "test_raw = dataset['test']\n",
    "\n",
    "# Build the vocabulary from training data\n",
    "vocabulary = set()\n",
    "for text in train_raw['text']:\n",
    "    tokens = word_tokenize(text.lower())\n",
    "    vocabulary.update(tokens)\n",
    "\n",
    "# Add special tokens\n",
    "vocabulary.add('<unk>')\n",
    "vocabulary.add('<pad>')\n",
    "\n",
    "# Create mappings between words and indices\n",
    "word2idx = {word: idx for idx, word in enumerate(vocabulary)}\n",
    "idx2word = {idx: word for word, idx in word2idx.items()}\n",
    "\n",
    "# Initialize the embedding matrix with an extra dimension for sentiment scores\n",
    "embedding_dim = 100 + 1  # Original dimensionality of GloVe embeddings + 1 for sentiment score\n",
    "vocab_size = len(word2idx)\n",
    "# embedding_matrix = np.zeros((vocab_size, embedding_dim))  # Initialize with zeros\n",
    "embedding_matrix = np.random.uniform(-0.05, 0.05, (vocab_size, embedding_dim))\n",
    "\n",
    "# Load GloVe embeddings and include sentiment scores\n",
    "glove_path = 'glove.6B.100d.txt'  # Make sure the path is correct\n",
    "with open(glove_path, 'r', encoding='utf8') as f:\n",
    "    for line in f:\n",
    "        values = line.strip().split()\n",
    "        if len(values) == embedding_dim:  # This should be just the embedding dimensions without sentiment score\n",
    "            word = values[0]\n",
    "            vector = np.asarray(values[1:], dtype='float32')\n",
    "            if word in word2idx:\n",
    "                idx = word2idx[word]\n",
    "                embedding_matrix[idx, :-1] = vector  # Exclude the last dimension for sentiment score\n",
    "                embedding_matrix[idx, -1] = get_sentiment_score(word)  # Add sentiment score in the last dimension\n",
    "\n",
    "# Set the embedding for '<pad>' token to zeros (including sentiment score)\n",
    "pad_idx = word2idx['<pad>']\n",
    "embedding_matrix[pad_idx] = np.zeros(embedding_dim)"
   ]
  },
  {
   "cell_type": "code",
   "execution_count": 76,
   "metadata": {},
   "outputs": [],
   "source": [
    "# Create datasets for training, validation, and testing\n",
    "train_dataset = SentimentDataset(train_raw['text'], train_raw['label'], word2idx)\n",
    "val_dataset = SentimentDataset(validation_raw['text'], validation_raw['label'], word2idx)\n",
    "test_dataset = SentimentDataset(test_raw['text'], test_raw['label'], word2idx)\n",
    "\n",
    "# Create DataLoaders for training, validation, and testing\n",
    "batch_size = 128\n",
    "train_loader = DataLoader(train_dataset, batch_size=batch_size, shuffle=True, collate_fn=collate_fn)\n",
    "val_loader = DataLoader(val_dataset, batch_size=batch_size, shuffle=False, collate_fn=collate_fn)\n",
    "test_loader = DataLoader(test_dataset, batch_size=batch_size, shuffle=False, collate_fn=collate_fn)"
   ]
  },
  {
   "cell_type": "code",
   "execution_count": 77,
   "metadata": {},
   "outputs": [],
   "source": [
    "class SentimentLSTM(nn.Module):\n",
    "    def __init__(self, embedding_matrix):\n",
    "        super(SentimentLSTM, self).__init__()\n",
    "        vocab_size, embedding_dim = embedding_matrix.shape\n",
    "        self.embedding = nn.Embedding.from_pretrained(torch.tensor(embedding_matrix, dtype=torch.float32), freeze= False)\n",
    "        self.lstm = nn.LSTM(embedding_dim, hidden_size=256, batch_first=True, bidirectional=True, num_layers=1, dropout=0.5)\n",
    "        self.fc1 = nn.Linear(512, 128)\n",
    "        self.fc2 = nn.Linear(128, 1)\n",
    "        self.dropout = nn.Dropout(0.3)\n",
    "        self.relu = nn.ReLU()\n",
    "    \n",
    "    def forward(self, x):\n",
    "        embeds = self.embedding(x)\n",
    "        lstm_out, (h_n, c_n) = self.lstm(embeds)\n",
    "\n",
    "        out, _ = torch.max(lstm_out, dim=1)\n",
    "        # Concatenate the final hidden states from both directions\n",
    "        # out = torch.cat((h_n[-2,:,:], h_n[-1,:,:]), dim=1)\n",
    "        \n",
    "        out = self.dropout(out)\n",
    "        out = self.relu(self.fc1(out))\n",
    "        out = self.dropout(out)\n",
    "        out = torch.sigmoid(self.fc2(out))\n",
    "        return out.squeeze()"
   ]
  },
  {
   "cell_type": "code",
   "execution_count": 78,
   "metadata": {},
   "outputs": [
    {
     "name": "stderr",
     "output_type": "stream",
     "text": [
      "c:\\Users\\zheng\\anaconda3\\envs\\nlp2\\Lib\\site-packages\\torch\\nn\\modules\\rnn.py:123: UserWarning: dropout option adds dropout after all but last recurrent layer, so non-zero dropout expects num_layers greater than 1, but got dropout=0.5 and num_layers=1\n",
      "  warnings.warn(\n",
      "100%|██████████| 67/67 [00:02<00:00, 27.21it/s]\n",
      "100%|██████████| 9/9 [00:00<00:00, 41.39it/s]\n"
     ]
    },
    {
     "name": "stdout",
     "output_type": "stream",
     "text": [
      "Epoch [1/30], Training Loss: 0.6053, Validation Accuracy: 0.7289, Validation Loss: 0.5367, Best Val Loss: inf\n"
     ]
    },
    {
     "name": "stderr",
     "output_type": "stream",
     "text": [
      "100%|██████████| 67/67 [00:02<00:00, 26.94it/s]\n",
      "100%|██████████| 9/9 [00:00<00:00, 39.93it/s]\n"
     ]
    },
    {
     "name": "stdout",
     "output_type": "stream",
     "text": [
      "Epoch [2/30], Training Loss: 0.4732, Validation Accuracy: 0.7758, Validation Loss: 0.4782, Best Val Loss: 0.5367\n"
     ]
    },
    {
     "name": "stderr",
     "output_type": "stream",
     "text": [
      "100%|██████████| 67/67 [00:02<00:00, 28.42it/s]\n",
      "100%|██████████| 9/9 [00:00<00:00, 44.90it/s]\n"
     ]
    },
    {
     "name": "stdout",
     "output_type": "stream",
     "text": [
      "Epoch [3/30], Training Loss: 0.3939, Validation Accuracy: 0.7617, Validation Loss: 0.4814, Best Val Loss: 0.4782\n"
     ]
    },
    {
     "name": "stderr",
     "output_type": "stream",
     "text": [
      "100%|██████████| 67/67 [00:02<00:00, 26.75it/s]\n",
      "100%|██████████| 9/9 [00:00<00:00, 38.90it/s]\n"
     ]
    },
    {
     "name": "stdout",
     "output_type": "stream",
     "text": [
      "Epoch [4/30], Training Loss: 0.3381, Validation Accuracy: 0.7458, Validation Loss: 0.5899, Best Val Loss: 0.4782\n"
     ]
    },
    {
     "name": "stderr",
     "output_type": "stream",
     "text": [
      "100%|██████████| 67/67 [00:02<00:00, 26.21it/s]\n",
      "100%|██████████| 9/9 [00:00<00:00, 43.18it/s]\n"
     ]
    },
    {
     "name": "stdout",
     "output_type": "stream",
     "text": [
      "Epoch [5/30], Training Loss: 0.2581, Validation Accuracy: 0.7702, Validation Loss: 0.4931, Best Val Loss: 0.4782\n"
     ]
    },
    {
     "name": "stderr",
     "output_type": "stream",
     "text": [
      "100%|██████████| 67/67 [00:02<00:00, 27.06it/s]\n",
      "100%|██████████| 9/9 [00:00<00:00, 42.77it/s]\n"
     ]
    },
    {
     "name": "stdout",
     "output_type": "stream",
     "text": [
      "Epoch [6/30], Training Loss: 0.1750, Validation Accuracy: 0.7842, Validation Loss: 0.5681, Best Val Loss: 0.4782\n"
     ]
    },
    {
     "name": "stderr",
     "output_type": "stream",
     "text": [
      "100%|██████████| 67/67 [00:02<00:00, 28.30it/s]\n",
      "100%|██████████| 9/9 [00:00<00:00, 39.93it/s]\n"
     ]
    },
    {
     "name": "stdout",
     "output_type": "stream",
     "text": [
      "Epoch [7/30], Training Loss: 0.1288, Validation Accuracy: 0.7805, Validation Loss: 0.6163, Best Val Loss: 0.4782\n",
      "Early stopping!\n"
     ]
    },
    {
     "data": {
      "image/png": "[encoded data removed]",
      "text/plain": [
       "<Figure size 1000x500 with 1 Axes>"
      ]
     },
     "metadata": {},
     "output_type": "display_data"
    },
    {
     "data": {
      "text/plain": [
       "SentimentLSTM(\n",
       "  (embedding): Embedding(18031, 101)\n",
       "  (lstm): LSTM(101, 256, batch_first=True, dropout=0.5, bidirectional=True)\n",
       "  (fc1): Linear(in_features=512, out_features=128, bias=True)\n",
       "  (fc2): Linear(in_features=128, out_features=1, bias=True)\n",
       "  (dropout): Dropout(p=0.3, inplace=False)\n",
       "  (relu): ReLU()\n",
       ")"
      ]
     },
     "execution_count": 78,
     "metadata": {},
     "output_type": "execute_result"
    }
   ],
   "source": [
    "# Instantiate the model\n",
    "biLSTM = SentimentLSTM(embedding_matrix)\n",
    "\n",
    "# Set device to GPU if available\n",
    "device = torch.device('cuda' if torch.cuda.is_available() else 'cpu')\n",
    "biLSTM.to(device)\n",
    "\n",
    "# Define loss function and optimizer\n",
    "criterion = nn.BCELoss()\n",
    "optimizer = torch.optim.Adam(biLSTM.parameters(), lr=0.001, weight_decay=1e-4)\n",
    "scheduler = torch.optim.lr_scheduler.ReduceLROnPlateau(optimizer, 'max', patience=2, factor=0.5, verbose=True)\n",
    "\n",
    "# Training loop with validation and early stopping\n",
    "num_epochs = 30\n",
    "patience = 5  # Early stopping patience\n",
    "\n",
    "train_model(biLSTM,'bilstm', num_epochs, optimizer, scheduler, criterion, patience, train_loader, val_loader, device)"
   ]
  },
  {
   "cell_type": "code",
   "execution_count": 79,
   "metadata": {},
   "outputs": [
    {
     "name": "stderr",
     "output_type": "stream",
     "text": [
      "C:\\Users\\zheng\\AppData\\Local\\Temp\\ipykernel_49844\\3829958270.py:2: FutureWarning: You are using `torch.load` with `weights_only=False` (the current default value), which uses the default pickle module implicitly. It is possible to construct malicious pickle data which will execute arbitrary code during unpickling (See https://github.com/pytorch/pytorch/blob/main/SECURITY.md#untrusted-models for more details). In a future release, the default value for `weights_only` will be flipped to `True`. This limits the functions that could be executed during unpickling. Arbitrary objects will no longer be allowed to be loaded via this mode unless they are explicitly allowlisted by the user via `torch.serialization.add_safe_globals`. We recommend you start setting `weights_only=True` for any use case where you don't have full control of the loaded file. Please open an issue on GitHub for any issues related to this experimental feature.\n",
      "  biLSTM.load_state_dict(torch.load('bilstm_model.pt'))\n",
      "100%|██████████| 9/9 [00:00<00:00, 30.49it/s]"
     ]
    },
    {
     "name": "stdout",
     "output_type": "stream",
     "text": [
      "Accuracy Score on Test dataset: 0.7936\n"
     ]
    },
    {
     "name": "stderr",
     "output_type": "stream",
     "text": [
      "\n"
     ]
    }
   ],
   "source": [
    "# Load the best model and evaluate on the test set\n",
    "biLSTM.load_state_dict(torch.load('bilstm_model.pt'))\n",
    "test_model(biLSTM,device, test_loader)"
   ]
  },
  {
   "cell_type": "code",
   "execution_count": null,
   "metadata": {},
   "outputs": [],
   "source": []
  }
 ],
 "metadata": {
  "kernelspec": {
   "display_name": "Python 3 (ipykernel)",
   "language": "python",
   "name": "python3"
  },
  "language_info": {
   "codemirror_mode": {
    "name": "ipython",
    "version": 3
   },
   "file_extension": ".py",
   "mimetype": "text/x-python",
   "name": "python",
   "nbconvert_exporter": "python",
   "pygments_lexer": "ipython3",
   "version": "3.11.5"
  }
 },
 "nbformat": 4,
 "nbformat_minor": 2
}
